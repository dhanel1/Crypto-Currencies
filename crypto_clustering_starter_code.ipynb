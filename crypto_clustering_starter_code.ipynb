{
 "cells": [
  {
   "cell_type": "markdown",
   "metadata": {},
   "source": [
    "# Clustering Crypto"
   ]
  },
  {
   "cell_type": "code",
   "execution_count": 62,
   "metadata": {},
   "outputs": [
    {
     "name": "stdout",
     "output_type": "stream",
     "text": [
      "Requirement already satisfied: hvplot in c:\\users\\dlh\\anaconda4\\lib\\site-packages (0.7.0)\n",
      "Requirement already satisfied: pandas in c:\\users\\dlh\\anaconda4\\lib\\site-packages (from hvplot) (1.0.5)\n",
      "Requirement already satisfied: numpy>=1.15 in c:\\users\\dlh\\anaconda4\\lib\\site-packages (from hvplot) (1.19.5)\n",
      "Requirement already satisfied: colorcet>=2 in c:\\users\\dlh\\anaconda4\\lib\\site-packages (from hvplot) (2.0.6)\n",
      "Requirement already satisfied: holoviews>=1.11.0 in c:\\users\\dlh\\anaconda4\\lib\\site-packages (from hvplot) (1.14.1)\n",
      "Requirement already satisfied: bokeh>=1.0.0 in c:\\users\\dlh\\anaconda4\\lib\\site-packages (from hvplot) (2.3.0)\n",
      "Requirement already satisfied: pillow>=7.1.0 in c:\\users\\dlh\\anaconda4\\lib\\site-packages (from bokeh>=1.0.0->hvplot) (7.2.0)\n",
      "Requirement already satisfied: packaging>=16.8 in c:\\users\\dlh\\anaconda4\\lib\\site-packages (from bokeh>=1.0.0->hvplot) (20.4)\n",
      "Requirement already satisfied: python-dateutil>=2.1 in c:\\users\\dlh\\anaconda4\\lib\\site-packages (from bokeh>=1.0.0->hvplot) (2.8.1)\n",
      "Requirement already satisfied: tornado>=5.1 in c:\\users\\dlh\\anaconda4\\lib\\site-packages (from bokeh>=1.0.0->hvplot) (6.0.4)\n",
      "Requirement already satisfied: Jinja2>=2.7 in c:\\users\\dlh\\anaconda4\\lib\\site-packages (from bokeh>=1.0.0->hvplot) (2.11.2)\n",
      "Requirement already satisfied: typing-extensions>=3.7.4 in c:\\users\\dlh\\anaconda4\\lib\\site-packages (from bokeh>=1.0.0->hvplot) (3.7.4.2)\n",
      "Requirement already satisfied: PyYAML>=3.10 in c:\\users\\dlh\\anaconda4\\lib\\site-packages (from bokeh>=1.0.0->hvplot) (5.3.1)\n",
      "Requirement already satisfied: param>=1.7.0 in c:\\users\\dlh\\anaconda4\\lib\\site-packages (from colorcet>=2->hvplot) (1.10.1)\n",
      "Requirement already satisfied: pyct>=0.4.4 in c:\\users\\dlh\\anaconda4\\lib\\site-packages (from colorcet>=2->hvplot) (0.4.8)\n",
      "Requirement already satisfied: panel>=0.8.0 in c:\\users\\dlh\\anaconda4\\lib\\site-packages (from holoviews>=1.11.0->hvplot) (0.10.3)\n",
      "Requirement already satisfied: pyviz-comms>=0.7.3 in c:\\users\\dlh\\anaconda4\\lib\\site-packages (from holoviews>=1.11.0->hvplot) (2.0.1)\n",
      "Requirement already satisfied: MarkupSafe>=0.23 in c:\\users\\dlh\\anaconda4\\lib\\site-packages (from Jinja2>=2.7->bokeh>=1.0.0->hvplot) (1.1.1)\n",
      "Requirement already satisfied: pyparsing>=2.0.2 in c:\\users\\dlh\\anaconda4\\lib\\site-packages (from packaging>=16.8->bokeh>=1.0.0->hvplot) (2.4.7)\n",
      "Requirement already satisfied: six in c:\\users\\dlh\\anaconda4\\lib\\site-packages (from packaging>=16.8->bokeh>=1.0.0->hvplot) (1.15.0)\n",
      "Requirement already satisfied: tqdm in c:\\users\\dlh\\anaconda4\\lib\\site-packages (from panel>=0.8.0->holoviews>=1.11.0->hvplot) (4.47.0)\n",
      "Requirement already satisfied: requests in c:\\users\\dlh\\anaconda4\\lib\\site-packages (from panel>=0.8.0->holoviews>=1.11.0->hvplot) (2.24.0)\n",
      "Requirement already satisfied: markdown in c:\\users\\dlh\\anaconda4\\lib\\site-packages (from panel>=0.8.0->holoviews>=1.11.0->hvplot) (3.3.3)\n",
      "Requirement already satisfied: pytz>=2017.2 in c:\\users\\dlh\\anaconda4\\lib\\site-packages (from pandas->hvplot) (2020.1)\n",
      "Requirement already satisfied: idna<3,>=2.5 in c:\\users\\dlh\\anaconda4\\lib\\site-packages (from requests->panel>=0.8.0->holoviews>=1.11.0->hvplot) (2.10)\n",
      "Requirement already satisfied: urllib3!=1.25.0,!=1.25.1,<1.26,>=1.21.1 in c:\\users\\dlh\\anaconda4\\lib\\site-packages (from requests->panel>=0.8.0->holoviews>=1.11.0->hvplot) (1.25.9)\n",
      "Requirement already satisfied: chardet<4,>=3.0.2 in c:\\users\\dlh\\anaconda4\\lib\\site-packages (from requests->panel>=0.8.0->holoviews>=1.11.0->hvplot) (3.0.4)\n",
      "Requirement already satisfied: certifi>=2017.4.17 in c:\\users\\dlh\\anaconda4\\lib\\site-packages (from requests->panel>=0.8.0->holoviews>=1.11.0->hvplot) (2020.6.20)\n",
      "Requirement already satisfied: bokeh in c:\\users\\dlh\\anaconda4\\lib\\site-packages (2.3.0)\n",
      "Requirement already satisfied: typing-extensions>=3.7.4 in c:\\users\\dlh\\anaconda4\\lib\\site-packages (from bokeh) (3.7.4.2)\n",
      "Requirement already satisfied: numpy>=1.11.3 in c:\\users\\dlh\\anaconda4\\lib\\site-packages (from bokeh) (1.19.5)\n",
      "Requirement already satisfied: PyYAML>=3.10 in c:\\users\\dlh\\anaconda4\\lib\\site-packages (from bokeh) (5.3.1)\n",
      "Requirement already satisfied: python-dateutil>=2.1 in c:\\users\\dlh\\anaconda4\\lib\\site-packages (from bokeh) (2.8.1)\n",
      "Requirement already satisfied: Jinja2>=2.7 in c:\\users\\dlh\\anaconda4\\lib\\site-packages (from bokeh) (2.11.2)\n",
      "Requirement already satisfied: tornado>=5.1 in c:\\users\\dlh\\anaconda4\\lib\\site-packages (from bokeh) (6.0.4)\n",
      "Requirement already satisfied: pillow>=7.1.0 in c:\\users\\dlh\\anaconda4\\lib\\site-packages (from bokeh) (7.2.0)\n",
      "Requirement already satisfied: packaging>=16.8 in c:\\users\\dlh\\anaconda4\\lib\\site-packages (from bokeh) (20.4)\n",
      "Requirement already satisfied: MarkupSafe>=0.23 in c:\\users\\dlh\\anaconda4\\lib\\site-packages (from Jinja2>=2.7->bokeh) (1.1.1)\n",
      "Requirement already satisfied: six in c:\\users\\dlh\\anaconda4\\lib\\site-packages (from packaging>=16.8->bokeh) (1.15.0)\n",
      "Requirement already satisfied: pyparsing>=2.0.2 in c:\\users\\dlh\\anaconda4\\lib\\site-packages (from packaging>=16.8->bokeh) (2.4.7)\n",
      "Collecting plotly\n",
      "  Downloading plotly-4.14.3-py2.py3-none-any.whl (13.2 MB)\n",
      "Requirement already satisfied: six in c:\\users\\dlh\\anaconda4\\lib\\site-packages (from plotly) (1.15.0)\n",
      "Collecting retrying>=1.3.3\n",
      "  Downloading retrying-1.3.3.tar.gz (10 kB)\n",
      "Building wheels for collected packages: retrying\n",
      "  Building wheel for retrying (setup.py): started\n",
      "  Building wheel for retrying (setup.py): finished with status 'done'\n",
      "  Created wheel for retrying: filename=retrying-1.3.3-py3-none-any.whl size=11429 sha256=76ec09d5d65b4a9574d33038cfb10bc59e19f0081d72eb040ebe77bc527c8d89\n",
      "  Stored in directory: c:\\users\\dlh\\appdata\\local\\pip\\cache\\wheels\\c4\\a7\\48\\0a434133f6d56e878ca511c0e6c38326907c0792f67b476e56\n",
      "Successfully built retrying\n",
      "Installing collected packages: retrying, plotly\n",
      "Successfully installed plotly-4.14.3 retrying-1.3.3\n"
     ]
    }
   ],
   "source": [
    "# Initial imports\n",
    "import pandas as pd\n",
    "!pip install hvplot\n",
    "!pip install bokeh\n",
    "!pip install plotly\n",
    "\n",
    "#!conda install -c pyviz hvplot\n",
    "import hvplot.pandas\n",
    "from path import Path\n",
    "import plotly.express as px\n",
    "from sklearn.preprocessing import StandardScaler, MinMaxScaler\n",
    "from sklearn.decomposition import PCA\n",
    "from sklearn.cluster import KMeans\n"
   ]
  },
  {
   "cell_type": "markdown",
   "metadata": {},
   "source": [
    "### Deliverable 1: Preprocessing the Data for PCA"
   ]
  },
  {
   "cell_type": "code",
   "execution_count": 69,
   "metadata": {},
   "outputs": [
    {
     "data": {
      "text/html": [
       "<div>\n",
       "<style scoped>\n",
       "    .dataframe tbody tr th:only-of-type {\n",
       "        vertical-align: middle;\n",
       "    }\n",
       "\n",
       "    .dataframe tbody tr th {\n",
       "        vertical-align: top;\n",
       "    }\n",
       "\n",
       "    .dataframe thead th {\n",
       "        text-align: right;\n",
       "    }\n",
       "</style>\n",
       "<table border=\"1\" class=\"dataframe\">\n",
       "  <thead>\n",
       "    <tr style=\"text-align: right;\">\n",
       "      <th></th>\n",
       "      <th>Unnamed: 0</th>\n",
       "      <th>CoinName</th>\n",
       "      <th>Algorithm</th>\n",
       "      <th>IsTrading</th>\n",
       "      <th>ProofType</th>\n",
       "      <th>TotalCoinsMined</th>\n",
       "      <th>TotalCoinSupply</th>\n",
       "    </tr>\n",
       "  </thead>\n",
       "  <tbody>\n",
       "    <tr>\n",
       "      <th>0</th>\n",
       "      <td>42</td>\n",
       "      <td>42 Coin</td>\n",
       "      <td>Scrypt</td>\n",
       "      <td>True</td>\n",
       "      <td>PoW/PoS</td>\n",
       "      <td>4.199995e+01</td>\n",
       "      <td>42</td>\n",
       "    </tr>\n",
       "    <tr>\n",
       "      <th>1</th>\n",
       "      <td>365</td>\n",
       "      <td>365Coin</td>\n",
       "      <td>X11</td>\n",
       "      <td>True</td>\n",
       "      <td>PoW/PoS</td>\n",
       "      <td>NaN</td>\n",
       "      <td>2300000000</td>\n",
       "    </tr>\n",
       "    <tr>\n",
       "      <th>2</th>\n",
       "      <td>404</td>\n",
       "      <td>404Coin</td>\n",
       "      <td>Scrypt</td>\n",
       "      <td>True</td>\n",
       "      <td>PoW/PoS</td>\n",
       "      <td>1.055185e+09</td>\n",
       "      <td>532000000</td>\n",
       "    </tr>\n",
       "    <tr>\n",
       "      <th>3</th>\n",
       "      <td>611</td>\n",
       "      <td>SixEleven</td>\n",
       "      <td>SHA-256</td>\n",
       "      <td>True</td>\n",
       "      <td>PoW</td>\n",
       "      <td>NaN</td>\n",
       "      <td>611000</td>\n",
       "    </tr>\n",
       "    <tr>\n",
       "      <th>4</th>\n",
       "      <td>808</td>\n",
       "      <td>808</td>\n",
       "      <td>SHA-256</td>\n",
       "      <td>True</td>\n",
       "      <td>PoW/PoS</td>\n",
       "      <td>0.000000e+00</td>\n",
       "      <td>0</td>\n",
       "    </tr>\n",
       "  </tbody>\n",
       "</table>\n",
       "</div>"
      ],
      "text/plain": [
       "  Unnamed: 0   CoinName Algorithm  IsTrading ProofType  TotalCoinsMined  \\\n",
       "0         42    42 Coin    Scrypt       True   PoW/PoS     4.199995e+01   \n",
       "1        365    365Coin       X11       True   PoW/PoS              NaN   \n",
       "2        404    404Coin    Scrypt       True   PoW/PoS     1.055185e+09   \n",
       "3        611  SixEleven   SHA-256       True       PoW              NaN   \n",
       "4        808        808   SHA-256       True   PoW/PoS     0.000000e+00   \n",
       "\n",
       "  TotalCoinSupply  \n",
       "0              42  \n",
       "1      2300000000  \n",
       "2       532000000  \n",
       "3          611000  \n",
       "4               0  "
      ]
     },
     "execution_count": 69,
     "metadata": {},
     "output_type": "execute_result"
    }
   ],
   "source": [
    "# Load the crypto_data.csv dataset.\n",
    "crypto_df = pd.read_csv('crypto_data.csv')\n",
    "crypto_df.head()"
   ]
  },
  {
   "cell_type": "code",
   "execution_count": 70,
   "metadata": {},
   "outputs": [
    {
     "data": {
      "text/html": [
       "<div>\n",
       "<style scoped>\n",
       "    .dataframe tbody tr th:only-of-type {\n",
       "        vertical-align: middle;\n",
       "    }\n",
       "\n",
       "    .dataframe tbody tr th {\n",
       "        vertical-align: top;\n",
       "    }\n",
       "\n",
       "    .dataframe thead th {\n",
       "        text-align: right;\n",
       "    }\n",
       "</style>\n",
       "<table border=\"1\" class=\"dataframe\">\n",
       "  <thead>\n",
       "    <tr style=\"text-align: right;\">\n",
       "      <th></th>\n",
       "      <th>Unnamed: 0</th>\n",
       "      <th>CoinName</th>\n",
       "      <th>Algorithm</th>\n",
       "      <th>IsTrading</th>\n",
       "      <th>ProofType</th>\n",
       "      <th>TotalCoinsMined</th>\n",
       "      <th>TotalCoinSupply</th>\n",
       "    </tr>\n",
       "  </thead>\n",
       "  <tbody>\n",
       "    <tr>\n",
       "      <th>0</th>\n",
       "      <td>42</td>\n",
       "      <td>42 Coin</td>\n",
       "      <td>Scrypt</td>\n",
       "      <td>True</td>\n",
       "      <td>PoW/PoS</td>\n",
       "      <td>4.199995e+01</td>\n",
       "      <td>42</td>\n",
       "    </tr>\n",
       "    <tr>\n",
       "      <th>1</th>\n",
       "      <td>365</td>\n",
       "      <td>365Coin</td>\n",
       "      <td>X11</td>\n",
       "      <td>True</td>\n",
       "      <td>PoW/PoS</td>\n",
       "      <td>NaN</td>\n",
       "      <td>2300000000</td>\n",
       "    </tr>\n",
       "    <tr>\n",
       "      <th>2</th>\n",
       "      <td>404</td>\n",
       "      <td>404Coin</td>\n",
       "      <td>Scrypt</td>\n",
       "      <td>True</td>\n",
       "      <td>PoW/PoS</td>\n",
       "      <td>1.055185e+09</td>\n",
       "      <td>532000000</td>\n",
       "    </tr>\n",
       "    <tr>\n",
       "      <th>3</th>\n",
       "      <td>611</td>\n",
       "      <td>SixEleven</td>\n",
       "      <td>SHA-256</td>\n",
       "      <td>True</td>\n",
       "      <td>PoW</td>\n",
       "      <td>NaN</td>\n",
       "      <td>611000</td>\n",
       "    </tr>\n",
       "    <tr>\n",
       "      <th>4</th>\n",
       "      <td>808</td>\n",
       "      <td>808</td>\n",
       "      <td>SHA-256</td>\n",
       "      <td>True</td>\n",
       "      <td>PoW/PoS</td>\n",
       "      <td>0.000000e+00</td>\n",
       "      <td>0</td>\n",
       "    </tr>\n",
       "  </tbody>\n",
       "</table>\n",
       "</div>"
      ],
      "text/plain": [
       "  Unnamed: 0   CoinName Algorithm  IsTrading ProofType  TotalCoinsMined  \\\n",
       "0         42    42 Coin    Scrypt       True   PoW/PoS     4.199995e+01   \n",
       "1        365    365Coin       X11       True   PoW/PoS              NaN   \n",
       "2        404    404Coin    Scrypt       True   PoW/PoS     1.055185e+09   \n",
       "3        611  SixEleven   SHA-256       True       PoW              NaN   \n",
       "4        808        808   SHA-256       True   PoW/PoS     0.000000e+00   \n",
       "\n",
       "  TotalCoinSupply  \n",
       "0              42  \n",
       "1      2300000000  \n",
       "2       532000000  \n",
       "3          611000  \n",
       "4               0  "
      ]
     },
     "execution_count": 70,
     "metadata": {},
     "output_type": "execute_result"
    }
   ],
   "source": [
    "# Keep all the cryptocurrencies that are being traded.\n",
    "# YOUR CODE HERE\n",
    "crypto_df = crypto_df[crypto_df[\"IsTrading\"]]\n",
    "crypto_df.head()"
   ]
  },
  {
   "cell_type": "code",
   "execution_count": 71,
   "metadata": {},
   "outputs": [
    {
     "data": {
      "text/html": [
       "<div>\n",
       "<style scoped>\n",
       "    .dataframe tbody tr th:only-of-type {\n",
       "        vertical-align: middle;\n",
       "    }\n",
       "\n",
       "    .dataframe tbody tr th {\n",
       "        vertical-align: top;\n",
       "    }\n",
       "\n",
       "    .dataframe thead th {\n",
       "        text-align: right;\n",
       "    }\n",
       "</style>\n",
       "<table border=\"1\" class=\"dataframe\">\n",
       "  <thead>\n",
       "    <tr style=\"text-align: right;\">\n",
       "      <th></th>\n",
       "      <th>Unnamed: 0</th>\n",
       "      <th>CoinName</th>\n",
       "      <th>Algorithm</th>\n",
       "      <th>IsTrading</th>\n",
       "      <th>ProofType</th>\n",
       "      <th>TotalCoinsMined</th>\n",
       "      <th>TotalCoinSupply</th>\n",
       "    </tr>\n",
       "  </thead>\n",
       "  <tbody>\n",
       "    <tr>\n",
       "      <th>0</th>\n",
       "      <td>42</td>\n",
       "      <td>42 Coin</td>\n",
       "      <td>Scrypt</td>\n",
       "      <td>True</td>\n",
       "      <td>PoW/PoS</td>\n",
       "      <td>4.199995e+01</td>\n",
       "      <td>42</td>\n",
       "    </tr>\n",
       "    <tr>\n",
       "      <th>1</th>\n",
       "      <td>365</td>\n",
       "      <td>365Coin</td>\n",
       "      <td>X11</td>\n",
       "      <td>True</td>\n",
       "      <td>PoW/PoS</td>\n",
       "      <td>NaN</td>\n",
       "      <td>2300000000</td>\n",
       "    </tr>\n",
       "    <tr>\n",
       "      <th>2</th>\n",
       "      <td>404</td>\n",
       "      <td>404Coin</td>\n",
       "      <td>Scrypt</td>\n",
       "      <td>True</td>\n",
       "      <td>PoW/PoS</td>\n",
       "      <td>1.055185e+09</td>\n",
       "      <td>532000000</td>\n",
       "    </tr>\n",
       "    <tr>\n",
       "      <th>3</th>\n",
       "      <td>611</td>\n",
       "      <td>SixEleven</td>\n",
       "      <td>SHA-256</td>\n",
       "      <td>True</td>\n",
       "      <td>PoW</td>\n",
       "      <td>NaN</td>\n",
       "      <td>611000</td>\n",
       "    </tr>\n",
       "    <tr>\n",
       "      <th>4</th>\n",
       "      <td>808</td>\n",
       "      <td>808</td>\n",
       "      <td>SHA-256</td>\n",
       "      <td>True</td>\n",
       "      <td>PoW/PoS</td>\n",
       "      <td>0.000000e+00</td>\n",
       "      <td>0</td>\n",
       "    </tr>\n",
       "  </tbody>\n",
       "</table>\n",
       "</div>"
      ],
      "text/plain": [
       "  Unnamed: 0   CoinName Algorithm  IsTrading ProofType  TotalCoinsMined  \\\n",
       "0         42    42 Coin    Scrypt       True   PoW/PoS     4.199995e+01   \n",
       "1        365    365Coin       X11       True   PoW/PoS              NaN   \n",
       "2        404    404Coin    Scrypt       True   PoW/PoS     1.055185e+09   \n",
       "3        611  SixEleven   SHA-256       True       PoW              NaN   \n",
       "4        808        808   SHA-256       True   PoW/PoS     0.000000e+00   \n",
       "\n",
       "  TotalCoinSupply  \n",
       "0              42  \n",
       "1      2300000000  \n",
       "2       532000000  \n",
       "3          611000  \n",
       "4               0  "
      ]
     },
     "execution_count": 71,
     "metadata": {},
     "output_type": "execute_result"
    }
   ],
   "source": [
    "# Keep all the cryptocurrencies that have a working algorithm.\n",
    "# YOUR CODE HERE\n",
    "crypto_df = crypto_df[~crypto_df[\"Algorithm\"].isnull()]\n",
    "crypto_df.head()\n"
   ]
  },
  {
   "cell_type": "code",
   "execution_count": 72,
   "metadata": {},
   "outputs": [
    {
     "data": {
      "text/html": [
       "<div>\n",
       "<style scoped>\n",
       "    .dataframe tbody tr th:only-of-type {\n",
       "        vertical-align: middle;\n",
       "    }\n",
       "\n",
       "    .dataframe tbody tr th {\n",
       "        vertical-align: top;\n",
       "    }\n",
       "\n",
       "    .dataframe thead th {\n",
       "        text-align: right;\n",
       "    }\n",
       "</style>\n",
       "<table border=\"1\" class=\"dataframe\">\n",
       "  <thead>\n",
       "    <tr style=\"text-align: right;\">\n",
       "      <th></th>\n",
       "      <th>Unnamed: 0</th>\n",
       "      <th>CoinName</th>\n",
       "      <th>Algorithm</th>\n",
       "      <th>ProofType</th>\n",
       "      <th>TotalCoinsMined</th>\n",
       "      <th>TotalCoinSupply</th>\n",
       "    </tr>\n",
       "  </thead>\n",
       "  <tbody>\n",
       "    <tr>\n",
       "      <th>0</th>\n",
       "      <td>42</td>\n",
       "      <td>42 Coin</td>\n",
       "      <td>Scrypt</td>\n",
       "      <td>PoW/PoS</td>\n",
       "      <td>4.199995e+01</td>\n",
       "      <td>42</td>\n",
       "    </tr>\n",
       "    <tr>\n",
       "      <th>1</th>\n",
       "      <td>365</td>\n",
       "      <td>365Coin</td>\n",
       "      <td>X11</td>\n",
       "      <td>PoW/PoS</td>\n",
       "      <td>NaN</td>\n",
       "      <td>2300000000</td>\n",
       "    </tr>\n",
       "    <tr>\n",
       "      <th>2</th>\n",
       "      <td>404</td>\n",
       "      <td>404Coin</td>\n",
       "      <td>Scrypt</td>\n",
       "      <td>PoW/PoS</td>\n",
       "      <td>1.055185e+09</td>\n",
       "      <td>532000000</td>\n",
       "    </tr>\n",
       "    <tr>\n",
       "      <th>3</th>\n",
       "      <td>611</td>\n",
       "      <td>SixEleven</td>\n",
       "      <td>SHA-256</td>\n",
       "      <td>PoW</td>\n",
       "      <td>NaN</td>\n",
       "      <td>611000</td>\n",
       "    </tr>\n",
       "    <tr>\n",
       "      <th>4</th>\n",
       "      <td>808</td>\n",
       "      <td>808</td>\n",
       "      <td>SHA-256</td>\n",
       "      <td>PoW/PoS</td>\n",
       "      <td>0.000000e+00</td>\n",
       "      <td>0</td>\n",
       "    </tr>\n",
       "  </tbody>\n",
       "</table>\n",
       "</div>"
      ],
      "text/plain": [
       "  Unnamed: 0   CoinName Algorithm ProofType  TotalCoinsMined TotalCoinSupply\n",
       "0         42    42 Coin    Scrypt   PoW/PoS     4.199995e+01              42\n",
       "1        365    365Coin       X11   PoW/PoS              NaN      2300000000\n",
       "2        404    404Coin    Scrypt   PoW/PoS     1.055185e+09       532000000\n",
       "3        611  SixEleven   SHA-256       PoW              NaN          611000\n",
       "4        808        808   SHA-256   PoW/PoS     0.000000e+00               0"
      ]
     },
     "execution_count": 72,
     "metadata": {},
     "output_type": "execute_result"
    }
   ],
   "source": [
    "# Remove the \"IsTrading\" column. \n",
    "# YOUR CODE HERE\n",
    "crypto_df = crypto_df.drop(columns=\"IsTrading\")\n",
    "crypto_df.head()"
   ]
  },
  {
   "cell_type": "code",
   "execution_count": 73,
   "metadata": {},
   "outputs": [
    {
     "data": {
      "text/html": [
       "<div>\n",
       "<style scoped>\n",
       "    .dataframe tbody tr th:only-of-type {\n",
       "        vertical-align: middle;\n",
       "    }\n",
       "\n",
       "    .dataframe tbody tr th {\n",
       "        vertical-align: top;\n",
       "    }\n",
       "\n",
       "    .dataframe thead th {\n",
       "        text-align: right;\n",
       "    }\n",
       "</style>\n",
       "<table border=\"1\" class=\"dataframe\">\n",
       "  <thead>\n",
       "    <tr style=\"text-align: right;\">\n",
       "      <th></th>\n",
       "      <th>Unnamed: 0</th>\n",
       "      <th>CoinName</th>\n",
       "      <th>Algorithm</th>\n",
       "      <th>ProofType</th>\n",
       "      <th>TotalCoinsMined</th>\n",
       "      <th>TotalCoinSupply</th>\n",
       "    </tr>\n",
       "  </thead>\n",
       "  <tbody>\n",
       "    <tr>\n",
       "      <th>0</th>\n",
       "      <td>42</td>\n",
       "      <td>42 Coin</td>\n",
       "      <td>Scrypt</td>\n",
       "      <td>PoW/PoS</td>\n",
       "      <td>4.199995e+01</td>\n",
       "      <td>42</td>\n",
       "    </tr>\n",
       "    <tr>\n",
       "      <th>2</th>\n",
       "      <td>404</td>\n",
       "      <td>404Coin</td>\n",
       "      <td>Scrypt</td>\n",
       "      <td>PoW/PoS</td>\n",
       "      <td>1.055185e+09</td>\n",
       "      <td>532000000</td>\n",
       "    </tr>\n",
       "    <tr>\n",
       "      <th>4</th>\n",
       "      <td>808</td>\n",
       "      <td>808</td>\n",
       "      <td>SHA-256</td>\n",
       "      <td>PoW/PoS</td>\n",
       "      <td>0.000000e+00</td>\n",
       "      <td>0</td>\n",
       "    </tr>\n",
       "    <tr>\n",
       "      <th>5</th>\n",
       "      <td>1337</td>\n",
       "      <td>EliteCoin</td>\n",
       "      <td>X13</td>\n",
       "      <td>PoW/PoS</td>\n",
       "      <td>2.927942e+10</td>\n",
       "      <td>314159265359</td>\n",
       "    </tr>\n",
       "    <tr>\n",
       "      <th>7</th>\n",
       "      <td>BTC</td>\n",
       "      <td>Bitcoin</td>\n",
       "      <td>SHA-256</td>\n",
       "      <td>PoW</td>\n",
       "      <td>1.792718e+07</td>\n",
       "      <td>21000000</td>\n",
       "    </tr>\n",
       "  </tbody>\n",
       "</table>\n",
       "</div>"
      ],
      "text/plain": [
       "  Unnamed: 0   CoinName Algorithm ProofType  TotalCoinsMined TotalCoinSupply\n",
       "0         42    42 Coin    Scrypt   PoW/PoS     4.199995e+01              42\n",
       "2        404    404Coin    Scrypt   PoW/PoS     1.055185e+09       532000000\n",
       "4        808        808   SHA-256   PoW/PoS     0.000000e+00               0\n",
       "5       1337  EliteCoin       X13   PoW/PoS     2.927942e+10    314159265359\n",
       "7        BTC    Bitcoin   SHA-256       PoW     1.792718e+07        21000000"
      ]
     },
     "execution_count": 73,
     "metadata": {},
     "output_type": "execute_result"
    }
   ],
   "source": [
    "# Remove rows that have at least 1 null value.\n",
    "# YOUR CODE HERE\n",
    "crypto_df = crypto_df.dropna(axis=0)\n",
    "crypto_df.head()"
   ]
  },
  {
   "cell_type": "code",
   "execution_count": 74,
   "metadata": {},
   "outputs": [
    {
     "data": {
      "text/html": [
       "<div>\n",
       "<style scoped>\n",
       "    .dataframe tbody tr th:only-of-type {\n",
       "        vertical-align: middle;\n",
       "    }\n",
       "\n",
       "    .dataframe tbody tr th {\n",
       "        vertical-align: top;\n",
       "    }\n",
       "\n",
       "    .dataframe thead th {\n",
       "        text-align: right;\n",
       "    }\n",
       "</style>\n",
       "<table border=\"1\" class=\"dataframe\">\n",
       "  <thead>\n",
       "    <tr style=\"text-align: right;\">\n",
       "      <th></th>\n",
       "      <th>Unnamed: 0</th>\n",
       "      <th>CoinName</th>\n",
       "      <th>Algorithm</th>\n",
       "      <th>ProofType</th>\n",
       "      <th>TotalCoinsMined</th>\n",
       "      <th>TotalCoinSupply</th>\n",
       "    </tr>\n",
       "  </thead>\n",
       "  <tbody>\n",
       "    <tr>\n",
       "      <th>0</th>\n",
       "      <td>42</td>\n",
       "      <td>42 Coin</td>\n",
       "      <td>Scrypt</td>\n",
       "      <td>PoW/PoS</td>\n",
       "      <td>4.199995e+01</td>\n",
       "      <td>42</td>\n",
       "    </tr>\n",
       "    <tr>\n",
       "      <th>2</th>\n",
       "      <td>404</td>\n",
       "      <td>404Coin</td>\n",
       "      <td>Scrypt</td>\n",
       "      <td>PoW/PoS</td>\n",
       "      <td>1.055185e+09</td>\n",
       "      <td>532000000</td>\n",
       "    </tr>\n",
       "    <tr>\n",
       "      <th>5</th>\n",
       "      <td>1337</td>\n",
       "      <td>EliteCoin</td>\n",
       "      <td>X13</td>\n",
       "      <td>PoW/PoS</td>\n",
       "      <td>2.927942e+10</td>\n",
       "      <td>314159265359</td>\n",
       "    </tr>\n",
       "    <tr>\n",
       "      <th>7</th>\n",
       "      <td>BTC</td>\n",
       "      <td>Bitcoin</td>\n",
       "      <td>SHA-256</td>\n",
       "      <td>PoW</td>\n",
       "      <td>1.792718e+07</td>\n",
       "      <td>21000000</td>\n",
       "    </tr>\n",
       "    <tr>\n",
       "      <th>8</th>\n",
       "      <td>ETH</td>\n",
       "      <td>Ethereum</td>\n",
       "      <td>Ethash</td>\n",
       "      <td>PoW</td>\n",
       "      <td>1.076842e+08</td>\n",
       "      <td>0</td>\n",
       "    </tr>\n",
       "  </tbody>\n",
       "</table>\n",
       "</div>"
      ],
      "text/plain": [
       "  Unnamed: 0   CoinName Algorithm ProofType  TotalCoinsMined TotalCoinSupply\n",
       "0         42    42 Coin    Scrypt   PoW/PoS     4.199995e+01              42\n",
       "2        404    404Coin    Scrypt   PoW/PoS     1.055185e+09       532000000\n",
       "5       1337  EliteCoin       X13   PoW/PoS     2.927942e+10    314159265359\n",
       "7        BTC    Bitcoin   SHA-256       PoW     1.792718e+07        21000000\n",
       "8        ETH   Ethereum    Ethash       PoW     1.076842e+08               0"
      ]
     },
     "execution_count": 74,
     "metadata": {},
     "output_type": "execute_result"
    }
   ],
   "source": [
    "# Keep the rows where coins are mined.\n",
    "# YOUR CODE HERE\n",
    "crypto_df = crypto_df[crypto_df[\"TotalCoinsMined\"] > 0]\n",
    "crypto_df.head()"
   ]
  },
  {
   "cell_type": "code",
   "execution_count": 75,
   "metadata": {},
   "outputs": [
    {
     "data": {
      "text/html": [
       "<div>\n",
       "<style scoped>\n",
       "    .dataframe tbody tr th:only-of-type {\n",
       "        vertical-align: middle;\n",
       "    }\n",
       "\n",
       "    .dataframe tbody tr th {\n",
       "        vertical-align: top;\n",
       "    }\n",
       "\n",
       "    .dataframe thead th {\n",
       "        text-align: right;\n",
       "    }\n",
       "</style>\n",
       "<table border=\"1\" class=\"dataframe\">\n",
       "  <thead>\n",
       "    <tr style=\"text-align: right;\">\n",
       "      <th></th>\n",
       "      <th>Unnamed: 0</th>\n",
       "      <th>CoinName</th>\n",
       "    </tr>\n",
       "  </thead>\n",
       "  <tbody>\n",
       "    <tr>\n",
       "      <th>0</th>\n",
       "      <td>42</td>\n",
       "      <td>42 Coin</td>\n",
       "    </tr>\n",
       "    <tr>\n",
       "      <th>2</th>\n",
       "      <td>404</td>\n",
       "      <td>404Coin</td>\n",
       "    </tr>\n",
       "    <tr>\n",
       "      <th>5</th>\n",
       "      <td>1337</td>\n",
       "      <td>EliteCoin</td>\n",
       "    </tr>\n",
       "    <tr>\n",
       "      <th>7</th>\n",
       "      <td>BTC</td>\n",
       "      <td>Bitcoin</td>\n",
       "    </tr>\n",
       "    <tr>\n",
       "      <th>8</th>\n",
       "      <td>ETH</td>\n",
       "      <td>Ethereum</td>\n",
       "    </tr>\n",
       "  </tbody>\n",
       "</table>\n",
       "</div>"
      ],
      "text/plain": [
       "  Unnamed: 0   CoinName\n",
       "0         42    42 Coin\n",
       "2        404    404Coin\n",
       "5       1337  EliteCoin\n",
       "7        BTC    Bitcoin\n",
       "8        ETH   Ethereum"
      ]
     },
     "execution_count": 75,
     "metadata": {},
     "output_type": "execute_result"
    }
   ],
   "source": [
    "# Create a new DataFrame that holds only the cryptocurrencies names.\n",
    "# YOUR CODE HERE\n",
    "crypto_names = crypto_df.iloc[:,0:2]\n",
    "crypto_names.head()"
   ]
  },
  {
   "cell_type": "code",
   "execution_count": 76,
   "metadata": {},
   "outputs": [
    {
     "data": {
      "text/html": [
       "<div>\n",
       "<style scoped>\n",
       "    .dataframe tbody tr th:only-of-type {\n",
       "        vertical-align: middle;\n",
       "    }\n",
       "\n",
       "    .dataframe tbody tr th {\n",
       "        vertical-align: top;\n",
       "    }\n",
       "\n",
       "    .dataframe thead th {\n",
       "        text-align: right;\n",
       "    }\n",
       "</style>\n",
       "<table border=\"1\" class=\"dataframe\">\n",
       "  <thead>\n",
       "    <tr style=\"text-align: right;\">\n",
       "      <th></th>\n",
       "      <th>Unnamed: 0</th>\n",
       "      <th>Algorithm</th>\n",
       "      <th>ProofType</th>\n",
       "      <th>TotalCoinsMined</th>\n",
       "      <th>TotalCoinSupply</th>\n",
       "    </tr>\n",
       "  </thead>\n",
       "  <tbody>\n",
       "    <tr>\n",
       "      <th>0</th>\n",
       "      <td>42</td>\n",
       "      <td>Scrypt</td>\n",
       "      <td>PoW/PoS</td>\n",
       "      <td>4.199995e+01</td>\n",
       "      <td>42</td>\n",
       "    </tr>\n",
       "    <tr>\n",
       "      <th>2</th>\n",
       "      <td>404</td>\n",
       "      <td>Scrypt</td>\n",
       "      <td>PoW/PoS</td>\n",
       "      <td>1.055185e+09</td>\n",
       "      <td>532000000</td>\n",
       "    </tr>\n",
       "    <tr>\n",
       "      <th>5</th>\n",
       "      <td>1337</td>\n",
       "      <td>X13</td>\n",
       "      <td>PoW/PoS</td>\n",
       "      <td>2.927942e+10</td>\n",
       "      <td>314159265359</td>\n",
       "    </tr>\n",
       "    <tr>\n",
       "      <th>7</th>\n",
       "      <td>BTC</td>\n",
       "      <td>SHA-256</td>\n",
       "      <td>PoW</td>\n",
       "      <td>1.792718e+07</td>\n",
       "      <td>21000000</td>\n",
       "    </tr>\n",
       "    <tr>\n",
       "      <th>8</th>\n",
       "      <td>ETH</td>\n",
       "      <td>Ethash</td>\n",
       "      <td>PoW</td>\n",
       "      <td>1.076842e+08</td>\n",
       "      <td>0</td>\n",
       "    </tr>\n",
       "  </tbody>\n",
       "</table>\n",
       "</div>"
      ],
      "text/plain": [
       "  Unnamed: 0 Algorithm ProofType  TotalCoinsMined TotalCoinSupply\n",
       "0         42    Scrypt   PoW/PoS     4.199995e+01              42\n",
       "2        404    Scrypt   PoW/PoS     1.055185e+09       532000000\n",
       "5       1337       X13   PoW/PoS     2.927942e+10    314159265359\n",
       "7        BTC   SHA-256       PoW     1.792718e+07        21000000\n",
       "8        ETH    Ethash       PoW     1.076842e+08               0"
      ]
     },
     "execution_count": 76,
     "metadata": {},
     "output_type": "execute_result"
    }
   ],
   "source": [
    "# Drop the 'CoinName' column since it's not going to be used on the clustering algorithm.\n",
    "# YOUR CODE HERE\n",
    "crypto_df = crypto_df.drop(columns=\"CoinName\")\n",
    "crypto_df.head()"
   ]
  },
  {
   "cell_type": "code",
   "execution_count": 77,
   "metadata": {},
   "outputs": [
    {
     "data": {
      "text/html": [
       "<div>\n",
       "<style scoped>\n",
       "    .dataframe tbody tr th:only-of-type {\n",
       "        vertical-align: middle;\n",
       "    }\n",
       "\n",
       "    .dataframe tbody tr th {\n",
       "        vertical-align: top;\n",
       "    }\n",
       "\n",
       "    .dataframe thead th {\n",
       "        text-align: right;\n",
       "    }\n",
       "</style>\n",
       "<table border=\"1\" class=\"dataframe\">\n",
       "  <thead>\n",
       "    <tr style=\"text-align: right;\">\n",
       "      <th></th>\n",
       "      <th>Unnamed: 0</th>\n",
       "      <th>TotalCoinsMined</th>\n",
       "      <th>TotalCoinSupply</th>\n",
       "      <th>Algorithm_1GB AES Pattern Search</th>\n",
       "      <th>Algorithm_536</th>\n",
       "      <th>Algorithm_Argon2d</th>\n",
       "      <th>Algorithm_BLAKE256</th>\n",
       "      <th>Algorithm_Blake</th>\n",
       "      <th>Algorithm_Blake2S</th>\n",
       "      <th>Algorithm_Blake2b</th>\n",
       "      <th>...</th>\n",
       "      <th>ProofType_PoW/PoS</th>\n",
       "      <th>ProofType_PoW/PoS</th>\n",
       "      <th>ProofType_PoW/PoW</th>\n",
       "      <th>ProofType_PoW/nPoS</th>\n",
       "      <th>ProofType_Pos</th>\n",
       "      <th>ProofType_Proof of Authority</th>\n",
       "      <th>ProofType_Proof of Trust</th>\n",
       "      <th>ProofType_TPoS</th>\n",
       "      <th>ProofType_Zero-Knowledge Proof</th>\n",
       "      <th>ProofType_dPoW/PoW</th>\n",
       "    </tr>\n",
       "  </thead>\n",
       "  <tbody>\n",
       "    <tr>\n",
       "      <th>0</th>\n",
       "      <td>42</td>\n",
       "      <td>4.199995e+01</td>\n",
       "      <td>42</td>\n",
       "      <td>0</td>\n",
       "      <td>0</td>\n",
       "      <td>0</td>\n",
       "      <td>0</td>\n",
       "      <td>0</td>\n",
       "      <td>0</td>\n",
       "      <td>0</td>\n",
       "      <td>...</td>\n",
       "      <td>1</td>\n",
       "      <td>0</td>\n",
       "      <td>0</td>\n",
       "      <td>0</td>\n",
       "      <td>0</td>\n",
       "      <td>0</td>\n",
       "      <td>0</td>\n",
       "      <td>0</td>\n",
       "      <td>0</td>\n",
       "      <td>0</td>\n",
       "    </tr>\n",
       "    <tr>\n",
       "      <th>2</th>\n",
       "      <td>404</td>\n",
       "      <td>1.055185e+09</td>\n",
       "      <td>532000000</td>\n",
       "      <td>0</td>\n",
       "      <td>0</td>\n",
       "      <td>0</td>\n",
       "      <td>0</td>\n",
       "      <td>0</td>\n",
       "      <td>0</td>\n",
       "      <td>0</td>\n",
       "      <td>...</td>\n",
       "      <td>1</td>\n",
       "      <td>0</td>\n",
       "      <td>0</td>\n",
       "      <td>0</td>\n",
       "      <td>0</td>\n",
       "      <td>0</td>\n",
       "      <td>0</td>\n",
       "      <td>0</td>\n",
       "      <td>0</td>\n",
       "      <td>0</td>\n",
       "    </tr>\n",
       "    <tr>\n",
       "      <th>5</th>\n",
       "      <td>1337</td>\n",
       "      <td>2.927942e+10</td>\n",
       "      <td>314159265359</td>\n",
       "      <td>0</td>\n",
       "      <td>0</td>\n",
       "      <td>0</td>\n",
       "      <td>0</td>\n",
       "      <td>0</td>\n",
       "      <td>0</td>\n",
       "      <td>0</td>\n",
       "      <td>...</td>\n",
       "      <td>1</td>\n",
       "      <td>0</td>\n",
       "      <td>0</td>\n",
       "      <td>0</td>\n",
       "      <td>0</td>\n",
       "      <td>0</td>\n",
       "      <td>0</td>\n",
       "      <td>0</td>\n",
       "      <td>0</td>\n",
       "      <td>0</td>\n",
       "    </tr>\n",
       "    <tr>\n",
       "      <th>7</th>\n",
       "      <td>BTC</td>\n",
       "      <td>1.792718e+07</td>\n",
       "      <td>21000000</td>\n",
       "      <td>0</td>\n",
       "      <td>0</td>\n",
       "      <td>0</td>\n",
       "      <td>0</td>\n",
       "      <td>0</td>\n",
       "      <td>0</td>\n",
       "      <td>0</td>\n",
       "      <td>...</td>\n",
       "      <td>0</td>\n",
       "      <td>0</td>\n",
       "      <td>0</td>\n",
       "      <td>0</td>\n",
       "      <td>0</td>\n",
       "      <td>0</td>\n",
       "      <td>0</td>\n",
       "      <td>0</td>\n",
       "      <td>0</td>\n",
       "      <td>0</td>\n",
       "    </tr>\n",
       "    <tr>\n",
       "      <th>8</th>\n",
       "      <td>ETH</td>\n",
       "      <td>1.076842e+08</td>\n",
       "      <td>0</td>\n",
       "      <td>0</td>\n",
       "      <td>0</td>\n",
       "      <td>0</td>\n",
       "      <td>0</td>\n",
       "      <td>0</td>\n",
       "      <td>0</td>\n",
       "      <td>0</td>\n",
       "      <td>...</td>\n",
       "      <td>0</td>\n",
       "      <td>0</td>\n",
       "      <td>0</td>\n",
       "      <td>0</td>\n",
       "      <td>0</td>\n",
       "      <td>0</td>\n",
       "      <td>0</td>\n",
       "      <td>0</td>\n",
       "      <td>0</td>\n",
       "      <td>0</td>\n",
       "    </tr>\n",
       "  </tbody>\n",
       "</table>\n",
       "<p>5 rows × 99 columns</p>\n",
       "</div>"
      ],
      "text/plain": [
       "  Unnamed: 0  TotalCoinsMined TotalCoinSupply  \\\n",
       "0         42     4.199995e+01              42   \n",
       "2        404     1.055185e+09       532000000   \n",
       "5       1337     2.927942e+10    314159265359   \n",
       "7        BTC     1.792718e+07        21000000   \n",
       "8        ETH     1.076842e+08               0   \n",
       "\n",
       "   Algorithm_1GB AES Pattern Search  Algorithm_536  Algorithm_Argon2d  \\\n",
       "0                                 0              0                  0   \n",
       "2                                 0              0                  0   \n",
       "5                                 0              0                  0   \n",
       "7                                 0              0                  0   \n",
       "8                                 0              0                  0   \n",
       "\n",
       "   Algorithm_BLAKE256  Algorithm_Blake  Algorithm_Blake2S  Algorithm_Blake2b  \\\n",
       "0                   0                0                  0                  0   \n",
       "2                   0                0                  0                  0   \n",
       "5                   0                0                  0                  0   \n",
       "7                   0                0                  0                  0   \n",
       "8                   0                0                  0                  0   \n",
       "\n",
       "   ...  ProofType_PoW/PoS  ProofType_PoW/PoS   ProofType_PoW/PoW  \\\n",
       "0  ...                  1                   0                  0   \n",
       "2  ...                  1                   0                  0   \n",
       "5  ...                  1                   0                  0   \n",
       "7  ...                  0                   0                  0   \n",
       "8  ...                  0                   0                  0   \n",
       "\n",
       "   ProofType_PoW/nPoS  ProofType_Pos  ProofType_Proof of Authority  \\\n",
       "0                   0              0                             0   \n",
       "2                   0              0                             0   \n",
       "5                   0              0                             0   \n",
       "7                   0              0                             0   \n",
       "8                   0              0                             0   \n",
       "\n",
       "   ProofType_Proof of Trust  ProofType_TPoS  ProofType_Zero-Knowledge Proof  \\\n",
       "0                         0               0                               0   \n",
       "2                         0               0                               0   \n",
       "5                         0               0                               0   \n",
       "7                         0               0                               0   \n",
       "8                         0               0                               0   \n",
       "\n",
       "   ProofType_dPoW/PoW  \n",
       "0                   0  \n",
       "2                   0  \n",
       "5                   0  \n",
       "7                   0  \n",
       "8                   0  \n",
       "\n",
       "[5 rows x 99 columns]"
      ]
     },
     "execution_count": 77,
     "metadata": {},
     "output_type": "execute_result"
    }
   ],
   "source": [
    "# Use get_dummies() to create variables for text features.\n",
    "# YOUR CODE HERE\n",
    "crypto_df_original = crypto_df\n",
    "crypto_df = pd.get_dummies(data=crypto_df, columns = [\"Algorithm\", \"ProofType\"])\n",
    "crypto_df.head()"
   ]
  },
  {
   "cell_type": "code",
   "execution_count": 78,
   "metadata": {},
   "outputs": [
    {
     "name": "stdout",
     "output_type": "stream",
     "text": [
      "[[-0.11710817 -0.1528703  -0.0433963  ... -0.0433963  -0.0433963\n",
      "  -0.0433963 ]\n",
      " [-0.09396955 -0.145009   -0.0433963  ... -0.0433963  -0.0433963\n",
      "  -0.0433963 ]\n",
      " [ 0.52494561  4.48942416 -0.0433963  ... -0.0433963  -0.0433963\n",
      "  -0.0433963 ]\n",
      " ...\n",
      " [-0.09561336 -0.13217937 -0.0433963  ... -0.0433963  -0.0433963\n",
      "  -0.0433963 ]\n",
      " [-0.11694817 -0.15255998 -0.0433963  ... -0.0433963  -0.0433963\n",
      "  -0.0433963 ]\n",
      " [-0.11710536 -0.15285552 -0.0433963  ... -0.0433963  -0.0433963\n",
      "  -0.0433963 ]]\n"
     ]
    }
   ],
   "source": [
    "# Standardize the data with StandardScaler().\n",
    "# YOUR CODE HERE\n",
    "crypto_df = crypto_df.drop(columns = 'Unnamed: 0')\n",
    "scaler = StandardScaler()\n",
    "scaler.fit(crypto_df)\n",
    "data = scaler.transform(crypto_df)\n",
    "print(data)"
   ]
  },
  {
   "cell_type": "markdown",
   "metadata": {},
   "source": [
    "### Deliverable 2: Reducing Data Dimensions Using PCA"
   ]
  },
  {
   "cell_type": "code",
   "execution_count": 79,
   "metadata": {},
   "outputs": [
    {
     "name": "stdout",
     "output_type": "stream",
     "text": [
      "[[-0.34702848  0.9149739  -0.47702329]\n",
      " [-0.33037496  0.91504691 -0.47750877]\n",
      " [ 2.30247459  1.54374557 -0.60257761]\n",
      " ...\n",
      " [ 0.33206004 -2.23744292  0.36637251]\n",
      " [-0.13606124 -1.86585412  0.34076858]\n",
      " [-0.29716572  0.79731626 -0.23147921]]\n"
     ]
    }
   ],
   "source": [
    "# Using PCA to reduce dimension to three principal components.\n",
    "# YOUR CODE HERE\n",
    "pca = PCA(n_components = 3)\n",
    "pca.fit(data)\n",
    "pca_data = pca.transform(data)\n",
    "print(pca_data)"
   ]
  },
  {
   "cell_type": "code",
   "execution_count": 80,
   "metadata": {
    "scrolled": true
   },
   "outputs": [
    {
     "data": {
      "text/html": [
       "<div>\n",
       "<style scoped>\n",
       "    .dataframe tbody tr th:only-of-type {\n",
       "        vertical-align: middle;\n",
       "    }\n",
       "\n",
       "    .dataframe tbody tr th {\n",
       "        vertical-align: top;\n",
       "    }\n",
       "\n",
       "    .dataframe thead th {\n",
       "        text-align: right;\n",
       "    }\n",
       "</style>\n",
       "<table border=\"1\" class=\"dataframe\">\n",
       "  <thead>\n",
       "    <tr style=\"text-align: right;\">\n",
       "      <th></th>\n",
       "      <th>0</th>\n",
       "      <th>1</th>\n",
       "      <th>2</th>\n",
       "    </tr>\n",
       "    <tr>\n",
       "      <th>Unnamed: 0</th>\n",
       "      <th></th>\n",
       "      <th></th>\n",
       "      <th></th>\n",
       "    </tr>\n",
       "  </thead>\n",
       "  <tbody>\n",
       "    <tr>\n",
       "      <th>42</th>\n",
       "      <td>-0.347028</td>\n",
       "      <td>0.914974</td>\n",
       "      <td>-0.477023</td>\n",
       "    </tr>\n",
       "    <tr>\n",
       "      <th>404</th>\n",
       "      <td>-0.330375</td>\n",
       "      <td>0.915047</td>\n",
       "      <td>-0.477509</td>\n",
       "    </tr>\n",
       "    <tr>\n",
       "      <th>1337</th>\n",
       "      <td>2.302475</td>\n",
       "      <td>1.543746</td>\n",
       "      <td>-0.602578</td>\n",
       "    </tr>\n",
       "    <tr>\n",
       "      <th>BTC</th>\n",
       "      <td>-0.140539</td>\n",
       "      <td>-1.296420</td>\n",
       "      <td>0.159639</td>\n",
       "    </tr>\n",
       "    <tr>\n",
       "      <th>ETH</th>\n",
       "      <td>-0.145121</td>\n",
       "      <td>-1.979320</td>\n",
       "      <td>0.335421</td>\n",
       "    </tr>\n",
       "  </tbody>\n",
       "</table>\n",
       "</div>"
      ],
      "text/plain": [
       "                   0         1         2\n",
       "Unnamed: 0                              \n",
       "42         -0.347028  0.914974 -0.477023\n",
       "404        -0.330375  0.915047 -0.477509\n",
       "1337        2.302475  1.543746 -0.602578\n",
       "BTC        -0.140539 -1.296420  0.159639\n",
       "ETH        -0.145121 -1.979320  0.335421"
      ]
     },
     "execution_count": 80,
     "metadata": {},
     "output_type": "execute_result"
    }
   ],
   "source": [
    "# Create a DataFrame with the three principal components.\n",
    "# YOUR CODE HERE\n",
    "pca_df = pd.DataFrame(pca_data,index = crypto_names['Unnamed: 0'])\n",
    "pca_df.head()"
   ]
  },
  {
   "cell_type": "markdown",
   "metadata": {},
   "source": [
    "### Deliverable 3: Clustering Crytocurrencies Using K-Means\n",
    "\n",
    "#### Finding the Best Value for `k` Using the Elbow Curve"
   ]
  },
  {
   "cell_type": "code",
   "execution_count": 81,
   "metadata": {},
   "outputs": [
    {
     "data": {
      "text/plain": [
       "<matplotlib.axes._subplots.AxesSubplot at 0x192878be6a0>"
      ]
     },
     "execution_count": 81,
     "metadata": {},
     "output_type": "execute_result"
    },
    {
     "data": {
      "image/png": "[encoded data removed]",
      "text/plain": [
       "<Figure size 432x288 with 1 Axes>"
      ]
     },
     "metadata": {
      "needs_background": "light"
     },
     "output_type": "display_data"
    }
   ],
   "source": [
    "# Create an elbow curve to find the best value for K.\n",
    "inertia = []\n",
    "k = list(range(1, 20))\n",
    "# Calculate the inertia for the range of K values\n",
    "for i in k:\n",
    "   km = KMeans(n_clusters=i, random_state=0)\n",
    "   km.fit(pca_df)\n",
    "   inertia.append(km.inertia_)\n",
    "\n",
    "elbow_data = {'k': k, 'inertia':inertia}\n",
    "df_elbow = pd.DataFrame(elbow_data)\n",
    "df_elbow.plot(x='k', y='inertia', xticks = k, title=\"Elbow Curve\")"
   ]
  },
  {
   "cell_type": "markdown",
   "metadata": {},
   "source": [
    "Running K-Means with `k=4`"
   ]
  },
  {
   "cell_type": "code",
   "execution_count": 82,
   "metadata": {},
   "outputs": [],
   "source": [
    "# Initialize the K-Means model.\n",
    "km = KMeans(n_clusters=4, random_state=0)\n",
    "\n",
    "# Fit the model\n",
    "km.fit(pca_df)\n",
    "\n",
    "# Predict clusters\n",
    "clusters = km.predict(pca_df)"
   ]
  },
  {
   "cell_type": "code",
   "execution_count": 83,
   "metadata": {},
   "outputs": [
    {
     "name": "stdout",
     "output_type": "stream",
     "text": [
      "(532, 10)\n"
     ]
    },
    {
     "data": {
      "text/html": [
       "<div>\n",
       "<style scoped>\n",
       "    .dataframe tbody tr th:only-of-type {\n",
       "        vertical-align: middle;\n",
       "    }\n",
       "\n",
       "    .dataframe tbody tr th {\n",
       "        vertical-align: top;\n",
       "    }\n",
       "\n",
       "    .dataframe thead th {\n",
       "        text-align: right;\n",
       "    }\n",
       "</style>\n",
       "<table border=\"1\" class=\"dataframe\">\n",
       "  <thead>\n",
       "    <tr style=\"text-align: right;\">\n",
       "      <th></th>\n",
       "      <th>Unnamed: 0</th>\n",
       "      <th>Algorithm</th>\n",
       "      <th>ProofType</th>\n",
       "      <th>TotalCoinsMined</th>\n",
       "      <th>TotalCoinSupply</th>\n",
       "      <th>PC1</th>\n",
       "      <th>PC2</th>\n",
       "      <th>PC3</th>\n",
       "      <th>CoinName</th>\n",
       "      <th>Class</th>\n",
       "    </tr>\n",
       "  </thead>\n",
       "  <tbody>\n",
       "    <tr>\n",
       "      <th>0</th>\n",
       "      <td>42</td>\n",
       "      <td>Scrypt</td>\n",
       "      <td>PoW/PoS</td>\n",
       "      <td>4.199995e+01</td>\n",
       "      <td>42</td>\n",
       "      <td>-0.347028</td>\n",
       "      <td>0.914974</td>\n",
       "      <td>-0.477023</td>\n",
       "      <td>42 Coin</td>\n",
       "      <td>0</td>\n",
       "    </tr>\n",
       "    <tr>\n",
       "      <th>2</th>\n",
       "      <td>404</td>\n",
       "      <td>Scrypt</td>\n",
       "      <td>PoW/PoS</td>\n",
       "      <td>1.055185e+09</td>\n",
       "      <td>532000000</td>\n",
       "      <td>-0.330375</td>\n",
       "      <td>0.915047</td>\n",
       "      <td>-0.477509</td>\n",
       "      <td>404Coin</td>\n",
       "      <td>0</td>\n",
       "    </tr>\n",
       "    <tr>\n",
       "      <th>5</th>\n",
       "      <td>1337</td>\n",
       "      <td>X13</td>\n",
       "      <td>PoW/PoS</td>\n",
       "      <td>2.927942e+10</td>\n",
       "      <td>314159265359</td>\n",
       "      <td>2.302475</td>\n",
       "      <td>1.543746</td>\n",
       "      <td>-0.602578</td>\n",
       "      <td>EliteCoin</td>\n",
       "      <td>0</td>\n",
       "    </tr>\n",
       "    <tr>\n",
       "      <th>7</th>\n",
       "      <td>BTC</td>\n",
       "      <td>SHA-256</td>\n",
       "      <td>PoW</td>\n",
       "      <td>1.792718e+07</td>\n",
       "      <td>21000000</td>\n",
       "      <td>-0.140539</td>\n",
       "      <td>-1.296420</td>\n",
       "      <td>0.159639</td>\n",
       "      <td>Bitcoin</td>\n",
       "      <td>1</td>\n",
       "    </tr>\n",
       "    <tr>\n",
       "      <th>8</th>\n",
       "      <td>ETH</td>\n",
       "      <td>Ethash</td>\n",
       "      <td>PoW</td>\n",
       "      <td>1.076842e+08</td>\n",
       "      <td>0</td>\n",
       "      <td>-0.145121</td>\n",
       "      <td>-1.979320</td>\n",
       "      <td>0.335421</td>\n",
       "      <td>Ethereum</td>\n",
       "      <td>1</td>\n",
       "    </tr>\n",
       "    <tr>\n",
       "      <th>9</th>\n",
       "      <td>LTC</td>\n",
       "      <td>Scrypt</td>\n",
       "      <td>PoW</td>\n",
       "      <td>6.303924e+07</td>\n",
       "      <td>84000000</td>\n",
       "      <td>-0.171785</td>\n",
       "      <td>-1.147141</td>\n",
       "      <td>0.024556</td>\n",
       "      <td>Litecoin</td>\n",
       "      <td>1</td>\n",
       "    </tr>\n",
       "    <tr>\n",
       "      <th>10</th>\n",
       "      <td>DASH</td>\n",
       "      <td>X11</td>\n",
       "      <td>PoW/PoS</td>\n",
       "      <td>9.031294e+06</td>\n",
       "      <td>22000000</td>\n",
       "      <td>-0.395637</td>\n",
       "      <td>1.179661</td>\n",
       "      <td>-0.450046</td>\n",
       "      <td>Dash</td>\n",
       "      <td>0</td>\n",
       "    </tr>\n",
       "    <tr>\n",
       "      <th>11</th>\n",
       "      <td>XMR</td>\n",
       "      <td>CryptoNight-V7</td>\n",
       "      <td>PoW</td>\n",
       "      <td>1.720114e+07</td>\n",
       "      <td>0</td>\n",
       "      <td>-0.141761</td>\n",
       "      <td>-2.156266</td>\n",
       "      <td>0.376993</td>\n",
       "      <td>Monero</td>\n",
       "      <td>1</td>\n",
       "    </tr>\n",
       "    <tr>\n",
       "      <th>12</th>\n",
       "      <td>ETC</td>\n",
       "      <td>Ethash</td>\n",
       "      <td>PoW</td>\n",
       "      <td>1.133597e+08</td>\n",
       "      <td>210000000</td>\n",
       "      <td>-0.143564</td>\n",
       "      <td>-1.979426</td>\n",
       "      <td>0.335402</td>\n",
       "      <td>Ethereum Classic</td>\n",
       "      <td>1</td>\n",
       "    </tr>\n",
       "    <tr>\n",
       "      <th>13</th>\n",
       "      <td>ZEC</td>\n",
       "      <td>Equihash</td>\n",
       "      <td>PoW</td>\n",
       "      <td>7.383056e+06</td>\n",
       "      <td>21000000</td>\n",
       "      <td>-0.136060</td>\n",
       "      <td>-1.865854</td>\n",
       "      <td>0.340769</td>\n",
       "      <td>ZCash</td>\n",
       "      <td>1</td>\n",
       "    </tr>\n",
       "  </tbody>\n",
       "</table>\n",
       "</div>"
      ],
      "text/plain": [
       "   Unnamed: 0       Algorithm ProofType  TotalCoinsMined TotalCoinSupply  \\\n",
       "0          42          Scrypt   PoW/PoS     4.199995e+01              42   \n",
       "2         404          Scrypt   PoW/PoS     1.055185e+09       532000000   \n",
       "5        1337             X13   PoW/PoS     2.927942e+10    314159265359   \n",
       "7         BTC         SHA-256       PoW     1.792718e+07        21000000   \n",
       "8         ETH          Ethash       PoW     1.076842e+08               0   \n",
       "9         LTC          Scrypt       PoW     6.303924e+07        84000000   \n",
       "10       DASH             X11   PoW/PoS     9.031294e+06        22000000   \n",
       "11        XMR  CryptoNight-V7       PoW     1.720114e+07               0   \n",
       "12        ETC          Ethash       PoW     1.133597e+08       210000000   \n",
       "13        ZEC        Equihash       PoW     7.383056e+06        21000000   \n",
       "\n",
       "         PC1       PC2       PC3          CoinName  Class  \n",
       "0  -0.347028  0.914974 -0.477023           42 Coin      0  \n",
       "2  -0.330375  0.915047 -0.477509           404Coin      0  \n",
       "5   2.302475  1.543746 -0.602578         EliteCoin      0  \n",
       "7  -0.140539 -1.296420  0.159639           Bitcoin      1  \n",
       "8  -0.145121 -1.979320  0.335421          Ethereum      1  \n",
       "9  -0.171785 -1.147141  0.024556          Litecoin      1  \n",
       "10 -0.395637  1.179661 -0.450046              Dash      0  \n",
       "11 -0.141761 -2.156266  0.376993            Monero      1  \n",
       "12 -0.143564 -1.979426  0.335402  Ethereum Classic      1  \n",
       "13 -0.136060 -1.865854  0.340769             ZCash      1  "
      ]
     },
     "execution_count": 83,
     "metadata": {},
     "output_type": "execute_result"
    }
   ],
   "source": [
    "# Create a new DataFrame including predicted clusters and cryptocurrencies features.\n",
    "# Concatentate the crypto_df and pcs_df DataFrames on the same columns.\n",
    "clustered_df = crypto_df_original # [{'Algorithm','ProofType','TotalCoinsMined,'TotalCoinSupply}]\n",
    "clustered_df[\"PC1\"] = pca_df[0].values\n",
    "clustered_df[\"PC2\"] = pca_df[1].values\n",
    "clustered_df[\"PC3\"] = pca_df[2].values\n",
    "\n",
    "#  Add a new column, \"CoinName\" to the clustered_df DataFrame that holds the names of the cryptocurrencies. \n",
    "clustered_df[\"CoinName\"] = crypto_names[\"CoinName\"]\n",
    "\n",
    "#  Add a new column, \"Class\" to the clustered_df DataFrame that holds the predictions.\n",
    "clustered_df[\"Class\"] = clusters\n",
    "\n",
    "# Print the shape of the clustered_df\n",
    "print(clustered_df.shape)\n",
    "clustered_df.head(10)"
   ]
  },
  {
   "cell_type": "markdown",
   "metadata": {},
   "source": [
    "### Deliverable 4: Visualizing Cryptocurrencies Results\n",
    "\n",
    "#### 3D-Scatter with Clusters"
   ]
  },
  {
   "cell_type": "code",
   "execution_count": 84,
   "metadata": {},
   "outputs": [
    {
     "data": {
      "application/vnd.plotly.v1+json": {
       "config": {
        "plotlyServerURL": "https://plot.ly"
       },
       "data": [
        {
         "customdata": [
          [
           "Scrypt"
          ],
          [
           "Scrypt"
          ],
          [
           "X13"
          ],
          [
           "SHA-256"
          ],
          [
           "Ethash"
          ],
          [
           "Scrypt"
          ],
          [
           "X11"
          ],
          [
           "CryptoNight-V7"
          ],
          [
           "Ethash"
          ],
          [
           "Equihash"
          ],
          [
           "SHA-512"
          ],
          [
           "Multiple"
          ],
          [
           "SHA-256"
          ],
          [
           "SHA-256"
          ],
          [
           "Scrypt"
          ],
          [
           "X15"
          ],
          [
           "X11"
          ],
          [
           "Scrypt"
          ],
          [
           "Scrypt"
          ],
          [
           "Scrypt"
          ],
          [
           "Multiple"
          ],
          [
           "Scrypt"
          ],
          [
           "SHA-256"
          ],
          [
           "Scrypt"
          ],
          [
           "Scrypt"
          ],
          [
           "Scrypt"
          ],
          [
           "Quark"
          ],
          [
           "Groestl"
          ],
          [
           "Scrypt"
          ],
          [
           "Scrypt"
          ],
          [
           "Scrypt"
          ],
          [
           "Scrypt"
          ],
          [
           "Scrypt"
          ],
          [
           "X11"
          ],
          [
           "Scrypt"
          ],
          [
           "Groestl"
          ],
          [
           "Multiple"
          ],
          [
           "SHA-256"
          ],
          [
           "Scrypt"
          ],
          [
           "Scrypt"
          ],
          [
           "Scrypt"
          ],
          [
           "Scrypt"
          ],
          [
           "PoS"
          ],
          [
           "Scrypt"
          ],
          [
           "Scrypt"
          ],
          [
           "NeoScrypt"
          ],
          [
           "Scrypt"
          ],
          [
           "Scrypt"
          ],
          [
           "Scrypt"
          ],
          [
           "Scrypt"
          ],
          [
           "X11"
          ],
          [
           "Scrypt"
          ],
          [
           "X11"
          ],
          [
           "SHA-256"
          ],
          [
           "Scrypt"
          ],
          [
           "Scrypt"
          ],
          [
           "Scrypt"
          ],
          [
           "SHA3"
          ],
          [
           "Scrypt"
          ],
          [
           "HybridScryptHash256"
          ],
          [
           "Scrypt"
          ],
          [
           "Scrypt"
          ],
          [
           "SHA-256"
          ],
          [
           "Scrypt"
          ],
          [
           "X13"
          ],
          [
           "Scrypt"
          ],
          [
           "SHA-256"
          ],
          [
           "Scrypt"
          ],
          [
           "X13"
          ],
          [
           "NeoScrypt"
          ],
          [
           "Scrypt"
          ],
          [
           "Scrypt"
          ],
          [
           "Scrypt"
          ],
          [
           "Scrypt"
          ],
          [
           "Scrypt"
          ],
          [
           "Scrypt"
          ],
          [
           "X11"
          ],
          [
           "X11"
          ],
          [
           "SHA-256"
          ],
          [
           "Multiple"
          ],
          [
           "SHA-256"
          ],
          [
           "PHI1612"
          ],
          [
           "X11"
          ],
          [
           "SHA-256"
          ],
          [
           "SHA-256"
          ],
          [
           "SHA-256"
          ],
          [
           "X11"
          ],
          [
           "Scrypt"
          ],
          [
           "Scrypt"
          ],
          [
           "Scrypt"
          ],
          [
           "Scrypt"
          ],
          [
           "Lyra2REv2"
          ],
          [
           "Scrypt"
          ],
          [
           "X11"
          ],
          [
           "Multiple"
          ],
          [
           "SHA-256"
          ],
          [
           "X13"
          ],
          [
           "Scrypt"
          ],
          [
           "CryptoNight"
          ],
          [
           "CryptoNight"
          ],
          [
           "Shabal256"
          ],
          [
           "Counterparty"
          ],
          [
           "Scrypt"
          ],
          [
           "SHA-256"
          ],
          [
           "Groestl"
          ],
          [
           "Scrypt"
          ],
          [
           "Scrypt"
          ],
          [
           "Scrypt"
          ],
          [
           "X13"
          ],
          [
           "Scrypt"
          ],
          [
           "Scrypt"
          ],
          [
           "Scrypt"
          ],
          [
           "Scrypt"
          ],
          [
           "X13"
          ],
          [
           "Scrypt"
          ],
          [
           "Stanford Folding"
          ],
          [
           "X11"
          ],
          [
           "Multiple"
          ],
          [
           "QuBit"
          ],
          [
           "Scrypt"
          ],
          [
           "Scrypt"
          ],
          [
           "Scrypt"
          ],
          [
           "M7 POW"
          ],
          [
           "Scrypt"
          ],
          [
           "SHA-256"
          ],
          [
           "Scrypt"
          ],
          [
           "X11"
          ],
          [
           "SHA3"
          ],
          [
           "X11"
          ],
          [
           "Lyra2RE"
          ],
          [
           "SHA-256"
          ],
          [
           "QUAIT"
          ],
          [
           "X11"
          ],
          [
           "X11"
          ],
          [
           "Scrypt"
          ],
          [
           "Scrypt"
          ],
          [
           "Scrypt"
          ],
          [
           "Ethash"
          ],
          [
           "X13"
          ],
          [
           "Blake2b"
          ],
          [
           "SHA-256"
          ],
          [
           "X15"
          ],
          [
           "X11"
          ],
          [
           "SHA-256"
          ],
          [
           "BLAKE256"
          ],
          [
           "Scrypt"
          ],
          [
           "1GB AES Pattern Search"
          ],
          [
           "SHA-256"
          ],
          [
           "X11"
          ],
          [
           "Scrypt"
          ],
          [
           "SHA-256"
          ],
          [
           "SHA-256"
          ],
          [
           "NIST5"
          ],
          [
           "Scrypt"
          ],
          [
           "Scrypt"
          ],
          [
           "X11"
          ],
          [
           "Dagger"
          ],
          [
           "Scrypt"
          ],
          [
           "X11GOST"
          ],
          [
           "X11"
          ],
          [
           "Scrypt"
          ],
          [
           "SHA-256"
          ],
          [
           "Scrypt"
          ],
          [
           "PoS"
          ],
          [
           "Scrypt"
          ],
          [
           "X11"
          ],
          [
           "X11"
          ],
          [
           "SHA-256"
          ],
          [
           "SHA-256"
          ],
          [
           "NIST5"
          ],
          [
           "X11"
          ],
          [
           "Scrypt"
          ],
          [
           "POS 3.0"
          ],
          [
           "Scrypt"
          ],
          [
           "Scrypt"
          ],
          [
           "Scrypt"
          ],
          [
           "X13"
          ],
          [
           "X11"
          ],
          [
           "X11"
          ],
          [
           "Equihash"
          ],
          [
           "X11"
          ],
          [
           "Scrypt"
          ],
          [
           "CryptoNight"
          ],
          [
           "SHA-256"
          ],
          [
           "SHA-256"
          ],
          [
           "X11"
          ],
          [
           "Scrypt"
          ],
          [
           "Multiple"
          ],
          [
           "Scrypt"
          ],
          [
           "Scrypt"
          ],
          [
           "Scrypt"
          ],
          [
           "SHA-256"
          ],
          [
           "Scrypt"
          ],
          [
           "Scrypt"
          ],
          [
           "SHA-256D"
          ],
          [
           "PoS"
          ],
          [
           "Scrypt"
          ],
          [
           "X11"
          ],
          [
           "Lyra2Z"
          ],
          [
           "PoS"
          ],
          [
           "X13"
          ],
          [
           "X14"
          ],
          [
           "PoS"
          ],
          [
           "SHA-256D"
          ],
          [
           "Ethash"
          ],
          [
           "Equihash"
          ],
          [
           "DPoS"
          ],
          [
           "X11"
          ],
          [
           "Scrypt"
          ],
          [
           "X11"
          ],
          [
           "X13"
          ],
          [
           "X11"
          ],
          [
           "PoS"
          ],
          [
           "Scrypt"
          ],
          [
           "Scrypt"
          ],
          [
           "X11"
          ],
          [
           "PoS"
          ],
          [
           "X11"
          ],
          [
           "SHA-256"
          ],
          [
           "Scrypt"
          ],
          [
           "X11"
          ],
          [
           "Scrypt"
          ],
          [
           "Scrypt"
          ],
          [
           "X11"
          ],
          [
           "CryptoNight"
          ],
          [
           "Scrypt"
          ],
          [
           "Scrypt"
          ],
          [
           "Scrypt"
          ],
          [
           "Scrypt"
          ],
          [
           "Quark"
          ],
          [
           "QuBit"
          ],
          [
           "Scrypt"
          ],
          [
           "CryptoNight"
          ],
          [
           "Lyra2RE"
          ],
          [
           "Scrypt"
          ],
          [
           "SHA-256"
          ],
          [
           "X11"
          ],
          [
           "Scrypt"
          ],
          [
           "X11"
          ],
          [
           "Scrypt"
          ],
          [
           "CryptoNight-V7"
          ],
          [
           "Scrypt"
          ],
          [
           "Scrypt"
          ],
          [
           "Scrypt"
          ],
          [
           "X13"
          ],
          [
           "X11"
          ],
          [
           "Equihash"
          ],
          [
           "Scrypt"
          ],
          [
           "Scrypt"
          ],
          [
           "Lyra2RE"
          ],
          [
           "Scrypt"
          ],
          [
           "Dagger-Hashimoto"
          ],
          [
           "X11"
          ],
          [
           "Blake2S"
          ],
          [
           "X11"
          ],
          [
           "Scrypt"
          ],
          [
           "PoS"
          ],
          [
           "X11"
          ],
          [
           "NIST5"
          ],
          [
           "PoS"
          ],
          [
           "X11"
          ],
          [
           "Scrypt"
          ],
          [
           "Scrypt"
          ],
          [
           "Scrypt"
          ],
          [
           "SHA-256"
          ],
          [
           "X11"
          ],
          [
           "Scrypt"
          ],
          [
           "Scrypt"
          ],
          [
           "SHA-256"
          ],
          [
           "PoS"
          ],
          [
           "Scrypt"
          ],
          [
           "X15"
          ],
          [
           "SHA-256"
          ],
          [
           "Scrypt"
          ],
          [
           "POS 3.0"
          ],
          [
           "CryptoNight-V7"
          ],
          [
           "536"
          ],
          [
           "Argon2d"
          ],
          [
           "Blake2b"
          ],
          [
           "Cloverhash"
          ],
          [
           "CryptoNight"
          ],
          [
           "NIST5"
          ],
          [
           "X11"
          ],
          [
           "NIST5"
          ],
          [
           "Skein"
          ],
          [
           "Scrypt"
          ],
          [
           "X13"
          ],
          [
           "Scrypt"
          ],
          [
           "X11"
          ],
          [
           "X11"
          ],
          [
           "Scrypt"
          ],
          [
           "CryptoNight"
          ],
          [
           "X13"
          ],
          [
           "Time Travel"
          ],
          [
           "Scrypt"
          ],
          [
           "Keccak"
          ],
          [
           "SkunkHash v2 Raptor"
          ],
          [
           "X11"
          ],
          [
           "Skein"
          ],
          [
           "SHA-256"
          ],
          [
           "X11"
          ],
          [
           "Scrypt"
          ],
          [
           "VeChainThor Authority"
          ],
          [
           "Scrypt"
          ],
          [
           "PoS"
          ],
          [
           "Scrypt"
          ],
          [
           "Scrypt"
          ],
          [
           "Scrypt"
          ],
          [
           "Scrypt"
          ],
          [
           "Scrypt"
          ],
          [
           "Scrypt"
          ],
          [
           "Scrypt"
          ],
          [
           "CryptoNight"
          ],
          [
           "SHA-512"
          ],
          [
           "Ouroboros"
          ],
          [
           "X11"
          ],
          [
           "Equihash"
          ],
          [
           "NeoScrypt"
          ],
          [
           "X11"
          ],
          [
           "Scrypt"
          ],
          [
           "NeoScrypt"
          ],
          [
           "Lyra2REv2"
          ],
          [
           "Equihash"
          ],
          [
           "Scrypt"
          ],
          [
           "SHA-256"
          ],
          [
           "NIST5"
          ],
          [
           "PHI1612"
          ],
          [
           "Dagger"
          ],
          [
           "Scrypt"
          ],
          [
           "Quark"
          ],
          [
           "Scrypt"
          ],
          [
           "POS 2.0"
          ],
          [
           "Scrypt"
          ],
          [
           "SHA-256"
          ],
          [
           "X11"
          ],
          [
           "NeoScrypt"
          ],
          [
           "Ethash"
          ],
          [
           "NeoScrypt"
          ],
          [
           "X11"
          ],
          [
           "DPoS"
          ],
          [
           "NIST5"
          ],
          [
           "X13"
          ],
          [
           "Multiple"
          ],
          [
           "Scrypt"
          ],
          [
           "CryptoNight"
          ],
          [
           "CryptoNight"
          ],
          [
           "Ethash"
          ],
          [
           "NIST5"
          ],
          [
           "Quark"
          ],
          [
           "X11"
          ],
          [
           "CryptoNight-V7"
          ],
          [
           "Scrypt"
          ],
          [
           "Scrypt"
          ],
          [
           "Scrypt"
          ],
          [
           "X11"
          ],
          [
           "BLAKE256"
          ],
          [
           "X11"
          ],
          [
           "NeoScrypt"
          ],
          [
           "Quark"
          ],
          [
           "NeoScrypt"
          ],
          [
           "Scrypt"
          ],
          [
           "Scrypt"
          ],
          [
           "Scrypt"
          ],
          [
           "X11"
          ],
          [
           "X11"
          ],
          [
           "SHA-256"
          ],
          [
           "C11"
          ],
          [
           "POS 3.0"
          ],
          [
           "Ethash"
          ],
          [
           "Scrypt"
          ],
          [
           "CryptoNight"
          ],
          [
           "SkunkHash"
          ],
          [
           "Scrypt"
          ],
          [
           "CryptoNight"
          ],
          [
           "Scrypt"
          ],
          [
           "Dagger"
          ],
          [
           "Lyra2REv2"
          ],
          [
           "X13"
          ],
          [
           "Proof-of-BibleHash"
          ],
          [
           "SHA-256 + Hive"
          ],
          [
           "Scrypt"
          ],
          [
           "Scrypt"
          ],
          [
           "X11"
          ],
          [
           "C11"
          ],
          [
           "Proof-of-Authority"
          ],
          [
           "X11"
          ],
          [
           "XEVAN"
          ],
          [
           "Scrypt"
          ],
          [
           "VBFT"
          ],
          [
           "Ethash"
          ],
          [
           "CryptoNight"
          ],
          [
           "Scrypt"
          ],
          [
           "IMesh"
          ],
          [
           "NIST5"
          ],
          [
           "Scrypt"
          ],
          [
           "Scrypt"
          ],
          [
           "Equihash"
          ],
          [
           "Scrypt"
          ],
          [
           "Lyra2Z"
          ],
          [
           "Green Protocol"
          ],
          [
           "PoS"
          ],
          [
           "Scrypt"
          ],
          [
           "Semux BFT consensus"
          ],
          [
           "X11"
          ],
          [
           "Quark"
          ],
          [
           "PoS"
          ],
          [
           "CryptoNight"
          ],
          [
           "X16R"
          ],
          [
           "Scrypt"
          ],
          [
           "NIST5"
          ],
          [
           "Lyra2RE"
          ],
          [
           "XEVAN"
          ],
          [
           "Tribus"
          ],
          [
           "Scrypt"
          ],
          [
           "Lyra2Z"
          ],
          [
           "CryptoNight"
          ],
          [
           "CryptoNight Heavy"
          ],
          [
           "CryptoNight"
          ],
          [
           "Scrypt"
          ],
          [
           "Scrypt"
          ],
          [
           "Jump Consistent Hash"
          ],
          [
           "SHA-256D"
          ],
          [
           "CryptoNight"
          ],
          [
           "Scrypt"
          ],
          [
           "X15"
          ],
          [
           "Scrypt"
          ],
          [
           "Quark"
          ],
          [
           "SHA-256"
          ],
          [
           "DPoS"
          ],
          [
           "X16R"
          ],
          [
           "HMQ1725"
          ],
          [
           "X11"
          ],
          [
           "X16R"
          ],
          [
           "Quark"
          ],
          [
           "Quark"
          ],
          [
           "Scrypt"
          ],
          [
           "Lyra2REv2"
          ],
          [
           "Quark"
          ],
          [
           "Scrypt"
          ],
          [
           "Scrypt"
          ],
          [
           "CryptoNight-V7"
          ],
          [
           "Cryptonight-GPU"
          ],
          [
           "XEVAN"
          ],
          [
           "CryptoNight Heavy"
          ],
          [
           "X11"
          ],
          [
           "X11"
          ],
          [
           "Scrypt"
          ],
          [
           "PoS"
          ],
          [
           "SHA-256"
          ],
          [
           "Keccak"
          ],
          [
           "X11"
          ],
          [
           "X11"
          ],
          [
           "Scrypt"
          ],
          [
           "SHA-512"
          ],
          [
           "X16R"
          ],
          [
           "ECC 256K1"
          ],
          [
           "Equihash"
          ],
          [
           "XEVAN"
          ],
          [
           "Lyra2Z"
          ],
          [
           "SHA-256"
          ],
          [
           "XEVAN"
          ],
          [
           "X11"
          ],
          [
           "CryptoNight"
          ],
          [
           "Quark"
          ],
          [
           "Blake"
          ],
          [
           "Blake"
          ],
          [
           "Equihash"
          ],
          [
           "Exosis"
          ],
          [
           "Scrypt"
          ],
          [
           "Scrypt"
          ],
          [
           "Equihash"
          ],
          [
           "Quark"
          ],
          [
           "Equihash"
          ],
          [
           "Quark"
          ],
          [
           "Scrypt"
          ],
          [
           "QuBit"
          ],
          [
           "X11"
          ],
          [
           "Scrypt"
          ],
          [
           "XEVAN"
          ],
          [
           "SHA-256D"
          ],
          [
           "X11"
          ],
          [
           "SHA-256"
          ],
          [
           "X13"
          ],
          [
           "SHA-256"
          ],
          [
           "X11"
          ],
          [
           "DPoS"
          ],
          [
           "Scrypt"
          ],
          [
           "Scrypt"
          ],
          [
           "X11"
          ],
          [
           "NeoScrypt"
          ],
          [
           "Scrypt"
          ],
          [
           "Blake"
          ],
          [
           "Scrypt"
          ],
          [
           "SHA-256"
          ],
          [
           "Scrypt"
          ],
          [
           "X11"
          ],
          [
           "Scrypt"
          ],
          [
           "Scrypt"
          ],
          [
           "SHA-256"
          ],
          [
           "X11"
          ],
          [
           "SHA-256"
          ],
          [
           "Scrypt"
          ],
          [
           "Scrypt"
          ],
          [
           "Scrypt"
          ],
          [
           "Groestl"
          ],
          [
           "X11"
          ],
          [
           "Scrypt"
          ],
          [
           "PoS"
          ],
          [
           "Scrypt"
          ],
          [
           "Scrypt"
          ],
          [
           "X11"
          ],
          [
           "SHA-256"
          ],
          [
           "DPoS"
          ],
          [
           "Scrypt"
          ],
          [
           "Scrypt"
          ],
          [
           "NeoScrypt"
          ],
          [
           "Multiple"
          ],
          [
           "X13"
          ],
          [
           "Equihash+Scrypt"
          ],
          [
           "DPoS"
          ],
          [
           "Ethash"
          ],
          [
           "DPoS"
          ],
          [
           "SHA-256"
          ],
          [
           "Leased POS"
          ],
          [
           "PoS"
          ],
          [
           "TRC10"
          ],
          [
           "PoS"
          ],
          [
           "SHA-256"
          ],
          [
           "Scrypt"
          ],
          [
           "CryptoNight"
          ],
          [
           "Equihash"
          ],
          [
           "Scrypt"
          ]
         ],
         "hovertemplate": "<b>%{hovertext}</b><br><br>PC1=%{x}<br>PC2=%{y}<br>PC3=%{z}<br>Algorithm=%{customdata[0]}<br>Class=%{marker.color}<extra></extra>",
         "hovertext": [
          "42 Coin",
          "404Coin",
          "EliteCoin",
          "Bitcoin",
          "Ethereum",
          "Litecoin",
          "Dash",
          "Monero",
          "Ethereum Classic",
          "ZCash",
          "Bitshares",
          "DigiByte",
          "BitcoinDark",
          "PayCoin",
          "ProsperCoin",
          "KoboCoin",
          "Spreadcoin",
          "Argentum",
          "Aurora Coin",
          "BlueCoin",
          "MyriadCoin",
          "MoonCoin",
          "ZetaCoin",
          "SexCoin",
          "Quatloo",
          "EnergyCoin",
          "QuarkCoin",
          "Riecoin",
          "Digitalcoin ",
          "BitBar",
          "Catcoin",
          "CryptoBullion",
          "CannaCoin",
          "CryptCoin",
          "CasinoCoin",
          "Diamond",
          "Verge",
          "DevCoin",
          "EarthCoin",
          "E-Gulden",
          "Einsteinium",
          "Emerald",
          "Exclusive Coin",
          "FlutterCoin",
          "Franko",
          "FeatherCoin",
          "GrandCoin",
          "GlobalCoin",
          "GoldCoin",
          "HoboNickels",
          "HyperStake",
          "Infinite Coin",
          "IOCoin",
          "IXcoin",
          "KrugerCoin",
          "LuckyCoin",
          "Litebar ",
          "MaxCoin",
          "MegaCoin",
          "MediterraneanCoin",
          "MintCoin",
          "MinCoin",
          "MazaCoin",
          "Nautilus Coin",
          "NavCoin",
          "NobleCoin",
          "Namecoin",
          "NyanCoin",
          "OpalCoin",
          "Orbitcoin",
          "PotCoin",
          "PhoenixCoin",
          "Reddcoin",
          "RonPaulCoin",
          "StableCoin",
          "SmartCoin",
          "SuperCoin",
          "SyncCoin",
          "SysCoin",
          "TeslaCoin",
          "TigerCoin",
          "TittieCoin",
          "TorCoin",
          "TerraCoin",
          "UnbreakableCoin",
          "Unobtanium",
          "UroCoin",
          "UnitaryStatus Dollar",
          "UltraCoin",
          "ViaCoin",
          "VeriCoin",
          "Vertcoin",
          "WorldCoin",
          "X11 Coin",
          "Crypti",
          "JouleCoin",
          "StealthCoin",
          "ZCC Coin",
          "ByteCoin",
          "DigitalNote ",
          "BurstCoin",
          "StorjCoin",
          "MonaCoin",
          "Neutron",
          "FairCoin",
          "Gulden",
          "RubyCoin",
          "PesetaCoin",
          "Kore",
          "Wild Beast Coin",
          "Dnotes",
          "Flo",
          "8BIT Coin",
          "Sativa Coin",
          "ArtByte",
          "Folding Coin",
          "Ucoin",
          "Unitus",
          "CypherPunkCoin",
          "OmniCron",
          "Vtorrent",
          "GreenCoin",
          "Cryptonite",
          "MasterCoin",
          "SoonCoin",
          "1Credit",
          "IslaCoin",
          "Nexus",
          "MarsCoin ",
          "Crypto",
          "Anarchists Prime",
          "Droidz",
          "BowsCoin",
          "Squall Coin",
          "Song Coin",
          "BitZeny",
          "Diggits",
          "Expanse",
          "Paycon",
          "Siacoin",
          "Emercoin",
          "EverGreenCoin",
          "MindCoin",
          "I0coin",
          "Decred",
          "Revolution VR",
          "HOdlcoin",
          "EDRCoin",
          "Hitcoin",
          "Gamecredits",
          "DubaiCoin",
          "CarpeDiemCoin",
          "PWR Coin",
          "BillaryCoin",
          "GPU Coin",
          "Adzcoin",
          "SoilCoin",
          "YoCoin",
          "SibCoin",
          "EuropeCoin",
          "ZeitCoin",
          "SwingCoin",
          "SafeExchangeCoin",
          "Nebuchadnezzar",
          "Francs",
          "BolivarCoin",
          "Ratecoin",
          "Revenu",
          "Clockcoin",
          "VIP Tokens",
          "BitSend",
          "Omni",
          "Let it Ride",
          "PutinCoin",
          "iBankCoin",
          "Frankywillcoin",
          "MudraCoin",
          "PizzaCoin",
          "Lutetium Coin",
          "Komodo",
          "GoldBlocks",
          "CarterCoin",
          "Karbo",
          "BitTokens",
          "ZayedCoin",
          "MustangCoin",
          "ZoneCoin",
          "Circuits of Value",
          "RootCoin",
          "DopeCoin",
          "BitCurrency",
          "DollarCoin",
          "Swiscoin",
          "Shilling",
          "BuzzCoin",
          "Opair",
          "PesoBit",
          "Halloween Coin",
          "ZCoin",
          "CoffeeCoin",
          "RoyalCoin",
          "GanjaCoin V2",
          "TeamUP",
          "LanaCoin",
          "Elementrem",
          "ZClassic",
          "ARK",
          "InsaneCoin",
          "KiloCoin",
          "ArtexCoin",
          "EmberCoin",
          "XenixCoin",
          "FreeCoin",
          "PLNCoin",
          "AquariusCoin",
          "Kurrent",
          "Creatio",
          "Eternity",
          "Eurocoin",
          "BitcoinFast",
          "Stakenet",
          "BitConnect Coin",
          "MoneyCoin",
          "Enigma",
          "Cannabis Industry Coin",
          "Russiacoin",
          "PandaCoin",
          "GameUnits",
          "GAKHcoin",
          "Allsafe",
          "LiteCreed",
          "OsmiumCoin",
          "Bikercoins",
          "HexxCoin",
          "Klingon Empire Darsek",
          "Internet of People",
          "KushCoin",
          "Printerium",
          "PacCoin",
          "Impeach",
          "Citadel",
          "Zilbercoin",
          "FirstCoin",
          "BeaverCoin",
          "FindCoin",
          "VaultCoin",
          "Zero",
          "OpenChat",
          "Canada eCoin",
          "Zoin",
          "RenosCoin",
          "DubaiCoin",
          "VirtacoinPlus",
          "TajCoin",
          "Impact",
          "EB3coin",
          "Atmos",
          "HappyCoin",
          "Coinonat",
          "MacronCoin",
          "Condensate",
          "Independent Money System",
          "ArgusCoin",
          "LomoCoin",
          "ProCurrency",
          "GoldReserve",
          "BenjiRolls",
          "GrowthCoin",
          "ILCoin",
          "Phreak",
          "Degas Coin",
          "HTML5 Coin",
          "Ultimate Secure Cash",
          "EquiTrader",
          "QTUM",
          "Quantum Resistant Ledger",
          "Espers",
          "Dynamic",
          "Nano",
          "ChanCoin",
          "Dinastycoin",
          "Denarius",
          "DigitalPrice",
          "Virta Unique Coin",
          "Bitcoin Planet",
          "Unify",
          "BritCoin",
          "SocialCoin",
          "ArcticCoin",
          "DAS",
          "Linda",
          "LeviarCoin",
          "DeepOnion",
          "Bitcore",
          "gCn Coin",
          "SmartCash",
          "Signatum",
          "Onix",
          "Cream",
          "Bitcoin Cash",
          "Monoeci",
          "Draftcoin",
          "Vechain",
          "Sojourn Coin",
          "Stakecoin",
          "NewYorkCoin",
          "FrazCoin",
          "Kronecoin",
          "AdCoin",
          "Linx",
          "CoinonatX",
          "Ethereum Dark",
          "Sumokoin",
          "Obsidian",
          "Cardano",
          "Regalcoin",
          "BitcoinZ",
          "TrezarCoin",
          "Elements",
          "TerraNovaCoin",
          "VIVO Coin",
          "Rupee",
          "Bitcoin Gold",
          "WomenCoin",
          "Theresa May Coin",
          "NamoCoin",
          "LUXCoin",
          "Pirl",
          "Xios",
          "Bitcloud 2.0",
          "eBoost",
          "KekCoin",
          "BlackholeCoin",
          "Infinity Economics",
          "Pura",
          "Innova",
          "Ellaism",
          "GoByte",
          "Magnet",
          "Lamden Tau",
          "Electra",
          "Bitcoin Diamond",
          "SHIELD",
          "Cash & Back Coin",
          "UltraNote",
          "BitCoal",
          "DaxxCoin",
          "Bulwark",
          "Kalkulus",
          "AC3",
          "Lethean",
          "GermanCoin",
          "LiteCoin Ultra",
          "PopularCoin",
          "PhantomX",
          "Photon",
          "Sucre",
          "SparksPay",
          "Digiwage",
          "GunCoin",
          "IrishCoin",
          "Trollcoin",
          "Litecoin Plus",
          "Monkey Project",
          "Pioneer Coin",
          "UnitedBitcoin",
          "Interzone",
          "TokenPay",
          "1717 Masonic Commemorative Token",
          "My Big Coin",
          "TurtleCoin",
          "MUNcoin",
          "Unified Society USDEX",
          "Niobio Cash",
          "ShareChain",
          "Travelflex",
          "KREDS",
          "Tokyo Coin",
          "BiblePay",
          "LitecoinCash",
          "BitFlip",
          "LottoCoin",
          "Crypto Improvement Fund",
          "Stipend",
          "Poa Network",
          "Pushi",
          "Ellerium",
          "Velox",
          "Ontology",
          "Callisto Network",
          "BitTube",
          "Poseidon",
          "Aidos Kuneen",
          "Bitspace",
          "Briacoin",
          "Ignition",
          "Bitrolium",
          "MedicCoin",
          "Alpenschillling",
          "Bitcoin Green",
          "Deviant Coin",
          "Abjcoin",
          "Semux",
          "FuturoCoin",
          "Carebit",
          "Zealium",
          "Monero Classic",
          "Proton",
          "iDealCash",
          "Jumpcoin",
          "Infinex",
          "Bitcoin Incognito",
          "KEYCO",
          "HollyWoodCoin",
          "GINcoin",
          "PlatinCoin",
          "Loki",
          "Newton Coin",
          "Swisscoin",
          "Xt3ch",
          "MassGrid",
          "TheVig",
          "PluraCoin",
          "EmaratCoin",
          "Dekado",
          "Lynx",
          "Poseidon Quark",
          "BitcoinWSpectrum",
          "Muse",
          "Motion",
          "PlusOneCoin",
          "Axe",
          "Trivechain",
          "Dystem",
          "Giant",
          "Peony Coin",
          "Absolute Coin",
          "Vitae",
          "HexCoin",
          "TPCash",
          "Webchain",
          "Ryo",
          "Urals Coin",
          "Qwertycoin",
          "ARENON",
          "EUNO",
          "MMOCoin",
          "Ketan",
          "Project Pai",
          "XDNA",
          "PAXEX",
          "Azart",
          "ThunderStake",
          "Kcash",
          "Xchange",
          "Acute Angle Cloud",
          "CrypticCoin",
          "Bettex coin",
          "Actinium",
          "Bitcoin SV",
          "BitMoney",
          "Junson Ming Chan Coin",
          "FREDEnergy",
          "HerbCoin",
          "Universal Molecule",
          "Lithium",
          "PirateCash",
          "Exosis",
          "Block-Logic",
          "Oduwa",
          "Beam",
          "Galilel",
          "Bithereum",
          "Crypto Sports",
          "Credit",
          "SLICE",
          "Dash Platinum",
          "Nasdacoin",
          "Beetle Coin",
          "Titan Coin",
          "Award",
          "BLAST",
          "Bitcoin Rhodium",
          "GlobalToken",
          "Insane Coin",
          "ALAX",
          "LiteDoge",
          "SolarCoin",
          "TruckCoin",
          "UFO Coin",
          "OrangeCoin",
          "BlakeCoin",
          "BitstarCoin",
          "NeosCoin",
          "HyperCoin",
          "PinkCoin",
          "Crypto Escudo",
          "AudioCoin",
          "IncaKoin",
          "Piggy Coin",
          "Crown Coin",
          "Genstake",
          "SmileyCoin",
          "XiaoMiCoin",
          "Groestlcoin",
          "CapriCoin",
          " ClubCoin",
          "Radium",
          "Bata",
          "Pakcoin",
          "Creditbit ",
          "OKCash",
          "Lisk",
          "HiCoin",
          "WhiteCoin",
          "FriendshipCoin",
          "JoinCoin",
          "Triangles Coin",
          "Vollar",
          "EOS",
          "Reality Clash",
          "Oxycoin",
          "TigerCash",
          "Waves",
          "Particl",
          "BitTorrent",
          "Nxt",
          "ZEPHYR",
          "Gapcoin",
          "Beldex",
          "Horizen",
          "BitcoinPlus"
         ],
         "legendgroup": "",
         "marker": {
          "color": [
           0,
           0,
           0,
           1,
           1,
           1,
           0,
           1,
           1,
           1,
           0,
           1,
           0,
           0,
           1,
           0,
           1,
           1,
           0,
           0,
           1,
           1,
           1,
           1,
           1,
           0,
           1,
           1,
           1,
           0,
           1,
           0,
           1,
           1,
           0,
           0,
           1,
           1,
           1,
           1,
           1,
           1,
           0,
           0,
           1,
           1,
           1,
           1,
           1,
           0,
           0,
           1,
           0,
           1,
           1,
           1,
           1,
           0,
           1,
           1,
           0,
           1,
           0,
           0,
           0,
           1,
           1,
           1,
           0,
           0,
           0,
           0,
           0,
           1,
           1,
           1,
           0,
           0,
           1,
           0,
           1,
           0,
           0,
           1,
           1,
           1,
           1,
           0,
           0,
           1,
           0,
           1,
           1,
           0,
           0,
           1,
           0,
           0,
           1,
           1,
           0,
           0,
           1,
           0,
           0,
           1,
           0,
           1,
           0,
           1,
           0,
           1,
           0,
           0,
           1,
           1,
           0,
           1,
           1,
           1,
           0,
           1,
           1,
           1,
           1,
           1,
           0,
           0,
           1,
           1,
           1,
           0,
           1,
           0,
           1,
           1,
           0,
           1,
           0,
           1,
           0,
           0,
           1,
           1,
           0,
           1,
           1,
           0,
           0,
           1,
           0,
           1,
           0,
           0,
           0,
           1,
           1,
           1,
           1,
           0,
           0,
           0,
           0,
           0,
           1,
           1,
           0,
           0,
           0,
           0,
           0,
           1,
           0,
           0,
           0,
           0,
           0,
           1,
           0,
           1,
           0,
           0,
           1,
           0,
           1,
           0,
           0,
           1,
           0,
           1,
           0,
           1,
           0,
           1,
           0,
           0,
           0,
           0,
           1,
           0,
           0,
           0,
           0,
           0,
           1,
           1,
           0,
           0,
           1,
           1,
           0,
           0,
           0,
           0,
           0,
           1,
           0,
           0,
           0,
           0,
           0,
           0,
           0,
           0,
           1,
           0,
           0,
           0,
           0,
           0,
           0,
           1,
           1,
           1,
           0,
           0,
           0,
           0,
           1,
           0,
           1,
           0,
           0,
           1,
           0,
           1,
           1,
           0,
           1,
           1,
           0,
           1,
           0,
           0,
           0,
           1,
           0,
           0,
           1,
           0,
           0,
           0,
           0,
           0,
           0,
           0,
           1,
           0,
           1,
           0,
           0,
           0,
           0,
           1,
           0,
           1,
           0,
           1,
           1,
           1,
           1,
           0,
           1,
           0,
           0,
           1,
           0,
           1,
           1,
           1,
           0,
           1,
           0,
           1,
           1,
           1,
           0,
           1,
           0,
           1,
           0,
           0,
           3,
           1,
           0,
           1,
           1,
           1,
           1,
           1,
           0,
           0,
           1,
           0,
           0,
           0,
           1,
           0,
           1,
           0,
           1,
           0,
           1,
           0,
           0,
           0,
           0,
           1,
           0,
           0,
           1,
           0,
           0,
           0,
           1,
           1,
           1,
           1,
           0,
           0,
           0,
           0,
           1,
           0,
           1,
           1,
           1,
           0,
           0,
           1,
           1,
           0,
           0,
           1,
           0,
           1,
           1,
           1,
           0,
           1,
           1,
           0,
           0,
           0,
           1,
           1,
           1,
           0,
           0,
           0,
           1,
           1,
           0,
           1,
           1,
           1,
           1,
           0,
           3,
           0,
           1,
           1,
           1,
           0,
           0,
           0,
           0,
           0,
           0,
           1,
           1,
           1,
           1,
           0,
           0,
           0,
           1,
           0,
           1,
           0,
           0,
           0,
           0,
           1,
           0,
           0,
           1,
           0,
           0,
           1,
           1,
           0,
           1,
           0,
           1,
           1,
           1,
           1,
           0,
           0,
           1,
           0,
           1,
           0,
           0,
           0,
           0,
           0,
           0,
           1,
           1,
           1,
           0,
           0,
           0,
           0,
           0,
           0,
           1,
           0,
           1,
           1,
           1,
           1,
           0,
           0,
           0,
           0,
           1,
           0,
           0,
           1,
           0,
           0,
           1,
           3,
           1,
           0,
           1,
           1,
           0,
           0,
           1,
           0,
           1,
           1,
           0,
           1,
           1,
           0,
           1,
           0,
           1,
           0,
           0,
           1,
           0,
           0,
           0,
           0,
           0,
           1,
           1,
           1,
           0,
           0,
           0,
           1,
           0,
           1,
           0,
           1,
           0,
           0,
           0,
           0,
           1,
           0,
           0,
           0,
           1,
           0,
           1,
           0,
           1,
           0,
           0,
           0,
           1,
           1,
           0,
           0,
           0,
           0,
           0,
           0,
           1,
           0,
           1,
           0,
           1,
           0,
           0,
           3,
           0,
           2,
           0,
           0,
           0,
           1,
           1,
           0
          ],
          "coloraxis": "coloraxis",
          "symbol": "circle"
         },
         "mode": "markers",
         "name": "",
         "scene": "scene",
         "showlegend": false,
         "type": "scatter3d",
         "x": [
          -0.3470284832522739,
          -0.33037496307956643,
          2.302474587708401,
          -0.14053912561653556,
          -0.14512144281446904,
          -0.17178514703596645,
          -0.39563747708886465,
          -0.14176144140568744,
          -0.14356426957192778,
          -0.13606017940444903,
          -0.28433347143881343,
          0.17124267897805723,
          -0.31461365375761935,
          -0.26469612069936915,
          -0.1729308106923215,
          -0.24568613273122858,
          -0.2217473276891454,
          -0.17254754657603313,
          -0.3466882397497049,
          -0.339269696697717,
          -0.08203477969603419,
          2.547532560400714,
          -0.13762552490134067,
          -0.1698043316453597,
          -0.17235167866659226,
          -0.3455258366071906,
          -0.218708116663478,
          -0.19443750110820504,
          -0.17240041735552766,
          -0.3470244215942895,
          -0.17291308548926035,
          -0.3470087109097483,
          -0.17299949679841267,
          -0.22183662549403527,
          0.6326333142596551,
          -0.3694447297045824,
          0.19498085655998054,
          0.23711704560920416,
          0.07560550246957268,
          -0.17274591857854962,
          -0.16835345269909927,
          -0.17268524412576527,
          -0.34856044968301336,
          -0.3054233211146653,
          -0.17305647124968368,
          -0.16500746844775768,
          -0.15228931482466518,
          -0.17185218274853728,
          -0.1721294934242282,
          -0.3450882847497328,
          -0.3255540929778259,
          1.574972451655267,
          -0.3955322279856545,
          -0.1405005141704296,
          -0.16942025751292003,
          -0.1727723469309961,
          -0.17312698206355978,
          -0.37191834442245697,
          -0.17238660517891544,
          -0.14222114845905764,
          -0.03716677843831067,
          -0.1730083086210136,
          -0.2779393603613997,
          -0.29686217133714776,
          -0.28008552752455923,
          -0.03798272427154407,
          -0.1405780862926361,
          -0.16667541169510133,
          -0.28070741272430744,
          -0.3437484179135698,
          -0.341333756893508,
          -0.3454310700077137,
          0.010926657612671137,
          -0.17298776191510803,
          -0.17108307639647416,
          -0.1724747637170919,
          -0.34543035275784667,
          -0.3959036038938818,
          -0.12773666159679306,
          -0.23915509785682082,
          -0.14004212387578396,
          -0.30913948153009324,
          -0.3958152907514395,
          -0.14032918584751483,
          -0.1403121851091625,
          -0.14090258663804953,
          -0.2220104309968141,
          -0.32227364310704254,
          -0.34570658036604446,
          -0.17270439198740253,
          -0.3156051451559459,
          -0.183626708258489,
          -0.16980904567327892,
          -0.3957797847319056,
          -0.23962258108538959,
          -0.14010938502942538,
          -0.2804883901623271,
          -0.33813635142940107,
          3.864674407250681,
          0.46535377306491005,
          -0.048734711148299005,
          -0.3383538742365389,
          -0.1715725595519691,
          -0.31382578420455737,
          -0.368866593074384,
          -0.1561793284470673,
          -0.2968424390745007,
          -0.17029202103258703,
          -0.2807827617115792,
          -0.17312919048056688,
          -0.2914993164978103,
          -0.17015712622086016,
          -0.34701056111989925,
          -0.280734971797882,
          -0.15638771450970249,
          -0.11909712345429203,
          -0.345874968249578,
          -0.11602422059697114,
          -0.1797402312713405,
          -0.1730023310479403,
          -0.3467450834121913,
          -0.046004765444495256,
          -0.10809161531943044,
          -0.17313807830919045,
          -0.1406058500823436,
          0.4786812496988883,
          -0.3958851424017535,
          -0.3020745830823891,
          -0.22139792539746456,
          -0.141221658308412,
          -0.1403458461866618,
          -0.4226967005601632,
          -0.22168268143410208,
          -0.3511618596506576,
          -0.17126282202527665,
          -0.17045546956393284,
          -0.2952448206393412,
          -0.1461883761350079,
          -0.2802568629462249,
          0.3747143869975384,
          -0.3071743750013852,
          -0.24812626851405442,
          -0.22171805988700682,
          -0.14050163596700085,
          -0.08101842489333883,
          -0.16909797173124003,
          -0.14442908134879182,
          -0.3145845828452424,
          -0.07352436042866252,
          -0.17170215461801455,
          -0.31464824269656494,
          0.27777178692853727,
          -0.22925589500191856,
          -0.34662103104538255,
          -0.29511394913259303,
          -0.22087920780827952,
          -0.14542980883891554,
          -0.1719494723581291,
          -0.1447459463286701,
          -0.3930558657120241,
          0.8556856173575077,
          -0.31444841332860585,
          -0.09775073457983723,
          -0.34824389076843604,
          -0.1729280969765308,
          -0.22168132300856697,
          -0.39372927081670145,
          -0.31319263455269375,
          -0.3108621206128908,
          -0.35055138860221075,
          -0.39462101077931316,
          -0.17313813677462367,
          -0.33830366763800673,
          -0.32293007010582725,
          -0.34665910920210075,
          -0.34509893181047036,
          -0.22956029275940137,
          -0.22183122004228312,
          -0.3333723558824657,
          -0.2205970735260245,
          -0.39535932850941713,
          -0.3458637555581768,
          0.31033675262839006,
          -0.31462920597088584,
          -0.14076159063517696,
          -0.39587434000743926,
          -0.3468481698170405,
          -0.09610673611073754,
          -0.3470047972195202,
          -0.1703062809498043,
          -0.29510350398194024,
          -0.14072024088384624,
          -0.26509665016977163,
          -0.17280170812472737,
          0.028417144124884965,
          -0.34720151975735825,
          -0.3466191549593765,
          -0.3820441260607404,
          -0.14686059368792048,
          -0.3465305039685334,
          -0.230990125801196,
          -0.4127393361800599,
          -0.34627960939035,
          -0.285943421239898,
          -0.14593066192924825,
          -0.1360817858041056,
          3.735313477509326,
          -0.3954670987264516,
          -0.09990204330195977,
          -0.20842123812657865,
          0.8508421789155695,
          -0.39582927339703494,
          -0.3476650250927716,
          -0.34654675283785163,
          -0.34670099905580953,
          -0.2196604778355562,
          -0.34824389076843604,
          -0.3954044078214226,
          -0.31449195027987215,
          -0.3465474875412712,
          -0.3776545143213001,
          -0.3466948007759633,
          -0.34228521744266693,
          -0.395858252327844,
          0.3103311172781558,
          -0.3459059308134052,
          0.3460698235210596,
          -0.3468939710688699,
          -0.3469645041813571,
          -0.34741707731130655,
          -0.35276875721759904,
          -0.17311988401808162,
          0.3104617680646851,
          -0.14176182624405723,
          -0.3431933015494571,
          -0.314605631946121,
          -0.3957682513199805,
          -0.3467424336796097,
          0.49304269075195417,
          -0.34686932097323825,
          -0.14052678903039542,
          -0.2967490054718365,
          -0.31370562540969266,
          -0.1730881869057749,
          -0.23075810240123085,
          -0.21456904188499454,
          -0.1360941537607161,
          -0.3277329615405356,
          -0.17122239125759448,
          -0.14148034720456884,
          -0.296490268070954,
          -0.14587427577167328,
          -0.39503439167505744,
          -0.41961975254627104,
          -0.39377342057808334,
          -0.1440269486294504,
          -0.3464913698107894,
          -0.39493233005919315,
          -0.1778640805415744,
          -0.3408942363187482,
          -0.3908754846507701,
          -0.3468126369386499,
          -0.34681182838185887,
          -0.339937267943373,
          0.2676798708829373,
          -0.3954105512719976,
          -0.17265078597080255,
          -0.27940042553995315,
          -0.10710379447642072,
          -0.34827816854401245,
          -0.3460237481168751,
          0.8856455455957017,
          -0.2633872401460289,
          -0.17247294555448542,
          -0.3370826640491026,
          -0.14038457961634318,
          0.5716208145886025,
          -0.15162600362541784,
          -0.0253914823140115,
          -0.1418525075813414,
          0.3464349468312682,
          -0.3520862269536315,
          -0.22088760030924676,
          -0.3505892504010905,
          -0.4200315176921972,
          -0.17279203942010415,
          -0.2804202326864196,
          -0.17255554748252747,
          -0.22128207810577954,
          -0.2218592376349255,
          0.11766939140144675,
          0.3107259038289891,
          -0.28049096660429573,
          -0.1366901940397719,
          3.2348420066029164,
          -0.11401855826627864,
          -0.3369674823644995,
          -0.21273607278722462,
          -0.4195366609625231,
          -0.14053829024553674,
          -0.39568278941194657,
          -0.2968231636792709,
          4.375244733749148,
          -0.09875044220639868,
          -0.34814451698815124,
          1.5730202688661876,
          -0.1728898388955337,
          -0.17234176467981663,
          -0.17204289034558432,
          -0.17202982770906713,
          -0.34644802687874343,
          -0.34694744286809226,
          0.31090941634201724,
          -0.3423668498423979,
          0.66348737561301,
          -0.39562365043777425,
          0.07612342269501642,
          -0.3387503194271696,
          -0.17626899286909478,
          -0.3469030828104706,
          -0.169693835056819,
          -0.30840795869670484,
          -0.1359402816506542,
          0.42180939377598875,
          -0.3129527744849877,
          -0.3368611716088883,
          -0.39457209842428215,
          -0.14418954096649997,
          -0.34685344815819147,
          -0.39571386862468444,
          -0.17122060129455674,
          -0.34227419010890886,
          -0.34672391407775227,
          -0.0912714499848707,
          -0.2174059261703738,
          -0.1695393267022247,
          -0.1442967199497447,
          -0.16963947983570146,
          -0.3944169488133045,
          3.740166906529006,
          0.20711062842659972,
          -0.27716357889134335,
          -0.10626097911043643,
          -0.3441855361990136,
          1.1478437900671552,
          0.310313897134567,
          -0.06922489932478931,
          -0.30199577588467014,
          -0.34730304122249683,
          -0.21714766780010908,
          -0.12950219007482247,
          0.06719850151816775,
          -0.3458629130578209,
          -0.08931994795222699,
          -0.39499777405661785,
          1.0976519356621692,
          -0.22183324922750325,
          -0.1696913937054315,
          -0.34646822667015537,
          -0.16273278936801044,
          -0.17214121760877157,
          -0.3334352532173776,
          -0.34696956281132263,
          -0.34584691248935134,
          -0.2217586940541939,
          -0.1405176976242677,
          -0.19344024068684149,
          -0.3385854361434512,
          -0.2704294321356995,
          -0.3145212273575262,
          8.04414056067948,
          -0.14445137806743716,
          -0.3425171687607989,
          0.31418635422213087,
          0.019805193760605723,
          -0.14369298975385603,
          -0.1691920747298477,
          -0.222558233602062,
          -0.17394799084523438,
          -0.322718688240951,
          -0.17271465502039482,
          0.13420671299538742,
          -0.21590258615407448,
          -0.36735274351236596,
          -0.32243134145529145,
          -0.3957000275166221,
          -0.3096151367996625,
          -0.29598359875306685,
          -0.31699733658076684,
          -0.09735964058887002,
          0.31823292956059035,
          -0.17295154516603026,
          -0.14743362386027026,
          -0.3516854014280828,
          -0.3469969031441704,
          -0.34697862392729817,
          -0.13493187938072843,
          -0.2903680027849931,
          -0.14464525483789295,
          -0.3372551458021751,
          -0.3477391893284226,
          -0.3466952857344203,
          3.9276686946970387,
          -0.22092835272665567,
          -0.39438259130641573,
          -0.34792775893465255,
          0.31049632493883733,
          -0.309626912393273,
          -0.29359355017732436,
          -0.17792350703292084,
          -0.1416071442619929,
          -0.2650256755300341,
          -0.14106629307445134,
          -0.2965175339321613,
          -0.1469449264100528,
          0.31442248595180006,
          0.585403257157646,
          2.118053881070251,
          -0.15021415433675828,
          -0.29676946257059983,
          -0.13740081907554222,
          -0.35122355196835936,
          0.32409437732449586,
          -0.3461695979180709,
          -0.19761625276776762,
          2.2105197638319196,
          -0.34301329150246573,
          -0.26351488760152775,
          1.027533159817979,
          -0.1857195442247825,
          -0.1445932340845256,
          -0.22181541845968028,
          -0.3588179277040301,
          -0.3474165140556617,
          -0.39739711666759214,
          -0.17756497727059672,
          -0.35819039733252145,
          -0.3461367241838542,
          -0.1729761151816175,
          -0.33987739049645044,
          -0.1293822896984824,
          -0.1441526205710091,
          -0.13449898048685988,
          3.106681483482202,
          -0.34542454443141085,
          -0.3951736416911424,
          -0.29401640287023,
          -0.34702803981111396,
          -0.10038621383493494,
          -0.348036005654722,
          -0.3452859995918289,
          -0.2217867989998693,
          -0.20655401201117737,
          -0.3591366281630236,
          -0.1851475647266371,
          -0.2946020050612055,
          -0.030739819274380353,
          -0.25975411925163155,
          -0.14634299044323992,
          -0.14053832779255226,
          0.5486446444087923,
          -0.1359092617033213,
          0.39021559107577186,
          -0.39669211916842856,
          -0.1338101819508079,
          -0.1342019964494059,
          -0.2594149751441162,
          -0.146991654835693,
          -0.1718689772310821,
          -0.3466992567728329,
          -0.13400139043281342,
          -0.3971479960108434,
          -0.13577318468604385,
          -0.34753342887265226,
          0.5593324194966999,
          -0.17895161370841786,
          -0.34590119899815885,
          -0.34618245317942686,
          -0.3040736908953497,
          -0.3059674215852636,
          -0.3927395913561516,
          -0.13981483476316442,
          -0.10698485708343548,
          -0.13868335171949692,
          -0.3954007577613348,
          3.7524021691847342,
          0.08800031455558804,
          0.5225778216079916,
          -0.3929416956802661,
          -0.09489457930636784,
          -0.3455682718225622,
          -0.08469326786857197,
          -0.3463928255166354,
          -0.2647287339518495,
          -0.3469108831464844,
          -0.38703301253194383,
          -0.15653822675891696,
          -0.26065967161402415,
          -0.0943876657102908,
          -0.3827836324712011,
          -0.14032855660733035,
          -0.3461895827024642,
          0.5423382008730409,
          -0.3392575691107167,
          -0.1939987211585835,
          -0.3919711809594504,
          -0.34462960055686465,
          -0.34851937623729595,
          -0.17305291211886728,
          -0.17100966539100243,
          -0.3775577816991021,
          -0.31312950159698566,
          3.7357050838911294,
          -0.10415355860066182,
          -0.34182585912217367,
          -0.3433744754892601,
          -0.11675874614944638,
          -0.28088990900365174,
          -0.1146235740004506,
          3.745567915354241,
          -0.14596380382108468,
          3.7468113963247793,
          -0.24563563003996441,
          -0.4759721797903906,
          -0.3484552764487595,
          34.05490077626972,
          -0.35782617298448594,
          2.479583658528249,
          -0.3450748921150123,
          0.33206004024440183,
          -0.1360612358339984,
          -0.2971657208551968
         ],
         "y": [
          0.9149739009685034,
          0.9150469092747892,
          1.543745573509953,
          -1.2964197707232834,
          -1.979319626028339,
          -1.1471405934661256,
          1.1796610895868107,
          -2.1562657074733913,
          -1.9794259953930289,
          -1.8658540907322152,
          1.6484798394204376,
          -1.7910366813685712,
          0.7656661817707601,
          0.648017435065336,
          -1.1471269673919353,
          1.7678117563547837,
          -0.8824291252551475,
          -1.1471470119283507,
          0.9149712255694096,
          0.9151829870923144,
          -1.7844415152961806,
          -1.3450369088088114,
          -1.2964463552211065,
          -1.1472044671983286,
          -1.1471671620558508,
          0.9150143947681287,
          -0.44161632507444065,
          -1.2127666315920596,
          -1.147131862773197,
          0.9149736572802414,
          -1.1471264897278768,
          0.914973727483755,
          -1.147123266490777,
          -0.8824301189882302,
          0.19713287509302102,
          0.8493511317779524,
          -1.7872572725833427,
          -1.301060999697046,
          -1.1499501663231921,
          -1.147121984864109,
          -1.1472005391533397,
          -1.1471281195902414,
          1.6551103816850934,
          0.2023254972456381,
          -1.1471234568415574,
          -1.5913972910329912,
          -1.1475593220153062,
          -1.1471325111289241,
          -1.1471415704195822,
          0.9149414245982785,
          1.0625646075675388,
          -1.164004008802638,
          1.1796639258710346,
          -1.296418730210518,
          -1.1472050094651762,
          -1.1471219907178347,
          -1.147118374189478,
          2.252597777624922,
          -1.1471271352328158,
          -2.0781943287948863,
          0.8043234970807596,
          -1.1471212860298496,
          0.7649612403783818,
          0.797313719509749,
          1.6960549247159125,
          -1.1540706938328775,
          -1.2964208206472032,
          -1.147181600179962,
          1.6960381659680712,
          0.47079828482452685,
          0.9148306991152292,
          0.9149477267176745,
          0.924620182894975,
          -1.147128502130473,
          -1.1472389271932697,
          -1.1471360093330611,
          1.062028976190856,
          1.1796694568147152,
          -1.2966871675649159,
          0.16044343735179717,
          -1.2964247508060416,
          1.6247621786651267,
          1.179664773955979,
          -1.296428946457139,
          -1.2964553294413097,
          -1.2964149087122778,
          -0.8824220885335861,
          0.9145108491761732,
          0.91493888949157,
          -1.1471222784839423,
          0.25407619615951316,
          -1.2564321109041299,
          -1.1472154866444784,
          1.1796689093370758,
          0.16050147401416387,
          -1.2964251422353323,
          1.6960440682533953,
          0.914507183420248,
          -2.271553666026256,
          -2.2399252983997258,
          0.3292534897929319,
          1.5691281605423066,
          -1.1471497826100159,
          0.765654921626134,
          0.8493698053691382,
          -1.1478473704681413,
          0.7973256799291939,
          -1.14715854923325,
          1.6960276592963086,
          -1.1471193364119772,
          0.797116495290797,
          -1.1471504033259168,
          0.9149743839691384,
          1.6960303598439532,
          -1.1473726712470107,
          -2.1971135470888887,
          1.0620028676520097,
          -1.7839447820902334,
          -1.5154027151228202,
          -1.14711644281882,
          0.9149674112336174,
          -1.1507551471990982,
          -2.102008593488294,
          -1.1471181572135616,
          -1.2964215688340888,
          -1.1945360746415497,
          1.1796699550268566,
          2.970968905560932,
          -0.8824288919481603,
          -2.180678641267233,
          -1.2964377020468123,
          1.8410571804164857,
          -0.8824280894939841,
          0.9012915865269502,
          -1.1472156867390446,
          -1.1472220142571614,
          0.7972980984874394,
          -1.9793603198213998,
          1.6960149902479493,
          -2.0855942172259025,
          0.7651758518738466,
          1.7679746442660793,
          -0.8824255111560928,
          -1.2964187604410264,
          0.8896173029698782,
          -1.1471571781847547,
          -2.190230609964644,
          0.7656669651823772,
          1.1696035591971916,
          -1.147138356961694,
          0.7656733726297985,
          -1.3004077935987186,
          1.4088782611898103,
          0.9149552146350326,
          0.797216120282261,
          -0.8824509370071759,
          -2.215661692926225,
          -1.14720460290652,
          -2.190242463969395,
          1.1794749625859509,
          0.75845615529798,
          0.7656579205019536,
          0.20418721864953132,
          1.6551047855011702,
          -1.1471261879165144,
          -0.8824308782683212,
          1.1796750761924448,
          0.7655626946400262,
          0.765411987469461,
          1.4055459829658121,
          1.179605839212473,
          -1.1471181566488788,
          1.5916113382454526,
          0.9142106214262776,
          0.914952540354481,
          0.9149552645860779,
          1.5782745751763738,
          -0.8824349177382929,
          1.0618898497602383,
          -0.8611599411773428,
          1.1796488075465332,
          0.9149417173415985,
          -2.2370463527707507,
          0.7656664690104769,
          -1.296417809502389,
          1.1796681270968052,
          0.9149639268850354,
          -1.7842556542559274,
          0.9149745392964449,
          -1.1471826766079731,
          0.7973725412707089,
          -1.2964173325309978,
          0.24790984999753396,
          -1.1471298454060241,
          1.8179261808440277,
          1.6550947329745533,
          0.9149849316990898,
          1.178983428765754,
          -2.162530052008848,
          1.6551368315237542,
          1.5783755467377063,
          1.82889115130135,
          1.6549592364846528,
          1.8182797779773137,
          -1.9793599432682798,
          -1.8658546729879173,
          2.0524163173430248,
          1.1796600302305496,
          -1.152207587117763,
          -0.8824090556103069,
          1.7259311082616995,
          1.1796687388218214,
          1.6550991945840943,
          0.9149596602614012,
          0.914953059633237,
          -0.8825198080457491,
          1.6551047855011702,
          1.1796405292818046,
          0.7656708741631735,
          0.9149635536159013,
          0.8622829837942235,
          0.9149631155019082,
          0.9146421333609451,
          1.1796671479415965,
          -2.2370542744332313,
          0.9149024381387292,
          0.7916843094017927,
          0.9149683433824278,
          0.9149732830329527,
          1.5028560811850384,
          0.5466564468149895,
          -1.1471191465663695,
          -2.237053578998463,
          -2.1806537914990978,
          0.9147240799193577,
          0.7656671042903272,
          1.179666497887735,
          0.9149674826394012,
          -0.9337871635807241,
          0.9149626976419001,
          -2.1563631095916445,
          0.7972893488088744,
          0.1790634420945021,
          -1.1471187484802459,
          1.5783733057625657,
          -0.8829279011587721,
          -1.8658521809017072,
          0.9147875370738032,
          -1.147136729681941,
          -2.1806539759180787,
          0.7973108533929645,
          -2.1153469410689025,
          1.1796222467713398,
          1.743268907316834,
          1.1796491643425642,
          -1.1491586058365866,
          1.6550882370114195,
          1.179624997158204,
          -0.6565485705864066,
          1.6550344349299442,
          1.17945178407888,
          0.9149647346049478,
          0.9149595379998419,
          0.9144586517849028,
          0.609396986507645,
          1.1796544906342339,
          -1.1471296776199447,
          0.7963830217152768,
          -1.2972697756901532,
          1.6550967983194667,
          0.9149268106334328,
          1.7349753548793818,
          0.6479202079323848,
          -1.1471506523209591,
          1.5915972702453407,
          -2.1563027696580703,
          1.7892789051882192,
          -2.182352907652667,
          -2.096616746408499,
          -2.1768978223652464,
          -2.2374791952097937,
          1.4055611293160202,
          -0.882462464697169,
          1.4055237722928122,
          1.7651433497072777,
          -1.1471220105679125,
          1.6960247146194327,
          -1.1471549973385475,
          -0.8824448413865487,
          -0.8824313640578055,
          0.8921794480023671,
          -2.2370669450056604,
          1.6960306501748044,
          -2.0947042231054347,
          -1.1965475355594652,
          -1.2071497031637752,
          1.646301985014716,
          -0.882949140300677,
          1.7651566852540208,
          -1.2964197482114568,
          1.179668692678456,
          0.7973139047971418,
          1.5993678040201846,
          -1.1525297261271623,
          1.6550780795115891,
          -1.1000617237135177,
          -1.1471251569263372,
          -1.1471555933644042,
          -1.1471588407360795,
          -1.1471584887202548,
          0.9149554607314834,
          0.91497311824794,
          -2.2370866432612195,
          1.6493946328748146,
          1.579385764705399,
          1.1796579304645363,
          -1.8749545238512895,
          0.4706530998360306,
          -0.8824608563335352,
          0.9149661671593108,
          -1.5913053199099902,
          0.6880246490530039,
          -1.8658508596917862,
          0.9180341384561512,
          0.7656558446996856,
          1.4051308676242795,
          1.7430427782725553,
          -2.2157174859971214,
          0.9149637846427238,
          1.6204245405049769,
          -1.1471366814454833,
          1.6070806619500675,
          0.914971662988427,
          0.6463426555480424,
          -0.8825452258536539,
          -1.5913138703899392,
          -1.9794951778621515,
          -1.5913072455871924,
          1.179607806608203,
          2.052282229471399,
          1.3994472344588988,
          1.695985333725497,
          -1.78414786730968,
          0.9149021810496156,
          -2.274509258746097,
          -2.237048734550911,
          -1.9843377973218888,
          1.2878978184748915,
          1.5028556225365792,
          -0.8826795353097417,
          -2.1566413206817745,
          0.8908193434087571,
          0.9148993593216466,
          -1.1483906906635464,
          1.1796585508237616,
          -1.2089534603558807,
          -0.8824312994253097,
          -1.5913010160473346,
          1.5028074848282826,
          -1.5914518329480571,
          -1.1471360620541526,
          0.9147045045568146,
          0.9149726634221922,
          1.0620029173616057,
          -0.882431550595538,
          -1.2964186041832946,
          -1.1969521106941923,
          1.5916097489996162,
          -0.034920584401792146,
          0.305620708920732,
          -2.734971836055526,
          -2.0883563475349582,
          0.9149316011141699,
          -2.2371728811587235,
          -1.1489816807904982,
          -2.215664332785398,
          -1.2567607690193976,
          1.5780394615158952,
          4.348738475695824,
          5.336148921496481,
          -1.1471345629269887,
          -1.151836986053948,
          -0.8826106652082776,
          0.8651414992563665,
          5.068742643392111,
          1.1796572849230325,
          1.4445003663190195,
          0.7972612373849275,
          1.4890758632542456,
          -1.982623771826384,
          -2.237532846184128,
          -1.147127526150717,
          -2.081613233613374,
          1.4055436770658944,
          0.9149726329921467,
          0.914971712895138,
          -1.8658582958911791,
          0.7971469822701465,
          -2.1626671402247775,
          1.6136122698507849,
          1.655070354859014,
          0.9149616897423064,
          2.0198666370881053,
          -0.8824635629054679,
          1.6204604161632055,
          1.655070923992211,
          -2.237047985869882,
          0.7543014657808733,
          0.9127960148367702,
          -0.6565309227044228,
          -2.1806611223867027,
          1.1661459390284548,
          -2.1394003879185184,
          0.7973160705895155,
          -2.1625246254673542,
          -2.2373529933615046,
          -2.208499883364371,
          -2.3182919422863564,
          0.9130729891705508,
          0.7972965673242578,
          -2.098709678107349,
          1.8217517835649213,
          -2.2373748901415986,
          0.9149377134828562,
          1.6502901580649894,
          0.2366158598676072,
          1.5025262263904813,
          0.6479872768575082,
          1.809165130127648,
          -1.1901202706185832,
          -2.187026620670462,
          -0.8824316665309385,
          0.8719499803418205,
          1.5028518582914292,
          1.6205168105292136,
          0.7886168942199647,
          0.8056636157606466,
          1.5028305451641224,
          -1.147128968968259,
          0.9144602653802011,
          -2.1571682148482445,
          -2.1456508189021397,
          -0.6176641742235397,
          -2.2707493095747946,
          1.0619902837184583,
          1.1796538114902937,
          0.7972181869921184,
          1.6550033449897057,
          -1.296806210164144,
          0.8565948005857927,
          1.0619622317231894,
          -0.8824337206667932,
          0.9060452317751163,
          1.8649174304540044,
          -1.1901598982152,
          5.06984584551071,
          -1.8683692780297563,
          1.3268504497894693,
          -2.162560320704173,
          -1.2964197492232847,
          1.2690176477425976,
          1.0676752130426426,
          -2.2405939613731816,
          1.6205013047457224,
          -2.1809980765308015,
          -2.180952204482261,
          0.07853939601421119,
          -2.1789387647671177,
          -1.1471682809815678,
          0.9149679398381643,
          -1.865969404190298,
          1.6205137163018222,
          -1.8658533396435553,
          1.5028540970514606,
          0.8865641491304793,
          -1.515452097761366,
          1.0620023726815933,
          0.9149373670554392,
          1.4443389068807084,
          1.8195102668121503,
          1.1794580572072806,
          -1.2964306251694762,
          -0.36605946125661887,
          -1.29647359354838,
          1.1796618180066638,
          2.0522587762794458,
          0.9019750978463575,
          -1.1976618436596238,
          1.1797492759069956,
          -1.5920959175247729,
          0.9148719821316126,
          -2.184544626040264,
          0.9149527073324264,
          0.648010552257795,
          0.9149770701208951,
          1.1795553321635626,
          -1.1473767272959932,
          0.9098847668108713,
          0.7714822313525362,
          1.1793166730256353,
          -1.2964289295001867,
          0.9149859127594141,
          -1.1631541214035765,
          0.9149007757507942,
          -1.2127696404724762,
          1.1796285097842871,
          0.9149255315407763,
          1.6551051314359735,
          -1.147118956291221,
          -1.1471889174045093,
          0.8832489696870994,
          0.7656475504777704,
          2.0524022060174403,
          0.7954486223560979,
          0.9149021992454062,
          0.47076852536630837,
          -1.7839665540710106,
          1.6960331632424577,
          -2.144123809867659,
          2.0527809501672722,
          -1.9793596231705413,
          2.0528144598633364,
          0.6478335667715523,
          1.5776503389267844,
          1.6551071172397203,
          1.6773823992559713,
          1.9048112999416582,
          0.8909238803512787,
          0.9148499606052041,
          -2.2374429244803604,
          -1.865854119201194,
          0.7973162616899501
         ],
         "z": [
          -0.47702328505231045,
          -0.47750876719745255,
          -0.6025776079983461,
          0.1596393835208162,
          0.33542076587489217,
          0.024555657928500806,
          -0.45004597407012437,
          0.37699271406930307,
          0.3354022910274548,
          0.3407685388360462,
          0.013011824755427379,
          0.3178965259293518,
          -0.341965626180871,
          -0.09642520425479856,
          0.02458462129870114,
          -0.5706641995598658,
          0.05156523205058665,
          0.024578614894255384,
          -0.4770322128249485,
          -0.47729110342168846,
          0.32344755827411453,
          -0.004819790282467056,
          0.15956380630144365,
          0.024515168656132062,
          0.024577901186712096,
          -0.47707515352627167,
          0.039989182980188616,
          0.12843245466931966,
          0.024570876483800012,
          -0.47702334127003865,
          0.024584009458844196,
          -0.4770237995826632,
          0.024585671888967174,
          0.051567978479014884,
          -0.3701290651791531,
          -0.3731539025468298,
          0.31633045925866066,
          0.15012746983157246,
          0.018269827303464894,
          0.024578239179181748,
          0.024473451241030612,
          0.024577992592540697,
          -0.15569725351304528,
          -0.15946013177236426,
          0.024587318672163953,
          0.2066255731329289,
          0.024107222873167793,
          0.024555620153965,
          0.024565569616563303,
          -0.477070099389006,
          -0.20520373821543095,
          -0.02053418289693093,
          -0.4500496070663744,
          0.1596380507280927,
          0.024504501541078243,
          0.024578983455117047,
          0.02458809195202393,
          -0.7933737387359897,
          0.02456936395020245,
          0.3076690881201646,
          -0.240454039276108,
          0.024585448599315267,
          -0.342828870782632,
          -0.23148713677704477,
          -0.5662050411999533,
          0.022442643834022606,
          0.1596407283682862,
          0.024421778616844574,
          -0.5661835749210992,
          -0.29487433662768026,
          -0.4771493044956338,
          -0.4770619626594996,
          -0.48937920681818387,
          0.024586587145178772,
          0.02455930846106987,
          0.024573952427874933,
          -0.2045176480251729,
          -0.45004048327472984,
          0.15934310567717236,
          0.06820306697503081,
          0.15962659746532737,
          -0.28376721752807266,
          -0.45004185204353314,
          0.15963566438175428,
          0.15964146078405636,
          0.1596484439126785,
          0.05157095427243709,
          -0.47760900665296857,
          -0.47705211661304164,
          0.024577141721006883,
          -0.25132478455721075,
          0.21306348389212462,
          0.024517921759261284,
          -0.4500438335523267,
          0.06820240560841034,
          0.1596285812206314,
          -0.5661911351579286,
          -0.47716224444734046,
          0.27518507284866506,
          0.36321605347828195,
          -0.46658992238112745,
          -0.11054267113734925,
          0.024551867553003807,
          -0.34198509484579726,
          -0.3731745944611847,
          0.024285071011316016,
          -0.2314905358110166,
          0.024517957285313745,
          -0.5661789582608086,
          0.02458838286059683,
          -0.2315909801726502,
          0.024512228256881395,
          -0.47702390369684305,
          -0.5661809438362869,
          0.02417803778556265,
          0.39155963106377295,
          -0.20449894115769243,
          0.32428484854496464,
          0.1942279979242922,
          0.02458412878306595,
          -0.47702970787840787,
          0.021879649892068302,
          0.3529521926171176,
          0.024588352260052924,
          0.15964168672081194,
          0.017542848890362214,
          -0.4500411206978466,
          -0.9867732296096352,
          0.05155535509500296,
          0.4279664357666688,
          0.1596382149078236,
          -0.6695688381728767,
          0.05156316856629149,
          -0.09481992634726735,
          0.024558834054241217,
          0.024537644682476177,
          -0.2315288845341962,
          0.3354604342917206,
          -0.5661907280378597,
          0.30249186808387857,
          -0.3420581314374505,
          -0.5706343461939182,
          0.0515635498629725,
          0.15963808945034888,
          -0.3623946902617152,
          0.024484067278131037,
          0.4029682427846081,
          -0.34196662965275276,
          -0.4567085282407728,
          0.02455279319014194,
          -0.3419663640058411,
          0.14882934892685729,
          -0.4838165865110199,
          -0.47703029436996297,
          -0.2315130675611464,
          0.051546016936617325,
          0.4169253160508289,
          0.024575499442350456,
          0.37551344070865594,
          -0.4500742776079496,
          -0.2546435765812058,
          -0.3419683063244499,
          -0.3512760758581924,
          -0.15570482091944857,
          0.024584359646591523,
          0.0515637935955366,
          -0.45010293874085705,
          -0.34198095926655764,
          -0.34201062800236154,
          -0.4796145815944604,
          -0.45006140688390717,
          0.02458835376918802,
          -0.11139017366492962,
          -0.477519156110049,
          -0.47702858803238923,
          -0.47707309147036986,
          -0.32065040418327323,
          0.0515689677523206,
          -0.2048235040699757,
          0.32280798397140653,
          -0.4500508717868132,
          -0.47704837102694553,
          0.36688882344449913,
          -0.3419652573283042,
          0.15964517045936893,
          -0.4500409896360765,
          -0.47702598155446885,
          0.32379891120043175,
          -0.4770241026555783,
          0.024524095985506665,
          -0.23155056049985176,
          0.15964389471352533,
          -0.2466770843130577,
          0.024581676745644786,
          -0.6569638945577219,
          -0.15573173064538068,
          -0.4770374142833474,
          -0.45026691610928715,
          0.37154129831894456,
          -0.15576060415019535,
          -0.3206342251050123,
          -0.6408944154848163,
          -0.1557254217845939,
          -0.6482115140345981,
          0.3354531005625563,
          0.34076928464733136,
          -0.5051997274265513,
          -0.45005051136395746,
          0.023740080075054203,
          0.05118587145270355,
          -0.6050997036788971,
          -0.45004240190691336,
          -0.155719762851142,
          -0.4770334395209163,
          -0.4770275340283245,
          0.051528137827372075,
          -0.15570482091944857,
          -0.45004763593712815,
          -0.3419701631101646,
          -0.47703434476884576,
          -0.24468469678453425,
          -0.4770300996991721,
          -0.4770777157021414,
          -0.45004120899204,
          0.3668908657444933,
          -0.477037844305456,
          -0.24822077686925895,
          -0.4770257444224594,
          -0.4770249365078167,
          -0.2159558232155844,
          -0.307400043011013,
          0.02458807611375443,
          0.36688702785055594,
          0.42797570987712397,
          -0.47707167820751617,
          -0.3419660710582169,
          -0.45004358426906765,
          -0.4770297993420711,
          0.04368668519514525,
          -0.4770250946761554,
          0.3769811725240413,
          -0.23148452206614265,
          -0.16761254703206624,
          0.024587090457464537,
          -0.32064021419356825,
          0.05148207172757345,
          0.34076903964588595,
          -0.47752134942117236,
          0.02453892036125143,
          0.4279678415417616,
          -0.23149690912946427,
          0.3393567688487144,
          -0.4500536889867861,
          -0.6221382902474346,
          -0.4500955354807361,
          0.024255307571838434,
          -0.15575014765873144,
          -0.45005721195711457,
          0.02203146742781028,
          -0.15589468447949076,
          -0.4501300544962129,
          -0.47702717244890874,
          -0.47702595934378245,
          -0.4771000802792633,
          -0.10220540725963978,
          -0.4500507834744373,
          0.024577394519756816,
          -0.23175664077257133,
          0.158901682408649,
          -0.15570195791798877,
          -0.47704032869405166,
          -0.5946561939767,
          -0.09643887392016634,
          0.024577383649686306,
          -0.11142114969489494,
          0.3769628253395321,
          -0.6863994848063741,
          0.3605691185663212,
          0.31635991236066746,
          0.41758242733610856,
          0.3659770632740946,
          -0.4795750403214217,
          0.05154899430748884,
          -0.47960823528203594,
          -0.6112707922641851,
          0.02457954171885634,
          -0.5661884484265931,
          0.024580738848693738,
          0.051555891726178124,
          0.051568910188431946,
          -0.48466476685322213,
          0.36688278180911543,
          -0.5661878717090295,
          0.4095212781100786,
          -0.05945268401547448,
          0.12499323311683698,
          -0.14717360750486194,
          0.05143559915299152,
          -0.6112878737650093,
          0.1596393546854189,
          -0.4500465085030234,
          -0.23148827732119212,
          12.755606541500729,
          0.02378431895877397,
          -0.15570126315418845,
          -0.0356857734664974,
          0.024583039051350723,
          0.024574871297082045,
          0.024567242408840666,
          0.02456679151179702,
          -0.4770352159303101,
          -0.4770253769018289,
          0.36688230794160154,
          0.014425553300770014,
          -0.1837990246150327,
          -0.4500456114401325,
          0.3369684194024025,
          -0.294980302693542,
          0.050294411727072476,
          -0.47702497075777567,
          0.2067354316990248,
          -0.042988206754698964,
          0.3407644001966028,
          -0.49936259045408077,
          -0.3420098541033943,
          -0.47990068385200163,
          -0.5284595979061589,
          0.41690372138205845,
          -0.47702579935630257,
          -0.46152270955680236,
          0.024538858575176258,
          -0.1308139954347835,
          -0.47703131406776167,
          -0.10090177065992995,
          0.05147080859198795,
          0.2067331220059764,
          0.33543933239407064,
          0.20673436176489546,
          -0.4500676108104431,
          -0.5053042659937944,
          -0.4938397220349758,
          -0.5662706254642432,
          0.3240587069742844,
          -0.4770861423413349,
          0.3522563033022846,
          0.36689003232178147,
          0.33448076212314987,
          -0.23403601543145422,
          -0.2159589196223002,
          0.05149548998451438,
          0.37673744110876484,
          -0.4829226089811802,
          -0.4770383213162769,
          0.022534907186404683,
          -0.4500633519498849,
          0.11964843558773719,
          0.05156816430056428,
          0.20673433954906312,
          -0.21597093782520663,
          0.20657460429248561,
          0.02456458920121548,
          -0.477341315286527,
          -0.47702464695998287,
          -0.20449974160860865,
          0.051566128335215414,
          0.15963850377259933,
          0.11525920099648557,
          -0.111381875387919,
          0.0793976078285253,
          -0.2860985127033148,
          0.2679110068895433,
          0.34406300905825526,
          -0.4771400356135865,
          0.3668107040522409,
          0.019608016902179073,
          0.41687712299334617,
          0.21273589570240375,
          -0.32079131385232157,
          10.902687710404518,
          3.063466983350593,
          0.024580351638909086,
          0.01707130026040042,
          0.051444113171637565,
          -0.3863521841933171,
          2.6145053846589086,
          -0.4500433110102718,
          -0.3350728194665066,
          -0.23149935182031647,
          -0.08385337331046591,
          0.3348639896393631,
          0.366782562701663,
          0.024585337012782642,
          0.336741220454823,
          -0.47958215685148586,
          -0.4770238712042413,
          -0.47702416620784893,
          0.3407378231068182,
          -0.23163003094221443,
          0.37151162828191614,
          -0.14640502698100685,
          -0.15571081960959296,
          -0.477029746999602,
          -0.5564447812286579,
          0.05155040100241652,
          -0.4615686626847392,
          -0.155705654389074,
          0.36688472634670666,
          -0.08456534318233833,
          -0.47800737129483584,
          0.022028940928391298,
          0.42797310526558263,
          0.020146442928864777,
          0.3781763939798133,
          -0.23149738343390505,
          0.37154237834144593,
          0.3668469000124157,
          0.36239428128998713,
          0.33539652741054715,
          -0.4821035418071538,
          -0.2314856637050721,
          0.378216569985749,
          -0.6472022286148437,
          0.36658023681862295,
          -0.4770388218171913,
          -0.3251020791662556,
          -0.30645080000339336,
          -0.21600116619954038,
          -0.09645123586162488,
          -0.3046640781177728,
          0.17150258258357465,
          0.38489028406826103,
          0.051567750392658304,
          -0.33012613184305334,
          -0.2159548347788682,
          -0.4614973377871761,
          -0.23277226377637242,
          -0.2885301002624189,
          -0.21598574024968445,
          0.024586370784313742,
          -0.4771021471333599,
          0.376859374375641,
          0.4036553362468107,
          0.1665216001979534,
          0.30632666439529044,
          -0.20450860962459885,
          -0.4500572813380008,
          -0.23154441036959775,
          -0.1557148735766419,
          0.1586026125205444,
          -0.3753212492039332,
          -0.20450583283139642,
          0.051567434423526445,
          -0.478848555494731,
          0.31835391257685636,
          0.17149592866711097,
          14.220902058194007,
          0.3384062023637886,
          -0.08953053072384945,
          0.3715339471920679,
          0.15963935598146953,
          0.0789220888876209,
          -0.21174991238555171,
          0.36548715739612025,
          -0.461513467293831,
          0.40296245118205276,
          0.4029625557500251,
          0.08469179882268345,
          0.3513706983055605,
          0.02456459886060771,
          -0.47703112174583095,
          0.3407380909399914,
          -0.46150360455192707,
          0.3407602929803328,
          -0.21595208079105851,
          -0.49574422283335645,
          0.1942175743524487,
          -0.20449808611675332,
          -0.47703837807833865,
          -0.33519018835944014,
          -0.6479412816771389,
          -0.45007914751402595,
          0.1596216055304927,
          -0.06456589506928617,
          0.15960001882236033,
          -0.4500528013262483,
          -0.5056426137512603,
          -0.4861603455259427,
          0.017052301010159907,
          -0.45014272280727313,
          0.20482088953356664,
          -0.477040092770542,
          0.4024252309867913,
          -0.4770361128038439,
          -0.09642265067927278,
          -0.477027344388427,
          -0.4502626892301238,
          0.02418323317840026,
          -0.4782407813951042,
          -0.349539182341328,
          -0.4503253797075173,
          0.15963564266159552,
          -0.47704972259192174,
          0.008290379078978158,
          -0.47722433009490695,
          0.12842083640815005,
          -0.450141283292646,
          -0.47707921308878465,
          -0.15569715947042798,
          0.024586148326773187,
          0.024545351823496507,
          -0.24423841827482373,
          -0.3420029139246574,
          -0.5052073793360405,
          -0.2364605017925109,
          -0.4771524756591924,
          -0.29487777064663395,
          0.32431067329539476,
          -0.5661772553435837,
          0.35074315765618197,
          -0.5055746883464868,
          0.33545395603542144,
          -0.505617610913665,
          -0.09691725554590003,
          22.497119412734477,
          -0.15569943352873652,
          -1.5213371823529318,
          -0.15288307381210178,
          -0.2979048447630995,
          -0.4770487242939436,
          0.36637250682449146,
          0.3407685753019587,
          -0.23147920876697334
         ]
        }
       ],
       "layout": {
        "coloraxis": {
         "colorbar": {
          "title": {
           "text": "Class"
          }
         },
         "colorscale": [
          [
           0,
           "#0d0887"
          ],
          [
           0.1111111111111111,
           "#46039f"
          ],
          [
           0.2222222222222222,
           "#7201a8"
          ],
          [
           0.3333333333333333,
           "#9c179e"
          ],
          [
           0.4444444444444444,
           "#bd3786"
          ],
          [
           0.5555555555555556,
           "#d8576b"
          ],
          [
           0.6666666666666666,
           "#ed7953"
          ],
          [
           0.7777777777777778,
           "#fb9f3a"
          ],
          [
           0.8888888888888888,
           "#fdca26"
          ],
          [
           1,
           "#f0f921"
          ]
         ]
        },
        "legend": {
         "tracegroupgap": 0
        },
        "margin": {
         "t": 60
        },
        "scene": {
         "domain": {
          "x": [
           0,
           1
          ],
          "y": [
           0,
           1
          ]
         },
         "xaxis": {
          "title": {
           "text": "PC1"
          }
         },
         "yaxis": {
          "title": {
           "text": "PC2"
          }
         },
         "zaxis": {
          "title": {
           "text": "PC3"
          }
         }
        },
        "template": {
         "data": {
          "bar": [
           {
            "error_x": {
             "color": "#2a3f5f"
            },
            "error_y": {
             "color": "#2a3f5f"
            },
            "marker": {
             "line": {
              "color": "#E5ECF6",
              "width": 0.5
             }
            },
            "type": "bar"
           }
          ],
          "barpolar": [
           {
            "marker": {
             "line": {
              "color": "#E5ECF6",
              "width": 0.5
             }
            },
            "type": "barpolar"
           }
          ],
          "carpet": [
           {
            "aaxis": {
             "endlinecolor": "#2a3f5f",
             "gridcolor": "white",
             "linecolor": "white",
             "minorgridcolor": "white",
             "startlinecolor": "#2a3f5f"
            },
            "baxis": {
             "endlinecolor": "#2a3f5f",
             "gridcolor": "white",
             "linecolor": "white",
             "minorgridcolor": "white",
             "startlinecolor": "#2a3f5f"
            },
            "type": "carpet"
           }
          ],
          "choropleth": [
           {
            "colorbar": {
             "outlinewidth": 0,
             "ticks": ""
            },
            "type": "choropleth"
           }
          ],
          "contour": [
           {
            "colorbar": {
             "outlinewidth": 0,
             "ticks": ""
            },
            "colorscale": [
             [
              0,
              "#0d0887"
             ],
             [
              0.1111111111111111,
              "#46039f"
             ],
             [
              0.2222222222222222,
              "#7201a8"
             ],
             [
              0.3333333333333333,
              "#9c179e"
             ],
             [
              0.4444444444444444,
              "#bd3786"
             ],
             [
              0.5555555555555556,
              "#d8576b"
             ],
             [
              0.6666666666666666,
              "#ed7953"
             ],
             [
              0.7777777777777778,
              "#fb9f3a"
             ],
             [
              0.8888888888888888,
              "#fdca26"
             ],
             [
              1,
              "#f0f921"
             ]
            ],
            "type": "contour"
           }
          ],
          "contourcarpet": [
           {
            "colorbar": {
             "outlinewidth": 0,
             "ticks": ""
            },
            "type": "contourcarpet"
           }
          ],
          "heatmap": [
           {
            "colorbar": {
             "outlinewidth": 0,
             "ticks": ""
            },
            "colorscale": [
             [
              0,
              "#0d0887"
             ],
             [
              0.1111111111111111,
              "#46039f"
             ],
             [
              0.2222222222222222,
              "#7201a8"
             ],
             [
              0.3333333333333333,
              "#9c179e"
             ],
             [
              0.4444444444444444,
              "#bd3786"
             ],
             [
              0.5555555555555556,
              "#d8576b"
             ],
             [
              0.6666666666666666,
              "#ed7953"
             ],
             [
              0.7777777777777778,
              "#fb9f3a"
             ],
             [
              0.8888888888888888,
              "#fdca26"
             ],
             [
              1,
              "#f0f921"
             ]
            ],
            "type": "heatmap"
           }
          ],
          "heatmapgl": [
           {
            "colorbar": {
             "outlinewidth": 0,
             "ticks": ""
            },
            "colorscale": [
             [
              0,
              "#0d0887"
             ],
             [
              0.1111111111111111,
              "#46039f"
             ],
             [
              0.2222222222222222,
              "#7201a8"
             ],
             [
              0.3333333333333333,
              "#9c179e"
             ],
             [
              0.4444444444444444,
              "#bd3786"
             ],
             [
              0.5555555555555556,
              "#d8576b"
             ],
             [
              0.6666666666666666,
              "#ed7953"
             ],
             [
              0.7777777777777778,
              "#fb9f3a"
             ],
             [
              0.8888888888888888,
              "#fdca26"
             ],
             [
              1,
              "#f0f921"
             ]
            ],
            "type": "heatmapgl"
           }
          ],
          "histogram": [
           {
            "marker": {
             "colorbar": {
              "outlinewidth": 0,
              "ticks": ""
             }
            },
            "type": "histogram"
           }
          ],
          "histogram2d": [
           {
            "colorbar": {
             "outlinewidth": 0,
             "ticks": ""
            },
            "colorscale": [
             [
              0,
              "#0d0887"
             ],
             [
              0.1111111111111111,
              "#46039f"
             ],
             [
              0.2222222222222222,
              "#7201a8"
             ],
             [
              0.3333333333333333,
              "#9c179e"
             ],
             [
              0.4444444444444444,
              "#bd3786"
             ],
             [
              0.5555555555555556,
              "#d8576b"
             ],
             [
              0.6666666666666666,
              "#ed7953"
             ],
             [
              0.7777777777777778,
              "#fb9f3a"
             ],
             [
              0.8888888888888888,
              "#fdca26"
             ],
             [
              1,
              "#f0f921"
             ]
            ],
            "type": "histogram2d"
           }
          ],
          "histogram2dcontour": [
           {
            "colorbar": {
             "outlinewidth": 0,
             "ticks": ""
            },
            "colorscale": [
             [
              0,
              "#0d0887"
             ],
             [
              0.1111111111111111,
              "#46039f"
             ],
             [
              0.2222222222222222,
              "#7201a8"
             ],
             [
              0.3333333333333333,
              "#9c179e"
             ],
             [
              0.4444444444444444,
              "#bd3786"
             ],
             [
              0.5555555555555556,
              "#d8576b"
             ],
             [
              0.6666666666666666,
              "#ed7953"
             ],
             [
              0.7777777777777778,
              "#fb9f3a"
             ],
             [
              0.8888888888888888,
              "#fdca26"
             ],
             [
              1,
              "#f0f921"
             ]
            ],
            "type": "histogram2dcontour"
           }
          ],
          "mesh3d": [
           {
            "colorbar": {
             "outlinewidth": 0,
             "ticks": ""
            },
            "type": "mesh3d"
           }
          ],
          "parcoords": [
           {
            "line": {
             "colorbar": {
              "outlinewidth": 0,
              "ticks": ""
             }
            },
            "type": "parcoords"
           }
          ],
          "pie": [
           {
            "automargin": true,
            "type": "pie"
           }
          ],
          "scatter": [
           {
            "marker": {
             "colorbar": {
              "outlinewidth": 0,
              "ticks": ""
             }
            },
            "type": "scatter"
           }
          ],
          "scatter3d": [
           {
            "line": {
             "colorbar": {
              "outlinewidth": 0,
              "ticks": ""
             }
            },
            "marker": {
             "colorbar": {
              "outlinewidth": 0,
              "ticks": ""
             }
            },
            "type": "scatter3d"
           }
          ],
          "scattercarpet": [
           {
            "marker": {
             "colorbar": {
              "outlinewidth": 0,
              "ticks": ""
             }
            },
            "type": "scattercarpet"
           }
          ],
          "scattergeo": [
           {
            "marker": {
             "colorbar": {
              "outlinewidth": 0,
              "ticks": ""
             }
            },
            "type": "scattergeo"
           }
          ],
          "scattergl": [
           {
            "marker": {
             "colorbar": {
              "outlinewidth": 0,
              "ticks": ""
             }
            },
            "type": "scattergl"
           }
          ],
          "scattermapbox": [
           {
            "marker": {
             "colorbar": {
              "outlinewidth": 0,
              "ticks": ""
             }
            },
            "type": "scattermapbox"
           }
          ],
          "scatterpolar": [
           {
            "marker": {
             "colorbar": {
              "outlinewidth": 0,
              "ticks": ""
             }
            },
            "type": "scatterpolar"
           }
          ],
          "scatterpolargl": [
           {
            "marker": {
             "colorbar": {
              "outlinewidth": 0,
              "ticks": ""
             }
            },
            "type": "scatterpolargl"
           }
          ],
          "scatterternary": [
           {
            "marker": {
             "colorbar": {
              "outlinewidth": 0,
              "ticks": ""
             }
            },
            "type": "scatterternary"
           }
          ],
          "surface": [
           {
            "colorbar": {
             "outlinewidth": 0,
             "ticks": ""
            },
            "colorscale": [
             [
              0,
              "#0d0887"
             ],
             [
              0.1111111111111111,
              "#46039f"
             ],
             [
              0.2222222222222222,
              "#7201a8"
             ],
             [
              0.3333333333333333,
              "#9c179e"
             ],
             [
              0.4444444444444444,
              "#bd3786"
             ],
             [
              0.5555555555555556,
              "#d8576b"
             ],
             [
              0.6666666666666666,
              "#ed7953"
             ],
             [
              0.7777777777777778,
              "#fb9f3a"
             ],
             [
              0.8888888888888888,
              "#fdca26"
             ],
             [
              1,
              "#f0f921"
             ]
            ],
            "type": "surface"
           }
          ],
          "table": [
           {
            "cells": {
             "fill": {
              "color": "#EBF0F8"
             },
             "line": {
              "color": "white"
             }
            },
            "header": {
             "fill": {
              "color": "#C8D4E3"
             },
             "line": {
              "color": "white"
             }
            },
            "type": "table"
           }
          ]
         },
         "layout": {
          "annotationdefaults": {
           "arrowcolor": "#2a3f5f",
           "arrowhead": 0,
           "arrowwidth": 1
          },
          "autotypenumbers": "strict",
          "coloraxis": {
           "colorbar": {
            "outlinewidth": 0,
            "ticks": ""
           }
          },
          "colorscale": {
           "diverging": [
            [
             0,
             "#8e0152"
            ],
            [
             0.1,
             "#c51b7d"
            ],
            [
             0.2,
             "#de77ae"
            ],
            [
             0.3,
             "#f1b6da"
            ],
            [
             0.4,
             "#fde0ef"
            ],
            [
             0.5,
             "#f7f7f7"
            ],
            [
             0.6,
             "#e6f5d0"
            ],
            [
             0.7,
             "#b8e186"
            ],
            [
             0.8,
             "#7fbc41"
            ],
            [
             0.9,
             "#4d9221"
            ],
            [
             1,
             "#276419"
            ]
           ],
           "sequential": [
            [
             0,
             "#0d0887"
            ],
            [
             0.1111111111111111,
             "#46039f"
            ],
            [
             0.2222222222222222,
             "#7201a8"
            ],
            [
             0.3333333333333333,
             "#9c179e"
            ],
            [
             0.4444444444444444,
             "#bd3786"
            ],
            [
             0.5555555555555556,
             "#d8576b"
            ],
            [
             0.6666666666666666,
             "#ed7953"
            ],
            [
             0.7777777777777778,
             "#fb9f3a"
            ],
            [
             0.8888888888888888,
             "#fdca26"
            ],
            [
             1,
             "#f0f921"
            ]
           ],
           "sequentialminus": [
            [
             0,
             "#0d0887"
            ],
            [
             0.1111111111111111,
             "#46039f"
            ],
            [
             0.2222222222222222,
             "#7201a8"
            ],
            [
             0.3333333333333333,
             "#9c179e"
            ],
            [
             0.4444444444444444,
             "#bd3786"
            ],
            [
             0.5555555555555556,
             "#d8576b"
            ],
            [
             0.6666666666666666,
             "#ed7953"
            ],
            [
             0.7777777777777778,
             "#fb9f3a"
            ],
            [
             0.8888888888888888,
             "#fdca26"
            ],
            [
             1,
             "#f0f921"
            ]
           ]
          },
          "colorway": [
           "#636efa",
           "#EF553B",
           "#00cc96",
           "#ab63fa",
           "#FFA15A",
           "#19d3f3",
           "#FF6692",
           "#B6E880",
           "#FF97FF",
           "#FECB52"
          ],
          "font": {
           "color": "#2a3f5f"
          },
          "geo": {
           "bgcolor": "white",
           "lakecolor": "white",
           "landcolor": "#E5ECF6",
           "showlakes": true,
           "showland": true,
           "subunitcolor": "white"
          },
          "hoverlabel": {
           "align": "left"
          },
          "hovermode": "closest",
          "mapbox": {
           "style": "light"
          },
          "paper_bgcolor": "white",
          "plot_bgcolor": "#E5ECF6",
          "polar": {
           "angularaxis": {
            "gridcolor": "white",
            "linecolor": "white",
            "ticks": ""
           },
           "bgcolor": "#E5ECF6",
           "radialaxis": {
            "gridcolor": "white",
            "linecolor": "white",
            "ticks": ""
           }
          },
          "scene": {
           "xaxis": {
            "backgroundcolor": "#E5ECF6",
            "gridcolor": "white",
            "gridwidth": 2,
            "linecolor": "white",
            "showbackground": true,
            "ticks": "",
            "zerolinecolor": "white"
           },
           "yaxis": {
            "backgroundcolor": "#E5ECF6",
            "gridcolor": "white",
            "gridwidth": 2,
            "linecolor": "white",
            "showbackground": true,
            "ticks": "",
            "zerolinecolor": "white"
           },
           "zaxis": {
            "backgroundcolor": "#E5ECF6",
            "gridcolor": "white",
            "gridwidth": 2,
            "linecolor": "white",
            "showbackground": true,
            "ticks": "",
            "zerolinecolor": "white"
           }
          },
          "shapedefaults": {
           "line": {
            "color": "#2a3f5f"
           }
          },
          "ternary": {
           "aaxis": {
            "gridcolor": "white",
            "linecolor": "white",
            "ticks": ""
           },
           "baxis": {
            "gridcolor": "white",
            "linecolor": "white",
            "ticks": ""
           },
           "bgcolor": "#E5ECF6",
           "caxis": {
            "gridcolor": "white",
            "linecolor": "white",
            "ticks": ""
           }
          },
          "title": {
           "x": 0.05
          },
          "xaxis": {
           "automargin": true,
           "gridcolor": "white",
           "linecolor": "white",
           "ticks": "",
           "title": {
            "standoff": 15
           },
           "zerolinecolor": "white",
           "zerolinewidth": 2
          },
          "yaxis": {
           "automargin": true,
           "gridcolor": "white",
           "linecolor": "white",
           "ticks": "",
           "title": {
            "standoff": 15
           },
           "zerolinecolor": "white",
           "zerolinewidth": 2
          }
         }
        }
       }
      },
      "text/html": [
       "<div>                            <div id=\"b145df1c-a751-4c04-8473-14d08f875a98\" class=\"plotly-graph-div\" style=\"height:525px; width:100%;\"></div>            <script type=\"text/javascript\">                require([\"plotly\"], function(Plotly) {                    window.PLOTLYENV=window.PLOTLYENV || {};                                    if (document.getElementById(\"b145df1c-a751-4c04-8473-14d08f875a98\")) {                    Plotly.newPlot(                        \"b145df1c-a751-4c04-8473-14d08f875a98\",                        [{\"customdata\": [[\"Scrypt\"], [\"Scrypt\"], [\"X13\"], [\"SHA-256\"], [\"Ethash\"], [\"Scrypt\"], [\"X11\"], [\"CryptoNight-V7\"], [\"Ethash\"], [\"Equihash\"], [\"SHA-512\"], [\"Multiple\"], [\"SHA-256\"], [\"SHA-256\"], [\"Scrypt\"], [\"X15\"], [\"X11\"], [\"Scrypt\"], [\"Scrypt\"], [\"Scrypt\"], [\"Multiple\"], [\"Scrypt\"], [\"SHA-256\"], [\"Scrypt\"], [\"Scrypt\"], [\"Scrypt\"], [\"Quark\"], [\"Groestl\"], [\"Scrypt\"], [\"Scrypt\"], [\"Scrypt\"], [\"Scrypt\"], [\"Scrypt\"], [\"X11\"], [\"Scrypt\"], [\"Groestl\"], [\"Multiple\"], [\"SHA-256\"], [\"Scrypt\"], [\"Scrypt\"], [\"Scrypt\"], [\"Scrypt\"], [\"PoS\"], [\"Scrypt\"], [\"Scrypt\"], [\"NeoScrypt\"], [\"Scrypt\"], [\"Scrypt\"], [\"Scrypt\"], [\"Scrypt\"], [\"X11\"], [\"Scrypt\"], [\"X11\"], [\"SHA-256\"], [\"Scrypt\"], [\"Scrypt\"], [\"Scrypt\"], [\"SHA3\"], [\"Scrypt\"], [\"HybridScryptHash256\"], [\"Scrypt\"], [\"Scrypt\"], [\"SHA-256\"], [\"Scrypt\"], [\"X13\"], [\"Scrypt\"], [\"SHA-256\"], [\"Scrypt\"], [\"X13\"], [\"NeoScrypt\"], [\"Scrypt\"], [\"Scrypt\"], [\"Scrypt\"], [\"Scrypt\"], [\"Scrypt\"], [\"Scrypt\"], [\"X11\"], [\"X11\"], [\"SHA-256\"], [\"Multiple\"], [\"SHA-256\"], [\"PHI1612\"], [\"X11\"], [\"SHA-256\"], [\"SHA-256\"], [\"SHA-256\"], [\"X11\"], [\"Scrypt\"], [\"Scrypt\"], [\"Scrypt\"], [\"Scrypt\"], [\"Lyra2REv2\"], [\"Scrypt\"], [\"X11\"], [\"Multiple\"], [\"SHA-256\"], [\"X13\"], [\"Scrypt\"], [\"CryptoNight\"], [\"CryptoNight\"], [\"Shabal256\"], [\"Counterparty\"], [\"Scrypt\"], [\"SHA-256\"], [\"Groestl\"], [\"Scrypt\"], [\"Scrypt\"], [\"Scrypt\"], [\"X13\"], [\"Scrypt\"], [\"Scrypt\"], [\"Scrypt\"], [\"Scrypt\"], [\"X13\"], [\"Scrypt\"], [\"Stanford Folding\"], [\"X11\"], [\"Multiple\"], [\"QuBit\"], [\"Scrypt\"], [\"Scrypt\"], [\"Scrypt\"], [\"M7 POW\"], [\"Scrypt\"], [\"SHA-256\"], [\"Scrypt\"], [\"X11\"], [\"SHA3\"], [\"X11\"], [\"Lyra2RE\"], [\"SHA-256\"], [\"QUAIT\"], [\"X11\"], [\"X11\"], [\"Scrypt\"], [\"Scrypt\"], [\"Scrypt\"], [\"Ethash\"], [\"X13\"], [\"Blake2b\"], [\"SHA-256\"], [\"X15\"], [\"X11\"], [\"SHA-256\"], [\"BLAKE256\"], [\"Scrypt\"], [\"1GB AES Pattern Search\"], [\"SHA-256\"], [\"X11\"], [\"Scrypt\"], [\"SHA-256\"], [\"SHA-256\"], [\"NIST5\"], [\"Scrypt\"], [\"Scrypt\"], [\"X11\"], [\"Dagger\"], [\"Scrypt\"], [\"X11GOST\"], [\"X11\"], [\"Scrypt\"], [\"SHA-256\"], [\"Scrypt\"], [\"PoS\"], [\"Scrypt\"], [\"X11\"], [\"X11\"], [\"SHA-256\"], [\"SHA-256\"], [\"NIST5\"], [\"X11\"], [\"Scrypt\"], [\"POS 3.0\"], [\"Scrypt\"], [\"Scrypt\"], [\"Scrypt\"], [\"X13\"], [\"X11\"], [\"X11\"], [\"Equihash\"], [\"X11\"], [\"Scrypt\"], [\"CryptoNight\"], [\"SHA-256\"], [\"SHA-256\"], [\"X11\"], [\"Scrypt\"], [\"Multiple\"], [\"Scrypt\"], [\"Scrypt\"], [\"Scrypt\"], [\"SHA-256\"], [\"Scrypt\"], [\"Scrypt\"], [\"SHA-256D\"], [\"PoS\"], [\"Scrypt\"], [\"X11\"], [\"Lyra2Z\"], [\"PoS\"], [\"X13\"], [\"X14\"], [\"PoS\"], [\"SHA-256D\"], [\"Ethash\"], [\"Equihash\"], [\"DPoS\"], [\"X11\"], [\"Scrypt\"], [\"X11\"], [\"X13\"], [\"X11\"], [\"PoS\"], [\"Scrypt\"], [\"Scrypt\"], [\"X11\"], [\"PoS\"], [\"X11\"], [\"SHA-256\"], [\"Scrypt\"], [\"X11\"], [\"Scrypt\"], [\"Scrypt\"], [\"X11\"], [\"CryptoNight\"], [\"Scrypt\"], [\"Scrypt\"], [\"Scrypt\"], [\"Scrypt\"], [\"Quark\"], [\"QuBit\"], [\"Scrypt\"], [\"CryptoNight\"], [\"Lyra2RE\"], [\"Scrypt\"], [\"SHA-256\"], [\"X11\"], [\"Scrypt\"], [\"X11\"], [\"Scrypt\"], [\"CryptoNight-V7\"], [\"Scrypt\"], [\"Scrypt\"], [\"Scrypt\"], [\"X13\"], [\"X11\"], [\"Equihash\"], [\"Scrypt\"], [\"Scrypt\"], [\"Lyra2RE\"], [\"Scrypt\"], [\"Dagger-Hashimoto\"], [\"X11\"], [\"Blake2S\"], [\"X11\"], [\"Scrypt\"], [\"PoS\"], [\"X11\"], [\"NIST5\"], [\"PoS\"], [\"X11\"], [\"Scrypt\"], [\"Scrypt\"], [\"Scrypt\"], [\"SHA-256\"], [\"X11\"], [\"Scrypt\"], [\"Scrypt\"], [\"SHA-256\"], [\"PoS\"], [\"Scrypt\"], [\"X15\"], [\"SHA-256\"], [\"Scrypt\"], [\"POS 3.0\"], [\"CryptoNight-V7\"], [\"536\"], [\"Argon2d\"], [\"Blake2b\"], [\"Cloverhash\"], [\"CryptoNight\"], [\"NIST5\"], [\"X11\"], [\"NIST5\"], [\"Skein\"], [\"Scrypt\"], [\"X13\"], [\"Scrypt\"], [\"X11\"], [\"X11\"], [\"Scrypt\"], [\"CryptoNight\"], [\"X13\"], [\"Time Travel\"], [\"Scrypt\"], [\"Keccak\"], [\"SkunkHash v2 Raptor\"], [\"X11\"], [\"Skein\"], [\"SHA-256\"], [\"X11\"], [\"Scrypt\"], [\"VeChainThor Authority\"], [\"Scrypt\"], [\"PoS\"], [\"Scrypt\"], [\"Scrypt\"], [\"Scrypt\"], [\"Scrypt\"], [\"Scrypt\"], [\"Scrypt\"], [\"Scrypt\"], [\"CryptoNight\"], [\"SHA-512\"], [\"Ouroboros\"], [\"X11\"], [\"Equihash\"], [\"NeoScrypt\"], [\"X11\"], [\"Scrypt\"], [\"NeoScrypt\"], [\"Lyra2REv2\"], [\"Equihash\"], [\"Scrypt\"], [\"SHA-256\"], [\"NIST5\"], [\"PHI1612\"], [\"Dagger\"], [\"Scrypt\"], [\"Quark\"], [\"Scrypt\"], [\"POS 2.0\"], [\"Scrypt\"], [\"SHA-256\"], [\"X11\"], [\"NeoScrypt\"], [\"Ethash\"], [\"NeoScrypt\"], [\"X11\"], [\"DPoS\"], [\"NIST5\"], [\"X13\"], [\"Multiple\"], [\"Scrypt\"], [\"CryptoNight\"], [\"CryptoNight\"], [\"Ethash\"], [\"NIST5\"], [\"Quark\"], [\"X11\"], [\"CryptoNight-V7\"], [\"Scrypt\"], [\"Scrypt\"], [\"Scrypt\"], [\"X11\"], [\"BLAKE256\"], [\"X11\"], [\"NeoScrypt\"], [\"Quark\"], [\"NeoScrypt\"], [\"Scrypt\"], [\"Scrypt\"], [\"Scrypt\"], [\"X11\"], [\"X11\"], [\"SHA-256\"], [\"C11\"], [\"POS 3.0\"], [\"Ethash\"], [\"Scrypt\"], [\"CryptoNight\"], [\"SkunkHash\"], [\"Scrypt\"], [\"CryptoNight\"], [\"Scrypt\"], [\"Dagger\"], [\"Lyra2REv2\"], [\"X13\"], [\"Proof-of-BibleHash\"], [\"SHA-256 + Hive\"], [\"Scrypt\"], [\"Scrypt\"], [\"X11\"], [\"C11\"], [\"Proof-of-Authority\"], [\"X11\"], [\"XEVAN\"], [\"Scrypt\"], [\"VBFT\"], [\"Ethash\"], [\"CryptoNight\"], [\"Scrypt\"], [\"IMesh\"], [\"NIST5\"], [\"Scrypt\"], [\"Scrypt\"], [\"Equihash\"], [\"Scrypt\"], [\"Lyra2Z\"], [\"Green Protocol\"], [\"PoS\"], [\"Scrypt\"], [\"Semux BFT consensus\"], [\"X11\"], [\"Quark\"], [\"PoS\"], [\"CryptoNight\"], [\"X16R\"], [\"Scrypt\"], [\"NIST5\"], [\"Lyra2RE\"], [\"XEVAN\"], [\"Tribus\"], [\"Scrypt\"], [\"Lyra2Z\"], [\"CryptoNight\"], [\"CryptoNight Heavy\"], [\"CryptoNight\"], [\"Scrypt\"], [\"Scrypt\"], [\"Jump Consistent Hash\"], [\"SHA-256D\"], [\"CryptoNight\"], [\"Scrypt\"], [\"X15\"], [\"Scrypt\"], [\"Quark\"], [\"SHA-256\"], [\"DPoS\"], [\"X16R\"], [\"HMQ1725\"], [\"X11\"], [\"X16R\"], [\"Quark\"], [\"Quark\"], [\"Scrypt\"], [\"Lyra2REv2\"], [\"Quark\"], [\"Scrypt\"], [\"Scrypt\"], [\"CryptoNight-V7\"], [\"Cryptonight-GPU\"], [\"XEVAN\"], [\"CryptoNight Heavy\"], [\"X11\"], [\"X11\"], [\"Scrypt\"], [\"PoS\"], [\"SHA-256\"], [\"Keccak\"], [\"X11\"], [\"X11\"], [\"Scrypt\"], [\"SHA-512\"], [\"X16R\"], [\"ECC 256K1\"], [\"Equihash\"], [\"XEVAN\"], [\"Lyra2Z\"], [\"SHA-256\"], [\"XEVAN\"], [\"X11\"], [\"CryptoNight\"], [\"Quark\"], [\"Blake\"], [\"Blake\"], [\"Equihash\"], [\"Exosis\"], [\"Scrypt\"], [\"Scrypt\"], [\"Equihash\"], [\"Quark\"], [\"Equihash\"], [\"Quark\"], [\"Scrypt\"], [\"QuBit\"], [\"X11\"], [\"Scrypt\"], [\"XEVAN\"], [\"SHA-256D\"], [\"X11\"], [\"SHA-256\"], [\"X13\"], [\"SHA-256\"], [\"X11\"], [\"DPoS\"], [\"Scrypt\"], [\"Scrypt\"], [\"X11\"], [\"NeoScrypt\"], [\"Scrypt\"], [\"Blake\"], [\"Scrypt\"], [\"SHA-256\"], [\"Scrypt\"], [\"X11\"], [\"Scrypt\"], [\"Scrypt\"], [\"SHA-256\"], [\"X11\"], [\"SHA-256\"], [\"Scrypt\"], [\"Scrypt\"], [\"Scrypt\"], [\"Groestl\"], [\"X11\"], [\"Scrypt\"], [\"PoS\"], [\"Scrypt\"], [\"Scrypt\"], [\"X11\"], [\"SHA-256\"], [\"DPoS\"], [\"Scrypt\"], [\"Scrypt\"], [\"NeoScrypt\"], [\"Multiple\"], [\"X13\"], [\"Equihash+Scrypt\"], [\"DPoS\"], [\"Ethash\"], [\"DPoS\"], [\"SHA-256\"], [\"Leased POS\"], [\"PoS\"], [\"TRC10\"], [\"PoS\"], [\"SHA-256\"], [\"Scrypt\"], [\"CryptoNight\"], [\"Equihash\"], [\"Scrypt\"]], \"hovertemplate\": \"<b>%{hovertext}</b><br><br>PC1=%{x}<br>PC2=%{y}<br>PC3=%{z}<br>Algorithm=%{customdata[0]}<br>Class=%{marker.color}<extra></extra>\", \"hovertext\": [\"42 Coin\", \"404Coin\", \"EliteCoin\", \"Bitcoin\", \"Ethereum\", \"Litecoin\", \"Dash\", \"Monero\", \"Ethereum Classic\", \"ZCash\", \"Bitshares\", \"DigiByte\", \"BitcoinDark\", \"PayCoin\", \"ProsperCoin\", \"KoboCoin\", \"Spreadcoin\", \"Argentum\", \"Aurora Coin\", \"BlueCoin\", \"MyriadCoin\", \"MoonCoin\", \"ZetaCoin\", \"SexCoin\", \"Quatloo\", \"EnergyCoin\", \"QuarkCoin\", \"Riecoin\", \"Digitalcoin \", \"BitBar\", \"Catcoin\", \"CryptoBullion\", \"CannaCoin\", \"CryptCoin\", \"CasinoCoin\", \"Diamond\", \"Verge\", \"DevCoin\", \"EarthCoin\", \"E-Gulden\", \"Einsteinium\", \"Emerald\", \"Exclusive Coin\", \"FlutterCoin\", \"Franko\", \"FeatherCoin\", \"GrandCoin\", \"GlobalCoin\", \"GoldCoin\", \"HoboNickels\", \"HyperStake\", \"Infinite Coin\", \"IOCoin\", \"IXcoin\", \"KrugerCoin\", \"LuckyCoin\", \"Litebar \", \"MaxCoin\", \"MegaCoin\", \"MediterraneanCoin\", \"MintCoin\", \"MinCoin\", \"MazaCoin\", \"Nautilus Coin\", \"NavCoin\", \"NobleCoin\", \"Namecoin\", \"NyanCoin\", \"OpalCoin\", \"Orbitcoin\", \"PotCoin\", \"PhoenixCoin\", \"Reddcoin\", \"RonPaulCoin\", \"StableCoin\", \"SmartCoin\", \"SuperCoin\", \"SyncCoin\", \"SysCoin\", \"TeslaCoin\", \"TigerCoin\", \"TittieCoin\", \"TorCoin\", \"TerraCoin\", \"UnbreakableCoin\", \"Unobtanium\", \"UroCoin\", \"UnitaryStatus Dollar\", \"UltraCoin\", \"ViaCoin\", \"VeriCoin\", \"Vertcoin\", \"WorldCoin\", \"X11 Coin\", \"Crypti\", \"JouleCoin\", \"StealthCoin\", \"ZCC Coin\", \"ByteCoin\", \"DigitalNote \", \"BurstCoin\", \"StorjCoin\", \"MonaCoin\", \"Neutron\", \"FairCoin\", \"Gulden\", \"RubyCoin\", \"PesetaCoin\", \"Kore\", \"Wild Beast Coin\", \"Dnotes\", \"Flo\", \"8BIT Coin\", \"Sativa Coin\", \"ArtByte\", \"Folding Coin\", \"Ucoin\", \"Unitus\", \"CypherPunkCoin\", \"OmniCron\", \"Vtorrent\", \"GreenCoin\", \"Cryptonite\", \"MasterCoin\", \"SoonCoin\", \"1Credit\", \"IslaCoin\", \"Nexus\", \"MarsCoin \", \"Crypto\", \"Anarchists Prime\", \"Droidz\", \"BowsCoin\", \"Squall Coin\", \"Song Coin\", \"BitZeny\", \"Diggits\", \"Expanse\", \"Paycon\", \"Siacoin\", \"Emercoin\", \"EverGreenCoin\", \"MindCoin\", \"I0coin\", \"Decred\", \"Revolution VR\", \"HOdlcoin\", \"EDRCoin\", \"Hitcoin\", \"Gamecredits\", \"DubaiCoin\", \"CarpeDiemCoin\", \"PWR Coin\", \"BillaryCoin\", \"GPU Coin\", \"Adzcoin\", \"SoilCoin\", \"YoCoin\", \"SibCoin\", \"EuropeCoin\", \"ZeitCoin\", \"SwingCoin\", \"SafeExchangeCoin\", \"Nebuchadnezzar\", \"Francs\", \"BolivarCoin\", \"Ratecoin\", \"Revenu\", \"Clockcoin\", \"VIP Tokens\", \"BitSend\", \"Omni\", \"Let it Ride\", \"PutinCoin\", \"iBankCoin\", \"Frankywillcoin\", \"MudraCoin\", \"PizzaCoin\", \"Lutetium Coin\", \"Komodo\", \"GoldBlocks\", \"CarterCoin\", \"Karbo\", \"BitTokens\", \"ZayedCoin\", \"MustangCoin\", \"ZoneCoin\", \"Circuits of Value\", \"RootCoin\", \"DopeCoin\", \"BitCurrency\", \"DollarCoin\", \"Swiscoin\", \"Shilling\", \"BuzzCoin\", \"Opair\", \"PesoBit\", \"Halloween Coin\", \"ZCoin\", \"CoffeeCoin\", \"RoyalCoin\", \"GanjaCoin V2\", \"TeamUP\", \"LanaCoin\", \"Elementrem\", \"ZClassic\", \"ARK\", \"InsaneCoin\", \"KiloCoin\", \"ArtexCoin\", \"EmberCoin\", \"XenixCoin\", \"FreeCoin\", \"PLNCoin\", \"AquariusCoin\", \"Kurrent\", \"Creatio\", \"Eternity\", \"Eurocoin\", \"BitcoinFast\", \"Stakenet\", \"BitConnect Coin\", \"MoneyCoin\", \"Enigma\", \"Cannabis Industry Coin\", \"Russiacoin\", \"PandaCoin\", \"GameUnits\", \"GAKHcoin\", \"Allsafe\", \"LiteCreed\", \"OsmiumCoin\", \"Bikercoins\", \"HexxCoin\", \"Klingon Empire Darsek\", \"Internet of People\", \"KushCoin\", \"Printerium\", \"PacCoin\", \"Impeach\", \"Citadel\", \"Zilbercoin\", \"FirstCoin\", \"BeaverCoin\", \"FindCoin\", \"VaultCoin\", \"Zero\", \"OpenChat\", \"Canada eCoin\", \"Zoin\", \"RenosCoin\", \"DubaiCoin\", \"VirtacoinPlus\", \"TajCoin\", \"Impact\", \"EB3coin\", \"Atmos\", \"HappyCoin\", \"Coinonat\", \"MacronCoin\", \"Condensate\", \"Independent Money System\", \"ArgusCoin\", \"LomoCoin\", \"ProCurrency\", \"GoldReserve\", \"BenjiRolls\", \"GrowthCoin\", \"ILCoin\", \"Phreak\", \"Degas Coin\", \"HTML5 Coin\", \"Ultimate Secure Cash\", \"EquiTrader\", \"QTUM\", \"Quantum Resistant Ledger\", \"Espers\", \"Dynamic\", \"Nano\", \"ChanCoin\", \"Dinastycoin\", \"Denarius\", \"DigitalPrice\", \"Virta Unique Coin\", \"Bitcoin Planet\", \"Unify\", \"BritCoin\", \"SocialCoin\", \"ArcticCoin\", \"DAS\", \"Linda\", \"LeviarCoin\", \"DeepOnion\", \"Bitcore\", \"gCn Coin\", \"SmartCash\", \"Signatum\", \"Onix\", \"Cream\", \"Bitcoin Cash\", \"Monoeci\", \"Draftcoin\", \"Vechain\", \"Sojourn Coin\", \"Stakecoin\", \"NewYorkCoin\", \"FrazCoin\", \"Kronecoin\", \"AdCoin\", \"Linx\", \"CoinonatX\", \"Ethereum Dark\", \"Sumokoin\", \"Obsidian\", \"Cardano\", \"Regalcoin\", \"BitcoinZ\", \"TrezarCoin\", \"Elements\", \"TerraNovaCoin\", \"VIVO Coin\", \"Rupee\", \"Bitcoin Gold\", \"WomenCoin\", \"Theresa May Coin\", \"NamoCoin\", \"LUXCoin\", \"Pirl\", \"Xios\", \"Bitcloud 2.0\", \"eBoost\", \"KekCoin\", \"BlackholeCoin\", \"Infinity Economics\", \"Pura\", \"Innova\", \"Ellaism\", \"GoByte\", \"Magnet\", \"Lamden Tau\", \"Electra\", \"Bitcoin Diamond\", \"SHIELD\", \"Cash & Back Coin\", \"UltraNote\", \"BitCoal\", \"DaxxCoin\", \"Bulwark\", \"Kalkulus\", \"AC3\", \"Lethean\", \"GermanCoin\", \"LiteCoin Ultra\", \"PopularCoin\", \"PhantomX\", \"Photon\", \"Sucre\", \"SparksPay\", \"Digiwage\", \"GunCoin\", \"IrishCoin\", \"Trollcoin\", \"Litecoin Plus\", \"Monkey Project\", \"Pioneer Coin\", \"UnitedBitcoin\", \"Interzone\", \"TokenPay\", \"1717 Masonic Commemorative Token\", \"My Big Coin\", \"TurtleCoin\", \"MUNcoin\", \"Unified Society USDEX\", \"Niobio Cash\", \"ShareChain\", \"Travelflex\", \"KREDS\", \"Tokyo Coin\", \"BiblePay\", \"LitecoinCash\", \"BitFlip\", \"LottoCoin\", \"Crypto Improvement Fund\", \"Stipend\", \"Poa Network\", \"Pushi\", \"Ellerium\", \"Velox\", \"Ontology\", \"Callisto Network\", \"BitTube\", \"Poseidon\", \"Aidos Kuneen\", \"Bitspace\", \"Briacoin\", \"Ignition\", \"Bitrolium\", \"MedicCoin\", \"Alpenschillling\", \"Bitcoin Green\", \"Deviant Coin\", \"Abjcoin\", \"Semux\", \"FuturoCoin\", \"Carebit\", \"Zealium\", \"Monero Classic\", \"Proton\", \"iDealCash\", \"Jumpcoin\", \"Infinex\", \"Bitcoin Incognito\", \"KEYCO\", \"HollyWoodCoin\", \"GINcoin\", \"PlatinCoin\", \"Loki\", \"Newton Coin\", \"Swisscoin\", \"Xt3ch\", \"MassGrid\", \"TheVig\", \"PluraCoin\", \"EmaratCoin\", \"Dekado\", \"Lynx\", \"Poseidon Quark\", \"BitcoinWSpectrum\", \"Muse\", \"Motion\", \"PlusOneCoin\", \"Axe\", \"Trivechain\", \"Dystem\", \"Giant\", \"Peony Coin\", \"Absolute Coin\", \"Vitae\", \"HexCoin\", \"TPCash\", \"Webchain\", \"Ryo\", \"Urals Coin\", \"Qwertycoin\", \"ARENON\", \"EUNO\", \"MMOCoin\", \"Ketan\", \"Project Pai\", \"XDNA\", \"PAXEX\", \"Azart\", \"ThunderStake\", \"Kcash\", \"Xchange\", \"Acute Angle Cloud\", \"CrypticCoin\", \"Bettex coin\", \"Actinium\", \"Bitcoin SV\", \"BitMoney\", \"Junson Ming Chan Coin\", \"FREDEnergy\", \"HerbCoin\", \"Universal Molecule\", \"Lithium\", \"PirateCash\", \"Exosis\", \"Block-Logic\", \"Oduwa\", \"Beam\", \"Galilel\", \"Bithereum\", \"Crypto Sports\", \"Credit\", \"SLICE\", \"Dash Platinum\", \"Nasdacoin\", \"Beetle Coin\", \"Titan Coin\", \"Award\", \"BLAST\", \"Bitcoin Rhodium\", \"GlobalToken\", \"Insane Coin\", \"ALAX\", \"LiteDoge\", \"SolarCoin\", \"TruckCoin\", \"UFO Coin\", \"OrangeCoin\", \"BlakeCoin\", \"BitstarCoin\", \"NeosCoin\", \"HyperCoin\", \"PinkCoin\", \"Crypto Escudo\", \"AudioCoin\", \"IncaKoin\", \"Piggy Coin\", \"Crown Coin\", \"Genstake\", \"SmileyCoin\", \"XiaoMiCoin\", \"Groestlcoin\", \"CapriCoin\", \" ClubCoin\", \"Radium\", \"Bata\", \"Pakcoin\", \"Creditbit \", \"OKCash\", \"Lisk\", \"HiCoin\", \"WhiteCoin\", \"FriendshipCoin\", \"JoinCoin\", \"Triangles Coin\", \"Vollar\", \"EOS\", \"Reality Clash\", \"Oxycoin\", \"TigerCash\", \"Waves\", \"Particl\", \"BitTorrent\", \"Nxt\", \"ZEPHYR\", \"Gapcoin\", \"Beldex\", \"Horizen\", \"BitcoinPlus\"], \"legendgroup\": \"\", \"marker\": {\"color\": [0, 0, 0, 1, 1, 1, 0, 1, 1, 1, 0, 1, 0, 0, 1, 0, 1, 1, 0, 0, 1, 1, 1, 1, 1, 0, 1, 1, 1, 0, 1, 0, 1, 1, 0, 0, 1, 1, 1, 1, 1, 1, 0, 0, 1, 1, 1, 1, 1, 0, 0, 1, 0, 1, 1, 1, 1, 0, 1, 1, 0, 1, 0, 0, 0, 1, 1, 1, 0, 0, 0, 0, 0, 1, 1, 1, 0, 0, 1, 0, 1, 0, 0, 1, 1, 1, 1, 0, 0, 1, 0, 1, 1, 0, 0, 1, 0, 0, 1, 1, 0, 0, 1, 0, 0, 1, 0, 1, 0, 1, 0, 1, 0, 0, 1, 1, 0, 1, 1, 1, 0, 1, 1, 1, 1, 1, 0, 0, 1, 1, 1, 0, 1, 0, 1, 1, 0, 1, 0, 1, 0, 0, 1, 1, 0, 1, 1, 0, 0, 1, 0, 1, 0, 0, 0, 1, 1, 1, 1, 0, 0, 0, 0, 0, 1, 1, 0, 0, 0, 0, 0, 1, 0, 0, 0, 0, 0, 1, 0, 1, 0, 0, 1, 0, 1, 0, 0, 1, 0, 1, 0, 1, 0, 1, 0, 0, 0, 0, 1, 0, 0, 0, 0, 0, 1, 1, 0, 0, 1, 1, 0, 0, 0, 0, 0, 1, 0, 0, 0, 0, 0, 0, 0, 0, 1, 0, 0, 0, 0, 0, 0, 1, 1, 1, 0, 0, 0, 0, 1, 0, 1, 0, 0, 1, 0, 1, 1, 0, 1, 1, 0, 1, 0, 0, 0, 1, 0, 0, 1, 0, 0, 0, 0, 0, 0, 0, 1, 0, 1, 0, 0, 0, 0, 1, 0, 1, 0, 1, 1, 1, 1, 0, 1, 0, 0, 1, 0, 1, 1, 1, 0, 1, 0, 1, 1, 1, 0, 1, 0, 1, 0, 0, 3, 1, 0, 1, 1, 1, 1, 1, 0, 0, 1, 0, 0, 0, 1, 0, 1, 0, 1, 0, 1, 0, 0, 0, 0, 1, 0, 0, 1, 0, 0, 0, 1, 1, 1, 1, 0, 0, 0, 0, 1, 0, 1, 1, 1, 0, 0, 1, 1, 0, 0, 1, 0, 1, 1, 1, 0, 1, 1, 0, 0, 0, 1, 1, 1, 0, 0, 0, 1, 1, 0, 1, 1, 1, 1, 0, 3, 0, 1, 1, 1, 0, 0, 0, 0, 0, 0, 1, 1, 1, 1, 0, 0, 0, 1, 0, 1, 0, 0, 0, 0, 1, 0, 0, 1, 0, 0, 1, 1, 0, 1, 0, 1, 1, 1, 1, 0, 0, 1, 0, 1, 0, 0, 0, 0, 0, 0, 1, 1, 1, 0, 0, 0, 0, 0, 0, 1, 0, 1, 1, 1, 1, 0, 0, 0, 0, 1, 0, 0, 1, 0, 0, 1, 3, 1, 0, 1, 1, 0, 0, 1, 0, 1, 1, 0, 1, 1, 0, 1, 0, 1, 0, 0, 1, 0, 0, 0, 0, 0, 1, 1, 1, 0, 0, 0, 1, 0, 1, 0, 1, 0, 0, 0, 0, 1, 0, 0, 0, 1, 0, 1, 0, 1, 0, 0, 0, 1, 1, 0, 0, 0, 0, 0, 0, 1, 0, 1, 0, 1, 0, 0, 3, 0, 2, 0, 0, 0, 1, 1, 0], \"coloraxis\": \"coloraxis\", \"symbol\": \"circle\"}, \"mode\": \"markers\", \"name\": \"\", \"scene\": \"scene\", \"showlegend\": false, \"type\": \"scatter3d\", \"x\": [-0.3470284832522739, -0.33037496307956643, 2.302474587708401, -0.14053912561653556, -0.14512144281446904, -0.17178514703596645, -0.39563747708886465, -0.14176144140568744, -0.14356426957192778, -0.13606017940444903, -0.28433347143881343, 0.17124267897805723, -0.31461365375761935, -0.26469612069936915, -0.1729308106923215, -0.24568613273122858, -0.2217473276891454, -0.17254754657603313, -0.3466882397497049, -0.339269696697717, -0.08203477969603419, 2.547532560400714, -0.13762552490134067, -0.1698043316453597, -0.17235167866659226, -0.3455258366071906, -0.218708116663478, -0.19443750110820504, -0.17240041735552766, -0.3470244215942895, -0.17291308548926035, -0.3470087109097483, -0.17299949679841267, -0.22183662549403527, 0.6326333142596551, -0.3694447297045824, 0.19498085655998054, 0.23711704560920416, 0.07560550246957268, -0.17274591857854962, -0.16835345269909927, -0.17268524412576527, -0.34856044968301336, -0.3054233211146653, -0.17305647124968368, -0.16500746844775768, -0.15228931482466518, -0.17185218274853728, -0.1721294934242282, -0.3450882847497328, -0.3255540929778259, 1.574972451655267, -0.3955322279856545, -0.1405005141704296, -0.16942025751292003, -0.1727723469309961, -0.17312698206355978, -0.37191834442245697, -0.17238660517891544, -0.14222114845905764, -0.03716677843831067, -0.1730083086210136, -0.2779393603613997, -0.29686217133714776, -0.28008552752455923, -0.03798272427154407, -0.1405780862926361, -0.16667541169510133, -0.28070741272430744, -0.3437484179135698, -0.341333756893508, -0.3454310700077137, 0.010926657612671137, -0.17298776191510803, -0.17108307639647416, -0.1724747637170919, -0.34543035275784667, -0.3959036038938818, -0.12773666159679306, -0.23915509785682082, -0.14004212387578396, -0.30913948153009324, -0.3958152907514395, -0.14032918584751483, -0.1403121851091625, -0.14090258663804953, -0.2220104309968141, -0.32227364310704254, -0.34570658036604446, -0.17270439198740253, -0.3156051451559459, -0.183626708258489, -0.16980904567327892, -0.3957797847319056, -0.23962258108538959, -0.14010938502942538, -0.2804883901623271, -0.33813635142940107, 3.864674407250681, 0.46535377306491005, -0.048734711148299005, -0.3383538742365389, -0.1715725595519691, -0.31382578420455737, -0.368866593074384, -0.1561793284470673, -0.2968424390745007, -0.17029202103258703, -0.2807827617115792, -0.17312919048056688, -0.2914993164978103, -0.17015712622086016, -0.34701056111989925, -0.280734971797882, -0.15638771450970249, -0.11909712345429203, -0.345874968249578, -0.11602422059697114, -0.1797402312713405, -0.1730023310479403, -0.3467450834121913, -0.046004765444495256, -0.10809161531943044, -0.17313807830919045, -0.1406058500823436, 0.4786812496988883, -0.3958851424017535, -0.3020745830823891, -0.22139792539746456, -0.141221658308412, -0.1403458461866618, -0.4226967005601632, -0.22168268143410208, -0.3511618596506576, -0.17126282202527665, -0.17045546956393284, -0.2952448206393412, -0.1461883761350079, -0.2802568629462249, 0.3747143869975384, -0.3071743750013852, -0.24812626851405442, -0.22171805988700682, -0.14050163596700085, -0.08101842489333883, -0.16909797173124003, -0.14442908134879182, -0.3145845828452424, -0.07352436042866252, -0.17170215461801455, -0.31464824269656494, 0.27777178692853727, -0.22925589500191856, -0.34662103104538255, -0.29511394913259303, -0.22087920780827952, -0.14542980883891554, -0.1719494723581291, -0.1447459463286701, -0.3930558657120241, 0.8556856173575077, -0.31444841332860585, -0.09775073457983723, -0.34824389076843604, -0.1729280969765308, -0.22168132300856697, -0.39372927081670145, -0.31319263455269375, -0.3108621206128908, -0.35055138860221075, -0.39462101077931316, -0.17313813677462367, -0.33830366763800673, -0.32293007010582725, -0.34665910920210075, -0.34509893181047036, -0.22956029275940137, -0.22183122004228312, -0.3333723558824657, -0.2205970735260245, -0.39535932850941713, -0.3458637555581768, 0.31033675262839006, -0.31462920597088584, -0.14076159063517696, -0.39587434000743926, -0.3468481698170405, -0.09610673611073754, -0.3470047972195202, -0.1703062809498043, -0.29510350398194024, -0.14072024088384624, -0.26509665016977163, -0.17280170812472737, 0.028417144124884965, -0.34720151975735825, -0.3466191549593765, -0.3820441260607404, -0.14686059368792048, -0.3465305039685334, -0.230990125801196, -0.4127393361800599, -0.34627960939035, -0.285943421239898, -0.14593066192924825, -0.1360817858041056, 3.735313477509326, -0.3954670987264516, -0.09990204330195977, -0.20842123812657865, 0.8508421789155695, -0.39582927339703494, -0.3476650250927716, -0.34654675283785163, -0.34670099905580953, -0.2196604778355562, -0.34824389076843604, -0.3954044078214226, -0.31449195027987215, -0.3465474875412712, -0.3776545143213001, -0.3466948007759633, -0.34228521744266693, -0.395858252327844, 0.3103311172781558, -0.3459059308134052, 0.3460698235210596, -0.3468939710688699, -0.3469645041813571, -0.34741707731130655, -0.35276875721759904, -0.17311988401808162, 0.3104617680646851, -0.14176182624405723, -0.3431933015494571, -0.314605631946121, -0.3957682513199805, -0.3467424336796097, 0.49304269075195417, -0.34686932097323825, -0.14052678903039542, -0.2967490054718365, -0.31370562540969266, -0.1730881869057749, -0.23075810240123085, -0.21456904188499454, -0.1360941537607161, -0.3277329615405356, -0.17122239125759448, -0.14148034720456884, -0.296490268070954, -0.14587427577167328, -0.39503439167505744, -0.41961975254627104, -0.39377342057808334, -0.1440269486294504, -0.3464913698107894, -0.39493233005919315, -0.1778640805415744, -0.3408942363187482, -0.3908754846507701, -0.3468126369386499, -0.34681182838185887, -0.339937267943373, 0.2676798708829373, -0.3954105512719976, -0.17265078597080255, -0.27940042553995315, -0.10710379447642072, -0.34827816854401245, -0.3460237481168751, 0.8856455455957017, -0.2633872401460289, -0.17247294555448542, -0.3370826640491026, -0.14038457961634318, 0.5716208145886025, -0.15162600362541784, -0.0253914823140115, -0.1418525075813414, 0.3464349468312682, -0.3520862269536315, -0.22088760030924676, -0.3505892504010905, -0.4200315176921972, -0.17279203942010415, -0.2804202326864196, -0.17255554748252747, -0.22128207810577954, -0.2218592376349255, 0.11766939140144675, 0.3107259038289891, -0.28049096660429573, -0.1366901940397719, 3.2348420066029164, -0.11401855826627864, -0.3369674823644995, -0.21273607278722462, -0.4195366609625231, -0.14053829024553674, -0.39568278941194657, -0.2968231636792709, 4.375244733749148, -0.09875044220639868, -0.34814451698815124, 1.5730202688661876, -0.1728898388955337, -0.17234176467981663, -0.17204289034558432, -0.17202982770906713, -0.34644802687874343, -0.34694744286809226, 0.31090941634201724, -0.3423668498423979, 0.66348737561301, -0.39562365043777425, 0.07612342269501642, -0.3387503194271696, -0.17626899286909478, -0.3469030828104706, -0.169693835056819, -0.30840795869670484, -0.1359402816506542, 0.42180939377598875, -0.3129527744849877, -0.3368611716088883, -0.39457209842428215, -0.14418954096649997, -0.34685344815819147, -0.39571386862468444, -0.17122060129455674, -0.34227419010890886, -0.34672391407775227, -0.0912714499848707, -0.2174059261703738, -0.1695393267022247, -0.1442967199497447, -0.16963947983570146, -0.3944169488133045, 3.740166906529006, 0.20711062842659972, -0.27716357889134335, -0.10626097911043643, -0.3441855361990136, 1.1478437900671552, 0.310313897134567, -0.06922489932478931, -0.30199577588467014, -0.34730304122249683, -0.21714766780010908, -0.12950219007482247, 0.06719850151816775, -0.3458629130578209, -0.08931994795222699, -0.39499777405661785, 1.0976519356621692, -0.22183324922750325, -0.1696913937054315, -0.34646822667015537, -0.16273278936801044, -0.17214121760877157, -0.3334352532173776, -0.34696956281132263, -0.34584691248935134, -0.2217586940541939, -0.1405176976242677, -0.19344024068684149, -0.3385854361434512, -0.2704294321356995, -0.3145212273575262, 8.04414056067948, -0.14445137806743716, -0.3425171687607989, 0.31418635422213087, 0.019805193760605723, -0.14369298975385603, -0.1691920747298477, -0.222558233602062, -0.17394799084523438, -0.322718688240951, -0.17271465502039482, 0.13420671299538742, -0.21590258615407448, -0.36735274351236596, -0.32243134145529145, -0.3957000275166221, -0.3096151367996625, -0.29598359875306685, -0.31699733658076684, -0.09735964058887002, 0.31823292956059035, -0.17295154516603026, -0.14743362386027026, -0.3516854014280828, -0.3469969031441704, -0.34697862392729817, -0.13493187938072843, -0.2903680027849931, -0.14464525483789295, -0.3372551458021751, -0.3477391893284226, -0.3466952857344203, 3.9276686946970387, -0.22092835272665567, -0.39438259130641573, -0.34792775893465255, 0.31049632493883733, -0.309626912393273, -0.29359355017732436, -0.17792350703292084, -0.1416071442619929, -0.2650256755300341, -0.14106629307445134, -0.2965175339321613, -0.1469449264100528, 0.31442248595180006, 0.585403257157646, 2.118053881070251, -0.15021415433675828, -0.29676946257059983, -0.13740081907554222, -0.35122355196835936, 0.32409437732449586, -0.3461695979180709, -0.19761625276776762, 2.2105197638319196, -0.34301329150246573, -0.26351488760152775, 1.027533159817979, -0.1857195442247825, -0.1445932340845256, -0.22181541845968028, -0.3588179277040301, -0.3474165140556617, -0.39739711666759214, -0.17756497727059672, -0.35819039733252145, -0.3461367241838542, -0.1729761151816175, -0.33987739049645044, -0.1293822896984824, -0.1441526205710091, -0.13449898048685988, 3.106681483482202, -0.34542454443141085, -0.3951736416911424, -0.29401640287023, -0.34702803981111396, -0.10038621383493494, -0.348036005654722, -0.3452859995918289, -0.2217867989998693, -0.20655401201117737, -0.3591366281630236, -0.1851475647266371, -0.2946020050612055, -0.030739819274380353, -0.25975411925163155, -0.14634299044323992, -0.14053832779255226, 0.5486446444087923, -0.1359092617033213, 0.39021559107577186, -0.39669211916842856, -0.1338101819508079, -0.1342019964494059, -0.2594149751441162, -0.146991654835693, -0.1718689772310821, -0.3466992567728329, -0.13400139043281342, -0.3971479960108434, -0.13577318468604385, -0.34753342887265226, 0.5593324194966999, -0.17895161370841786, -0.34590119899815885, -0.34618245317942686, -0.3040736908953497, -0.3059674215852636, -0.3927395913561516, -0.13981483476316442, -0.10698485708343548, -0.13868335171949692, -0.3954007577613348, 3.7524021691847342, 0.08800031455558804, 0.5225778216079916, -0.3929416956802661, -0.09489457930636784, -0.3455682718225622, -0.08469326786857197, -0.3463928255166354, -0.2647287339518495, -0.3469108831464844, -0.38703301253194383, -0.15653822675891696, -0.26065967161402415, -0.0943876657102908, -0.3827836324712011, -0.14032855660733035, -0.3461895827024642, 0.5423382008730409, -0.3392575691107167, -0.1939987211585835, -0.3919711809594504, -0.34462960055686465, -0.34851937623729595, -0.17305291211886728, -0.17100966539100243, -0.3775577816991021, -0.31312950159698566, 3.7357050838911294, -0.10415355860066182, -0.34182585912217367, -0.3433744754892601, -0.11675874614944638, -0.28088990900365174, -0.1146235740004506, 3.745567915354241, -0.14596380382108468, 3.7468113963247793, -0.24563563003996441, -0.4759721797903906, -0.3484552764487595, 34.05490077626972, -0.35782617298448594, 2.479583658528249, -0.3450748921150123, 0.33206004024440183, -0.1360612358339984, -0.2971657208551968], \"y\": [0.9149739009685034, 0.9150469092747892, 1.543745573509953, -1.2964197707232834, -1.979319626028339, -1.1471405934661256, 1.1796610895868107, -2.1562657074733913, -1.9794259953930289, -1.8658540907322152, 1.6484798394204376, -1.7910366813685712, 0.7656661817707601, 0.648017435065336, -1.1471269673919353, 1.7678117563547837, -0.8824291252551475, -1.1471470119283507, 0.9149712255694096, 0.9151829870923144, -1.7844415152961806, -1.3450369088088114, -1.2964463552211065, -1.1472044671983286, -1.1471671620558508, 0.9150143947681287, -0.44161632507444065, -1.2127666315920596, -1.147131862773197, 0.9149736572802414, -1.1471264897278768, 0.914973727483755, -1.147123266490777, -0.8824301189882302, 0.19713287509302102, 0.8493511317779524, -1.7872572725833427, -1.301060999697046, -1.1499501663231921, -1.147121984864109, -1.1472005391533397, -1.1471281195902414, 1.6551103816850934, 0.2023254972456381, -1.1471234568415574, -1.5913972910329912, -1.1475593220153062, -1.1471325111289241, -1.1471415704195822, 0.9149414245982785, 1.0625646075675388, -1.164004008802638, 1.1796639258710346, -1.296418730210518, -1.1472050094651762, -1.1471219907178347, -1.147118374189478, 2.252597777624922, -1.1471271352328158, -2.0781943287948863, 0.8043234970807596, -1.1471212860298496, 0.7649612403783818, 0.797313719509749, 1.6960549247159125, -1.1540706938328775, -1.2964208206472032, -1.147181600179962, 1.6960381659680712, 0.47079828482452685, 0.9148306991152292, 0.9149477267176745, 0.924620182894975, -1.147128502130473, -1.1472389271932697, -1.1471360093330611, 1.062028976190856, 1.1796694568147152, -1.2966871675649159, 0.16044343735179717, -1.2964247508060416, 1.6247621786651267, 1.179664773955979, -1.296428946457139, -1.2964553294413097, -1.2964149087122778, -0.8824220885335861, 0.9145108491761732, 0.91493888949157, -1.1471222784839423, 0.25407619615951316, -1.2564321109041299, -1.1472154866444784, 1.1796689093370758, 0.16050147401416387, -1.2964251422353323, 1.6960440682533953, 0.914507183420248, -2.271553666026256, -2.2399252983997258, 0.3292534897929319, 1.5691281605423066, -1.1471497826100159, 0.765654921626134, 0.8493698053691382, -1.1478473704681413, 0.7973256799291939, -1.14715854923325, 1.6960276592963086, -1.1471193364119772, 0.797116495290797, -1.1471504033259168, 0.9149743839691384, 1.6960303598439532, -1.1473726712470107, -2.1971135470888887, 1.0620028676520097, -1.7839447820902334, -1.5154027151228202, -1.14711644281882, 0.9149674112336174, -1.1507551471990982, -2.102008593488294, -1.1471181572135616, -1.2964215688340888, -1.1945360746415497, 1.1796699550268566, 2.970968905560932, -0.8824288919481603, -2.180678641267233, -1.2964377020468123, 1.8410571804164857, -0.8824280894939841, 0.9012915865269502, -1.1472156867390446, -1.1472220142571614, 0.7972980984874394, -1.9793603198213998, 1.6960149902479493, -2.0855942172259025, 0.7651758518738466, 1.7679746442660793, -0.8824255111560928, -1.2964187604410264, 0.8896173029698782, -1.1471571781847547, -2.190230609964644, 0.7656669651823772, 1.1696035591971916, -1.147138356961694, 0.7656733726297985, -1.3004077935987186, 1.4088782611898103, 0.9149552146350326, 0.797216120282261, -0.8824509370071759, -2.215661692926225, -1.14720460290652, -2.190242463969395, 1.1794749625859509, 0.75845615529798, 0.7656579205019536, 0.20418721864953132, 1.6551047855011702, -1.1471261879165144, -0.8824308782683212, 1.1796750761924448, 0.7655626946400262, 0.765411987469461, 1.4055459829658121, 1.179605839212473, -1.1471181566488788, 1.5916113382454526, 0.9142106214262776, 0.914952540354481, 0.9149552645860779, 1.5782745751763738, -0.8824349177382929, 1.0618898497602383, -0.8611599411773428, 1.1796488075465332, 0.9149417173415985, -2.2370463527707507, 0.7656664690104769, -1.296417809502389, 1.1796681270968052, 0.9149639268850354, -1.7842556542559274, 0.9149745392964449, -1.1471826766079731, 0.7973725412707089, -1.2964173325309978, 0.24790984999753396, -1.1471298454060241, 1.8179261808440277, 1.6550947329745533, 0.9149849316990898, 1.178983428765754, -2.162530052008848, 1.6551368315237542, 1.5783755467377063, 1.82889115130135, 1.6549592364846528, 1.8182797779773137, -1.9793599432682798, -1.8658546729879173, 2.0524163173430248, 1.1796600302305496, -1.152207587117763, -0.8824090556103069, 1.7259311082616995, 1.1796687388218214, 1.6550991945840943, 0.9149596602614012, 0.914953059633237, -0.8825198080457491, 1.6551047855011702, 1.1796405292818046, 0.7656708741631735, 0.9149635536159013, 0.8622829837942235, 0.9149631155019082, 0.9146421333609451, 1.1796671479415965, -2.2370542744332313, 0.9149024381387292, 0.7916843094017927, 0.9149683433824278, 0.9149732830329527, 1.5028560811850384, 0.5466564468149895, -1.1471191465663695, -2.237053578998463, -2.1806537914990978, 0.9147240799193577, 0.7656671042903272, 1.179666497887735, 0.9149674826394012, -0.9337871635807241, 0.9149626976419001, -2.1563631095916445, 0.7972893488088744, 0.1790634420945021, -1.1471187484802459, 1.5783733057625657, -0.8829279011587721, -1.8658521809017072, 0.9147875370738032, -1.147136729681941, -2.1806539759180787, 0.7973108533929645, -2.1153469410689025, 1.1796222467713398, 1.743268907316834, 1.1796491643425642, -1.1491586058365866, 1.6550882370114195, 1.179624997158204, -0.6565485705864066, 1.6550344349299442, 1.17945178407888, 0.9149647346049478, 0.9149595379998419, 0.9144586517849028, 0.609396986507645, 1.1796544906342339, -1.1471296776199447, 0.7963830217152768, -1.2972697756901532, 1.6550967983194667, 0.9149268106334328, 1.7349753548793818, 0.6479202079323848, -1.1471506523209591, 1.5915972702453407, -2.1563027696580703, 1.7892789051882192, -2.182352907652667, -2.096616746408499, -2.1768978223652464, -2.2374791952097937, 1.4055611293160202, -0.882462464697169, 1.4055237722928122, 1.7651433497072777, -1.1471220105679125, 1.6960247146194327, -1.1471549973385475, -0.8824448413865487, -0.8824313640578055, 0.8921794480023671, -2.2370669450056604, 1.6960306501748044, -2.0947042231054347, -1.1965475355594652, -1.2071497031637752, 1.646301985014716, -0.882949140300677, 1.7651566852540208, -1.2964197482114568, 1.179668692678456, 0.7973139047971418, 1.5993678040201846, -1.1525297261271623, 1.6550780795115891, -1.1000617237135177, -1.1471251569263372, -1.1471555933644042, -1.1471588407360795, -1.1471584887202548, 0.9149554607314834, 0.91497311824794, -2.2370866432612195, 1.6493946328748146, 1.579385764705399, 1.1796579304645363, -1.8749545238512895, 0.4706530998360306, -0.8824608563335352, 0.9149661671593108, -1.5913053199099902, 0.6880246490530039, -1.8658508596917862, 0.9180341384561512, 0.7656558446996856, 1.4051308676242795, 1.7430427782725553, -2.2157174859971214, 0.9149637846427238, 1.6204245405049769, -1.1471366814454833, 1.6070806619500675, 0.914971662988427, 0.6463426555480424, -0.8825452258536539, -1.5913138703899392, -1.9794951778621515, -1.5913072455871924, 1.179607806608203, 2.052282229471399, 1.3994472344588988, 1.695985333725497, -1.78414786730968, 0.9149021810496156, -2.274509258746097, -2.237048734550911, -1.9843377973218888, 1.2878978184748915, 1.5028556225365792, -0.8826795353097417, -2.1566413206817745, 0.8908193434087571, 0.9148993593216466, -1.1483906906635464, 1.1796585508237616, -1.2089534603558807, -0.8824312994253097, -1.5913010160473346, 1.5028074848282826, -1.5914518329480571, -1.1471360620541526, 0.9147045045568146, 0.9149726634221922, 1.0620029173616057, -0.882431550595538, -1.2964186041832946, -1.1969521106941923, 1.5916097489996162, -0.034920584401792146, 0.305620708920732, -2.734971836055526, -2.0883563475349582, 0.9149316011141699, -2.2371728811587235, -1.1489816807904982, -2.215664332785398, -1.2567607690193976, 1.5780394615158952, 4.348738475695824, 5.336148921496481, -1.1471345629269887, -1.151836986053948, -0.8826106652082776, 0.8651414992563665, 5.068742643392111, 1.1796572849230325, 1.4445003663190195, 0.7972612373849275, 1.4890758632542456, -1.982623771826384, -2.237532846184128, -1.147127526150717, -2.081613233613374, 1.4055436770658944, 0.9149726329921467, 0.914971712895138, -1.8658582958911791, 0.7971469822701465, -2.1626671402247775, 1.6136122698507849, 1.655070354859014, 0.9149616897423064, 2.0198666370881053, -0.8824635629054679, 1.6204604161632055, 1.655070923992211, -2.237047985869882, 0.7543014657808733, 0.9127960148367702, -0.6565309227044228, -2.1806611223867027, 1.1661459390284548, -2.1394003879185184, 0.7973160705895155, -2.1625246254673542, -2.2373529933615046, -2.208499883364371, -2.3182919422863564, 0.9130729891705508, 0.7972965673242578, -2.098709678107349, 1.8217517835649213, -2.2373748901415986, 0.9149377134828562, 1.6502901580649894, 0.2366158598676072, 1.5025262263904813, 0.6479872768575082, 1.809165130127648, -1.1901202706185832, -2.187026620670462, -0.8824316665309385, 0.8719499803418205, 1.5028518582914292, 1.6205168105292136, 0.7886168942199647, 0.8056636157606466, 1.5028305451641224, -1.147128968968259, 0.9144602653802011, -2.1571682148482445, -2.1456508189021397, -0.6176641742235397, -2.2707493095747946, 1.0619902837184583, 1.1796538114902937, 0.7972181869921184, 1.6550033449897057, -1.296806210164144, 0.8565948005857927, 1.0619622317231894, -0.8824337206667932, 0.9060452317751163, 1.8649174304540044, -1.1901598982152, 5.06984584551071, -1.8683692780297563, 1.3268504497894693, -2.162560320704173, -1.2964197492232847, 1.2690176477425976, 1.0676752130426426, -2.2405939613731816, 1.6205013047457224, -2.1809980765308015, -2.180952204482261, 0.07853939601421119, -2.1789387647671177, -1.1471682809815678, 0.9149679398381643, -1.865969404190298, 1.6205137163018222, -1.8658533396435553, 1.5028540970514606, 0.8865641491304793, -1.515452097761366, 1.0620023726815933, 0.9149373670554392, 1.4443389068807084, 1.8195102668121503, 1.1794580572072806, -1.2964306251694762, -0.36605946125661887, -1.29647359354838, 1.1796618180066638, 2.0522587762794458, 0.9019750978463575, -1.1976618436596238, 1.1797492759069956, -1.5920959175247729, 0.9148719821316126, -2.184544626040264, 0.9149527073324264, 0.648010552257795, 0.9149770701208951, 1.1795553321635626, -1.1473767272959932, 0.9098847668108713, 0.7714822313525362, 1.1793166730256353, -1.2964289295001867, 0.9149859127594141, -1.1631541214035765, 0.9149007757507942, -1.2127696404724762, 1.1796285097842871, 0.9149255315407763, 1.6551051314359735, -1.147118956291221, -1.1471889174045093, 0.8832489696870994, 0.7656475504777704, 2.0524022060174403, 0.7954486223560979, 0.9149021992454062, 0.47076852536630837, -1.7839665540710106, 1.6960331632424577, -2.144123809867659, 2.0527809501672722, -1.9793596231705413, 2.0528144598633364, 0.6478335667715523, 1.5776503389267844, 1.6551071172397203, 1.6773823992559713, 1.9048112999416582, 0.8909238803512787, 0.9148499606052041, -2.2374429244803604, -1.865854119201194, 0.7973162616899501], \"z\": [-0.47702328505231045, -0.47750876719745255, -0.6025776079983461, 0.1596393835208162, 0.33542076587489217, 0.024555657928500806, -0.45004597407012437, 0.37699271406930307, 0.3354022910274548, 0.3407685388360462, 0.013011824755427379, 0.3178965259293518, -0.341965626180871, -0.09642520425479856, 0.02458462129870114, -0.5706641995598658, 0.05156523205058665, 0.024578614894255384, -0.4770322128249485, -0.47729110342168846, 0.32344755827411453, -0.004819790282467056, 0.15956380630144365, 0.024515168656132062, 0.024577901186712096, -0.47707515352627167, 0.039989182980188616, 0.12843245466931966, 0.024570876483800012, -0.47702334127003865, 0.024584009458844196, -0.4770237995826632, 0.024585671888967174, 0.051567978479014884, -0.3701290651791531, -0.3731539025468298, 0.31633045925866066, 0.15012746983157246, 0.018269827303464894, 0.024578239179181748, 0.024473451241030612, 0.024577992592540697, -0.15569725351304528, -0.15946013177236426, 0.024587318672163953, 0.2066255731329289, 0.024107222873167793, 0.024555620153965, 0.024565569616563303, -0.477070099389006, -0.20520373821543095, -0.02053418289693093, -0.4500496070663744, 0.1596380507280927, 0.024504501541078243, 0.024578983455117047, 0.02458809195202393, -0.7933737387359897, 0.02456936395020245, 0.3076690881201646, -0.240454039276108, 0.024585448599315267, -0.342828870782632, -0.23148713677704477, -0.5662050411999533, 0.022442643834022606, 0.1596407283682862, 0.024421778616844574, -0.5661835749210992, -0.29487433662768026, -0.4771493044956338, -0.4770619626594996, -0.48937920681818387, 0.024586587145178772, 0.02455930846106987, 0.024573952427874933, -0.2045176480251729, -0.45004048327472984, 0.15934310567717236, 0.06820306697503081, 0.15962659746532737, -0.28376721752807266, -0.45004185204353314, 0.15963566438175428, 0.15964146078405636, 0.1596484439126785, 0.05157095427243709, -0.47760900665296857, -0.47705211661304164, 0.024577141721006883, -0.25132478455721075, 0.21306348389212462, 0.024517921759261284, -0.4500438335523267, 0.06820240560841034, 0.1596285812206314, -0.5661911351579286, -0.47716224444734046, 0.27518507284866506, 0.36321605347828195, -0.46658992238112745, -0.11054267113734925, 0.024551867553003807, -0.34198509484579726, -0.3731745944611847, 0.024285071011316016, -0.2314905358110166, 0.024517957285313745, -0.5661789582608086, 0.02458838286059683, -0.2315909801726502, 0.024512228256881395, -0.47702390369684305, -0.5661809438362869, 0.02417803778556265, 0.39155963106377295, -0.20449894115769243, 0.32428484854496464, 0.1942279979242922, 0.02458412878306595, -0.47702970787840787, 0.021879649892068302, 0.3529521926171176, 0.024588352260052924, 0.15964168672081194, 0.017542848890362214, -0.4500411206978466, -0.9867732296096352, 0.05155535509500296, 0.4279664357666688, 0.1596382149078236, -0.6695688381728767, 0.05156316856629149, -0.09481992634726735, 0.024558834054241217, 0.024537644682476177, -0.2315288845341962, 0.3354604342917206, -0.5661907280378597, 0.30249186808387857, -0.3420581314374505, -0.5706343461939182, 0.0515635498629725, 0.15963808945034888, -0.3623946902617152, 0.024484067278131037, 0.4029682427846081, -0.34196662965275276, -0.4567085282407728, 0.02455279319014194, -0.3419663640058411, 0.14882934892685729, -0.4838165865110199, -0.47703029436996297, -0.2315130675611464, 0.051546016936617325, 0.4169253160508289, 0.024575499442350456, 0.37551344070865594, -0.4500742776079496, -0.2546435765812058, -0.3419683063244499, -0.3512760758581924, -0.15570482091944857, 0.024584359646591523, 0.0515637935955366, -0.45010293874085705, -0.34198095926655764, -0.34201062800236154, -0.4796145815944604, -0.45006140688390717, 0.02458835376918802, -0.11139017366492962, -0.477519156110049, -0.47702858803238923, -0.47707309147036986, -0.32065040418327323, 0.0515689677523206, -0.2048235040699757, 0.32280798397140653, -0.4500508717868132, -0.47704837102694553, 0.36688882344449913, -0.3419652573283042, 0.15964517045936893, -0.4500409896360765, -0.47702598155446885, 0.32379891120043175, -0.4770241026555783, 0.024524095985506665, -0.23155056049985176, 0.15964389471352533, -0.2466770843130577, 0.024581676745644786, -0.6569638945577219, -0.15573173064538068, -0.4770374142833474, -0.45026691610928715, 0.37154129831894456, -0.15576060415019535, -0.3206342251050123, -0.6408944154848163, -0.1557254217845939, -0.6482115140345981, 0.3354531005625563, 0.34076928464733136, -0.5051997274265513, -0.45005051136395746, 0.023740080075054203, 0.05118587145270355, -0.6050997036788971, -0.45004240190691336, -0.155719762851142, -0.4770334395209163, -0.4770275340283245, 0.051528137827372075, -0.15570482091944857, -0.45004763593712815, -0.3419701631101646, -0.47703434476884576, -0.24468469678453425, -0.4770300996991721, -0.4770777157021414, -0.45004120899204, 0.3668908657444933, -0.477037844305456, -0.24822077686925895, -0.4770257444224594, -0.4770249365078167, -0.2159558232155844, -0.307400043011013, 0.02458807611375443, 0.36688702785055594, 0.42797570987712397, -0.47707167820751617, -0.3419660710582169, -0.45004358426906765, -0.4770297993420711, 0.04368668519514525, -0.4770250946761554, 0.3769811725240413, -0.23148452206614265, -0.16761254703206624, 0.024587090457464537, -0.32064021419356825, 0.05148207172757345, 0.34076903964588595, -0.47752134942117236, 0.02453892036125143, 0.4279678415417616, -0.23149690912946427, 0.3393567688487144, -0.4500536889867861, -0.6221382902474346, -0.4500955354807361, 0.024255307571838434, -0.15575014765873144, -0.45005721195711457, 0.02203146742781028, -0.15589468447949076, -0.4501300544962129, -0.47702717244890874, -0.47702595934378245, -0.4771000802792633, -0.10220540725963978, -0.4500507834744373, 0.024577394519756816, -0.23175664077257133, 0.158901682408649, -0.15570195791798877, -0.47704032869405166, -0.5946561939767, -0.09643887392016634, 0.024577383649686306, -0.11142114969489494, 0.3769628253395321, -0.6863994848063741, 0.3605691185663212, 0.31635991236066746, 0.41758242733610856, 0.3659770632740946, -0.4795750403214217, 0.05154899430748884, -0.47960823528203594, -0.6112707922641851, 0.02457954171885634, -0.5661884484265931, 0.024580738848693738, 0.051555891726178124, 0.051568910188431946, -0.48466476685322213, 0.36688278180911543, -0.5661878717090295, 0.4095212781100786, -0.05945268401547448, 0.12499323311683698, -0.14717360750486194, 0.05143559915299152, -0.6112878737650093, 0.1596393546854189, -0.4500465085030234, -0.23148827732119212, 12.755606541500729, 0.02378431895877397, -0.15570126315418845, -0.0356857734664974, 0.024583039051350723, 0.024574871297082045, 0.024567242408840666, 0.02456679151179702, -0.4770352159303101, -0.4770253769018289, 0.36688230794160154, 0.014425553300770014, -0.1837990246150327, -0.4500456114401325, 0.3369684194024025, -0.294980302693542, 0.050294411727072476, -0.47702497075777567, 0.2067354316990248, -0.042988206754698964, 0.3407644001966028, -0.49936259045408077, -0.3420098541033943, -0.47990068385200163, -0.5284595979061589, 0.41690372138205845, -0.47702579935630257, -0.46152270955680236, 0.024538858575176258, -0.1308139954347835, -0.47703131406776167, -0.10090177065992995, 0.05147080859198795, 0.2067331220059764, 0.33543933239407064, 0.20673436176489546, -0.4500676108104431, -0.5053042659937944, -0.4938397220349758, -0.5662706254642432, 0.3240587069742844, -0.4770861423413349, 0.3522563033022846, 0.36689003232178147, 0.33448076212314987, -0.23403601543145422, -0.2159589196223002, 0.05149548998451438, 0.37673744110876484, -0.4829226089811802, -0.4770383213162769, 0.022534907186404683, -0.4500633519498849, 0.11964843558773719, 0.05156816430056428, 0.20673433954906312, -0.21597093782520663, 0.20657460429248561, 0.02456458920121548, -0.477341315286527, -0.47702464695998287, -0.20449974160860865, 0.051566128335215414, 0.15963850377259933, 0.11525920099648557, -0.111381875387919, 0.0793976078285253, -0.2860985127033148, 0.2679110068895433, 0.34406300905825526, -0.4771400356135865, 0.3668107040522409, 0.019608016902179073, 0.41687712299334617, 0.21273589570240375, -0.32079131385232157, 10.902687710404518, 3.063466983350593, 0.024580351638909086, 0.01707130026040042, 0.051444113171637565, -0.3863521841933171, 2.6145053846589086, -0.4500433110102718, -0.3350728194665066, -0.23149935182031647, -0.08385337331046591, 0.3348639896393631, 0.366782562701663, 0.024585337012782642, 0.336741220454823, -0.47958215685148586, -0.4770238712042413, -0.47702416620784893, 0.3407378231068182, -0.23163003094221443, 0.37151162828191614, -0.14640502698100685, -0.15571081960959296, -0.477029746999602, -0.5564447812286579, 0.05155040100241652, -0.4615686626847392, -0.155705654389074, 0.36688472634670666, -0.08456534318233833, -0.47800737129483584, 0.022028940928391298, 0.42797310526558263, 0.020146442928864777, 0.3781763939798133, -0.23149738343390505, 0.37154237834144593, 0.3668469000124157, 0.36239428128998713, 0.33539652741054715, -0.4821035418071538, -0.2314856637050721, 0.378216569985749, -0.6472022286148437, 0.36658023681862295, -0.4770388218171913, -0.3251020791662556, -0.30645080000339336, -0.21600116619954038, -0.09645123586162488, -0.3046640781177728, 0.17150258258357465, 0.38489028406826103, 0.051567750392658304, -0.33012613184305334, -0.2159548347788682, -0.4614973377871761, -0.23277226377637242, -0.2885301002624189, -0.21598574024968445, 0.024586370784313742, -0.4771021471333599, 0.376859374375641, 0.4036553362468107, 0.1665216001979534, 0.30632666439529044, -0.20450860962459885, -0.4500572813380008, -0.23154441036959775, -0.1557148735766419, 0.1586026125205444, -0.3753212492039332, -0.20450583283139642, 0.051567434423526445, -0.478848555494731, 0.31835391257685636, 0.17149592866711097, 14.220902058194007, 0.3384062023637886, -0.08953053072384945, 0.3715339471920679, 0.15963935598146953, 0.0789220888876209, -0.21174991238555171, 0.36548715739612025, -0.461513467293831, 0.40296245118205276, 0.4029625557500251, 0.08469179882268345, 0.3513706983055605, 0.02456459886060771, -0.47703112174583095, 0.3407380909399914, -0.46150360455192707, 0.3407602929803328, -0.21595208079105851, -0.49574422283335645, 0.1942175743524487, -0.20449808611675332, -0.47703837807833865, -0.33519018835944014, -0.6479412816771389, -0.45007914751402595, 0.1596216055304927, -0.06456589506928617, 0.15960001882236033, -0.4500528013262483, -0.5056426137512603, -0.4861603455259427, 0.017052301010159907, -0.45014272280727313, 0.20482088953356664, -0.477040092770542, 0.4024252309867913, -0.4770361128038439, -0.09642265067927278, -0.477027344388427, -0.4502626892301238, 0.02418323317840026, -0.4782407813951042, -0.349539182341328, -0.4503253797075173, 0.15963564266159552, -0.47704972259192174, 0.008290379078978158, -0.47722433009490695, 0.12842083640815005, -0.450141283292646, -0.47707921308878465, -0.15569715947042798, 0.024586148326773187, 0.024545351823496507, -0.24423841827482373, -0.3420029139246574, -0.5052073793360405, -0.2364605017925109, -0.4771524756591924, -0.29487777064663395, 0.32431067329539476, -0.5661772553435837, 0.35074315765618197, -0.5055746883464868, 0.33545395603542144, -0.505617610913665, -0.09691725554590003, 22.497119412734477, -0.15569943352873652, -1.5213371823529318, -0.15288307381210178, -0.2979048447630995, -0.4770487242939436, 0.36637250682449146, 0.3407685753019587, -0.23147920876697334]}],                        {\"coloraxis\": {\"colorbar\": {\"title\": {\"text\": \"Class\"}}, \"colorscale\": [[0.0, \"#0d0887\"], [0.1111111111111111, \"#46039f\"], [0.2222222222222222, \"#7201a8\"], [0.3333333333333333, \"#9c179e\"], [0.4444444444444444, \"#bd3786\"], [0.5555555555555556, \"#d8576b\"], [0.6666666666666666, \"#ed7953\"], [0.7777777777777778, \"#fb9f3a\"], [0.8888888888888888, \"#fdca26\"], [1.0, \"#f0f921\"]]}, \"legend\": {\"tracegroupgap\": 0}, \"margin\": {\"t\": 60}, \"scene\": {\"domain\": {\"x\": [0.0, 1.0], \"y\": [0.0, 1.0]}, \"xaxis\": {\"title\": {\"text\": \"PC1\"}}, \"yaxis\": {\"title\": {\"text\": \"PC2\"}}, \"zaxis\": {\"title\": {\"text\": \"PC3\"}}}, \"template\": {\"data\": {\"bar\": [{\"error_x\": {\"color\": \"#2a3f5f\"}, \"error_y\": {\"color\": \"#2a3f5f\"}, \"marker\": {\"line\": {\"color\": \"#E5ECF6\", \"width\": 0.5}}, \"type\": \"bar\"}], \"barpolar\": [{\"marker\": {\"line\": {\"color\": \"#E5ECF6\", \"width\": 0.5}}, \"type\": \"barpolar\"}], \"carpet\": [{\"aaxis\": {\"endlinecolor\": \"#2a3f5f\", \"gridcolor\": \"white\", \"linecolor\": \"white\", \"minorgridcolor\": \"white\", \"startlinecolor\": \"#2a3f5f\"}, \"baxis\": {\"endlinecolor\": \"#2a3f5f\", \"gridcolor\": \"white\", \"linecolor\": \"white\", \"minorgridcolor\": \"white\", \"startlinecolor\": \"#2a3f5f\"}, \"type\": \"carpet\"}], \"choropleth\": [{\"colorbar\": {\"outlinewidth\": 0, \"ticks\": \"\"}, \"type\": \"choropleth\"}], \"contour\": [{\"colorbar\": {\"outlinewidth\": 0, \"ticks\": \"\"}, \"colorscale\": [[0.0, \"#0d0887\"], [0.1111111111111111, \"#46039f\"], [0.2222222222222222, \"#7201a8\"], [0.3333333333333333, \"#9c179e\"], [0.4444444444444444, \"#bd3786\"], [0.5555555555555556, \"#d8576b\"], [0.6666666666666666, \"#ed7953\"], [0.7777777777777778, \"#fb9f3a\"], [0.8888888888888888, \"#fdca26\"], [1.0, \"#f0f921\"]], \"type\": \"contour\"}], \"contourcarpet\": [{\"colorbar\": {\"outlinewidth\": 0, \"ticks\": \"\"}, \"type\": \"contourcarpet\"}], \"heatmap\": [{\"colorbar\": {\"outlinewidth\": 0, \"ticks\": \"\"}, \"colorscale\": [[0.0, \"#0d0887\"], [0.1111111111111111, \"#46039f\"], [0.2222222222222222, \"#7201a8\"], [0.3333333333333333, \"#9c179e\"], [0.4444444444444444, \"#bd3786\"], [0.5555555555555556, \"#d8576b\"], [0.6666666666666666, \"#ed7953\"], [0.7777777777777778, \"#fb9f3a\"], [0.8888888888888888, \"#fdca26\"], [1.0, \"#f0f921\"]], \"type\": \"heatmap\"}], \"heatmapgl\": [{\"colorbar\": {\"outlinewidth\": 0, \"ticks\": \"\"}, \"colorscale\": [[0.0, \"#0d0887\"], [0.1111111111111111, \"#46039f\"], [0.2222222222222222, \"#7201a8\"], [0.3333333333333333, \"#9c179e\"], [0.4444444444444444, \"#bd3786\"], [0.5555555555555556, \"#d8576b\"], [0.6666666666666666, \"#ed7953\"], [0.7777777777777778, \"#fb9f3a\"], [0.8888888888888888, \"#fdca26\"], [1.0, \"#f0f921\"]], \"type\": \"heatmapgl\"}], \"histogram\": [{\"marker\": {\"colorbar\": {\"outlinewidth\": 0, \"ticks\": \"\"}}, \"type\": \"histogram\"}], \"histogram2d\": [{\"colorbar\": {\"outlinewidth\": 0, \"ticks\": \"\"}, \"colorscale\": [[0.0, \"#0d0887\"], [0.1111111111111111, \"#46039f\"], [0.2222222222222222, \"#7201a8\"], [0.3333333333333333, \"#9c179e\"], [0.4444444444444444, \"#bd3786\"], [0.5555555555555556, \"#d8576b\"], [0.6666666666666666, \"#ed7953\"], [0.7777777777777778, \"#fb9f3a\"], [0.8888888888888888, \"#fdca26\"], [1.0, \"#f0f921\"]], \"type\": \"histogram2d\"}], \"histogram2dcontour\": [{\"colorbar\": {\"outlinewidth\": 0, \"ticks\": \"\"}, \"colorscale\": [[0.0, \"#0d0887\"], [0.1111111111111111, \"#46039f\"], [0.2222222222222222, \"#7201a8\"], [0.3333333333333333, \"#9c179e\"], [0.4444444444444444, \"#bd3786\"], [0.5555555555555556, \"#d8576b\"], [0.6666666666666666, \"#ed7953\"], [0.7777777777777778, \"#fb9f3a\"], [0.8888888888888888, \"#fdca26\"], [1.0, \"#f0f921\"]], \"type\": \"histogram2dcontour\"}], \"mesh3d\": [{\"colorbar\": {\"outlinewidth\": 0, \"ticks\": \"\"}, \"type\": \"mesh3d\"}], \"parcoords\": [{\"line\": {\"colorbar\": {\"outlinewidth\": 0, \"ticks\": \"\"}}, \"type\": \"parcoords\"}], \"pie\": [{\"automargin\": true, \"type\": \"pie\"}], \"scatter\": [{\"marker\": {\"colorbar\": {\"outlinewidth\": 0, \"ticks\": \"\"}}, \"type\": \"scatter\"}], \"scatter3d\": [{\"line\": {\"colorbar\": {\"outlinewidth\": 0, \"ticks\": \"\"}}, \"marker\": {\"colorbar\": {\"outlinewidth\": 0, \"ticks\": \"\"}}, \"type\": \"scatter3d\"}], \"scattercarpet\": [{\"marker\": {\"colorbar\": {\"outlinewidth\": 0, \"ticks\": \"\"}}, \"type\": \"scattercarpet\"}], \"scattergeo\": [{\"marker\": {\"colorbar\": {\"outlinewidth\": 0, \"ticks\": \"\"}}, \"type\": \"scattergeo\"}], \"scattergl\": [{\"marker\": {\"colorbar\": {\"outlinewidth\": 0, \"ticks\": \"\"}}, \"type\": \"scattergl\"}], \"scattermapbox\": [{\"marker\": {\"colorbar\": {\"outlinewidth\": 0, \"ticks\": \"\"}}, \"type\": \"scattermapbox\"}], \"scatterpolar\": [{\"marker\": {\"colorbar\": {\"outlinewidth\": 0, \"ticks\": \"\"}}, \"type\": \"scatterpolar\"}], \"scatterpolargl\": [{\"marker\": {\"colorbar\": {\"outlinewidth\": 0, \"ticks\": \"\"}}, \"type\": \"scatterpolargl\"}], \"scatterternary\": [{\"marker\": {\"colorbar\": {\"outlinewidth\": 0, \"ticks\": \"\"}}, \"type\": \"scatterternary\"}], \"surface\": [{\"colorbar\": {\"outlinewidth\": 0, \"ticks\": \"\"}, \"colorscale\": [[0.0, \"#0d0887\"], [0.1111111111111111, \"#46039f\"], [0.2222222222222222, \"#7201a8\"], [0.3333333333333333, \"#9c179e\"], [0.4444444444444444, \"#bd3786\"], [0.5555555555555556, \"#d8576b\"], [0.6666666666666666, \"#ed7953\"], [0.7777777777777778, \"#fb9f3a\"], [0.8888888888888888, \"#fdca26\"], [1.0, \"#f0f921\"]], \"type\": \"surface\"}], \"table\": [{\"cells\": {\"fill\": {\"color\": \"#EBF0F8\"}, \"line\": {\"color\": \"white\"}}, \"header\": {\"fill\": {\"color\": \"#C8D4E3\"}, \"line\": {\"color\": \"white\"}}, \"type\": \"table\"}]}, \"layout\": {\"annotationdefaults\": {\"arrowcolor\": \"#2a3f5f\", \"arrowhead\": 0, \"arrowwidth\": 1}, \"autotypenumbers\": \"strict\", \"coloraxis\": {\"colorbar\": {\"outlinewidth\": 0, \"ticks\": \"\"}}, \"colorscale\": {\"diverging\": [[0, \"#8e0152\"], [0.1, \"#c51b7d\"], [0.2, \"#de77ae\"], [0.3, \"#f1b6da\"], [0.4, \"#fde0ef\"], [0.5, \"#f7f7f7\"], [0.6, \"#e6f5d0\"], [0.7, \"#b8e186\"], [0.8, \"#7fbc41\"], [0.9, \"#4d9221\"], [1, \"#276419\"]], \"sequential\": [[0.0, \"#0d0887\"], [0.1111111111111111, \"#46039f\"], [0.2222222222222222, \"#7201a8\"], [0.3333333333333333, \"#9c179e\"], [0.4444444444444444, \"#bd3786\"], [0.5555555555555556, \"#d8576b\"], [0.6666666666666666, \"#ed7953\"], [0.7777777777777778, \"#fb9f3a\"], [0.8888888888888888, \"#fdca26\"], [1.0, \"#f0f921\"]], \"sequentialminus\": [[0.0, \"#0d0887\"], [0.1111111111111111, \"#46039f\"], [0.2222222222222222, \"#7201a8\"], [0.3333333333333333, \"#9c179e\"], [0.4444444444444444, \"#bd3786\"], [0.5555555555555556, \"#d8576b\"], [0.6666666666666666, \"#ed7953\"], [0.7777777777777778, \"#fb9f3a\"], [0.8888888888888888, \"#fdca26\"], [1.0, \"#f0f921\"]]}, \"colorway\": [\"#636efa\", \"#EF553B\", \"#00cc96\", \"#ab63fa\", \"#FFA15A\", \"#19d3f3\", \"#FF6692\", \"#B6E880\", \"#FF97FF\", \"#FECB52\"], \"font\": {\"color\": \"#2a3f5f\"}, \"geo\": {\"bgcolor\": \"white\", \"lakecolor\": \"white\", \"landcolor\": \"#E5ECF6\", \"showlakes\": true, \"showland\": true, \"subunitcolor\": \"white\"}, \"hoverlabel\": {\"align\": \"left\"}, \"hovermode\": \"closest\", \"mapbox\": {\"style\": \"light\"}, \"paper_bgcolor\": \"white\", \"plot_bgcolor\": \"#E5ECF6\", \"polar\": {\"angularaxis\": {\"gridcolor\": \"white\", \"linecolor\": \"white\", \"ticks\": \"\"}, \"bgcolor\": \"#E5ECF6\", \"radialaxis\": {\"gridcolor\": \"white\", \"linecolor\": \"white\", \"ticks\": \"\"}}, \"scene\": {\"xaxis\": {\"backgroundcolor\": \"#E5ECF6\", \"gridcolor\": \"white\", \"gridwidth\": 2, \"linecolor\": \"white\", \"showbackground\": true, \"ticks\": \"\", \"zerolinecolor\": \"white\"}, \"yaxis\": {\"backgroundcolor\": \"#E5ECF6\", \"gridcolor\": \"white\", \"gridwidth\": 2, \"linecolor\": \"white\", \"showbackground\": true, \"ticks\": \"\", \"zerolinecolor\": \"white\"}, \"zaxis\": {\"backgroundcolor\": \"#E5ECF6\", \"gridcolor\": \"white\", \"gridwidth\": 2, \"linecolor\": \"white\", \"showbackground\": true, \"ticks\": \"\", \"zerolinecolor\": \"white\"}}, \"shapedefaults\": {\"line\": {\"color\": \"#2a3f5f\"}}, \"ternary\": {\"aaxis\": {\"gridcolor\": \"white\", \"linecolor\": \"white\", \"ticks\": \"\"}, \"baxis\": {\"gridcolor\": \"white\", \"linecolor\": \"white\", \"ticks\": \"\"}, \"bgcolor\": \"#E5ECF6\", \"caxis\": {\"gridcolor\": \"white\", \"linecolor\": \"white\", \"ticks\": \"\"}}, \"title\": {\"x\": 0.05}, \"xaxis\": {\"automargin\": true, \"gridcolor\": \"white\", \"linecolor\": \"white\", \"ticks\": \"\", \"title\": {\"standoff\": 15}, \"zerolinecolor\": \"white\", \"zerolinewidth\": 2}, \"yaxis\": {\"automargin\": true, \"gridcolor\": \"white\", \"linecolor\": \"white\", \"ticks\": \"\", \"title\": {\"standoff\": 15}, \"zerolinecolor\": \"white\", \"zerolinewidth\": 2}}}},                        {\"responsive\": true}                    ).then(function(){\n",
       "                            \n",
       "var gd = document.getElementById('b145df1c-a751-4c04-8473-14d08f875a98');\n",
       "var x = new MutationObserver(function (mutations, observer) {{\n",
       "        var display = window.getComputedStyle(gd).display;\n",
       "        if (!display || display === 'none') {{\n",
       "            console.log([gd, 'removed!']);\n",
       "            Plotly.purge(gd);\n",
       "            observer.disconnect();\n",
       "        }}\n",
       "}});\n",
       "\n",
       "// Listen for the removal of the full notebook cells\n",
       "var notebookContainer = gd.closest('#notebook-container');\n",
       "if (notebookContainer) {{\n",
       "    x.observe(notebookContainer, {childList: true});\n",
       "}}\n",
       "\n",
       "// Listen for the clearing of the current output cell\n",
       "var outputEl = gd.closest('.output');\n",
       "if (outputEl) {{\n",
       "    x.observe(outputEl, {childList: true});\n",
       "}}\n",
       "\n",
       "                        })                };                });            </script>        </div>"
      ]
     },
     "metadata": {},
     "output_type": "display_data"
    }
   ],
   "source": [
    "# Creating a 3D-Scatter with the PCA data and the clusters\n",
    "\n",
    "fig = px.scatter_3d(clustered_df, x = 'PC1', y = 'PC2', z = 'PC3',\n",
    "                    color = 'Class', hover_name = 'CoinName', \n",
    "                    hover_data = ['Algorithm'])\n",
    "fig.show()\n"
   ]
  },
  {
   "cell_type": "code",
   "execution_count": 89,
   "metadata": {},
   "outputs": [
    {
     "data": {
      "text/html": [
       "<div>\n",
       "<style scoped>\n",
       "    .dataframe tbody tr th:only-of-type {\n",
       "        vertical-align: middle;\n",
       "    }\n",
       "\n",
       "    .dataframe tbody tr th {\n",
       "        vertical-align: top;\n",
       "    }\n",
       "\n",
       "    .dataframe thead th {\n",
       "        text-align: right;\n",
       "    }\n",
       "</style>\n",
       "<table border=\"1\" class=\"dataframe\">\n",
       "  <thead>\n",
       "    <tr style=\"text-align: right;\">\n",
       "      <th></th>\n",
       "      <th>Unnamed: 0</th>\n",
       "      <th>Algorithm</th>\n",
       "      <th>ProofType</th>\n",
       "      <th>TotalCoinsMined</th>\n",
       "      <th>TotalCoinSupply</th>\n",
       "      <th>PC1</th>\n",
       "      <th>PC2</th>\n",
       "      <th>PC3</th>\n",
       "      <th>CoinName</th>\n",
       "      <th>Class</th>\n",
       "    </tr>\n",
       "  </thead>\n",
       "  <tbody>\n",
       "    <tr>\n",
       "      <th>0</th>\n",
       "      <td>42</td>\n",
       "      <td>Scrypt</td>\n",
       "      <td>PoW/PoS</td>\n",
       "      <td>4.199995e+01</td>\n",
       "      <td>42</td>\n",
       "      <td>-0.347028</td>\n",
       "      <td>0.914974</td>\n",
       "      <td>-0.477023</td>\n",
       "      <td>42 Coin</td>\n",
       "      <td>0</td>\n",
       "    </tr>\n",
       "    <tr>\n",
       "      <th>2</th>\n",
       "      <td>404</td>\n",
       "      <td>Scrypt</td>\n",
       "      <td>PoW/PoS</td>\n",
       "      <td>1.055185e+09</td>\n",
       "      <td>532000000</td>\n",
       "      <td>-0.330375</td>\n",
       "      <td>0.915047</td>\n",
       "      <td>-0.477509</td>\n",
       "      <td>404Coin</td>\n",
       "      <td>0</td>\n",
       "    </tr>\n",
       "    <tr>\n",
       "      <th>5</th>\n",
       "      <td>1337</td>\n",
       "      <td>X13</td>\n",
       "      <td>PoW/PoS</td>\n",
       "      <td>2.927942e+10</td>\n",
       "      <td>314159265359</td>\n",
       "      <td>2.302475</td>\n",
       "      <td>1.543746</td>\n",
       "      <td>-0.602578</td>\n",
       "      <td>EliteCoin</td>\n",
       "      <td>0</td>\n",
       "    </tr>\n",
       "    <tr>\n",
       "      <th>7</th>\n",
       "      <td>BTC</td>\n",
       "      <td>SHA-256</td>\n",
       "      <td>PoW</td>\n",
       "      <td>1.792718e+07</td>\n",
       "      <td>21000000</td>\n",
       "      <td>-0.140539</td>\n",
       "      <td>-1.296420</td>\n",
       "      <td>0.159639</td>\n",
       "      <td>Bitcoin</td>\n",
       "      <td>1</td>\n",
       "    </tr>\n",
       "    <tr>\n",
       "      <th>8</th>\n",
       "      <td>ETH</td>\n",
       "      <td>Ethash</td>\n",
       "      <td>PoW</td>\n",
       "      <td>1.076842e+08</td>\n",
       "      <td>0</td>\n",
       "      <td>-0.145121</td>\n",
       "      <td>-1.979320</td>\n",
       "      <td>0.335421</td>\n",
       "      <td>Ethereum</td>\n",
       "      <td>1</td>\n",
       "    </tr>\n",
       "    <tr>\n",
       "      <th>...</th>\n",
       "      <td>...</td>\n",
       "      <td>...</td>\n",
       "      <td>...</td>\n",
       "      <td>...</td>\n",
       "      <td>...</td>\n",
       "      <td>...</td>\n",
       "      <td>...</td>\n",
       "      <td>...</td>\n",
       "      <td>...</td>\n",
       "      <td>...</td>\n",
       "    </tr>\n",
       "    <tr>\n",
       "      <th>1238</th>\n",
       "      <td>ZEPH</td>\n",
       "      <td>SHA-256</td>\n",
       "      <td>DPoS</td>\n",
       "      <td>2.000000e+09</td>\n",
       "      <td>2000000000</td>\n",
       "      <td>2.479584</td>\n",
       "      <td>0.890924</td>\n",
       "      <td>-0.297905</td>\n",
       "      <td>ZEPHYR</td>\n",
       "      <td>0</td>\n",
       "    </tr>\n",
       "    <tr>\n",
       "      <th>1242</th>\n",
       "      <td>GAP</td>\n",
       "      <td>Scrypt</td>\n",
       "      <td>PoW/PoS</td>\n",
       "      <td>1.493105e+07</td>\n",
       "      <td>250000000</td>\n",
       "      <td>-0.345075</td>\n",
       "      <td>0.914850</td>\n",
       "      <td>-0.477049</td>\n",
       "      <td>Gapcoin</td>\n",
       "      <td>0</td>\n",
       "    </tr>\n",
       "    <tr>\n",
       "      <th>1245</th>\n",
       "      <td>BDX</td>\n",
       "      <td>CryptoNight</td>\n",
       "      <td>PoW</td>\n",
       "      <td>9.802226e+08</td>\n",
       "      <td>1400222610</td>\n",
       "      <td>0.332060</td>\n",
       "      <td>-2.237443</td>\n",
       "      <td>0.366373</td>\n",
       "      <td>Beldex</td>\n",
       "      <td>1</td>\n",
       "    </tr>\n",
       "    <tr>\n",
       "      <th>1246</th>\n",
       "      <td>ZEN</td>\n",
       "      <td>Equihash</td>\n",
       "      <td>PoW</td>\n",
       "      <td>7.296538e+06</td>\n",
       "      <td>21000000</td>\n",
       "      <td>-0.136061</td>\n",
       "      <td>-1.865854</td>\n",
       "      <td>0.340769</td>\n",
       "      <td>Horizen</td>\n",
       "      <td>1</td>\n",
       "    </tr>\n",
       "    <tr>\n",
       "      <th>1247</th>\n",
       "      <td>XBC</td>\n",
       "      <td>Scrypt</td>\n",
       "      <td>PoS</td>\n",
       "      <td>1.283270e+05</td>\n",
       "      <td>1000000</td>\n",
       "      <td>-0.297166</td>\n",
       "      <td>0.797316</td>\n",
       "      <td>-0.231479</td>\n",
       "      <td>BitcoinPlus</td>\n",
       "      <td>0</td>\n",
       "    </tr>\n",
       "  </tbody>\n",
       "</table>\n",
       "<p>532 rows × 10 columns</p>\n",
       "</div>"
      ],
      "text/plain": [
       "     Unnamed: 0    Algorithm ProofType  TotalCoinsMined TotalCoinSupply  \\\n",
       "0            42       Scrypt   PoW/PoS     4.199995e+01              42   \n",
       "2           404       Scrypt   PoW/PoS     1.055185e+09       532000000   \n",
       "5          1337          X13   PoW/PoS     2.927942e+10    314159265359   \n",
       "7           BTC      SHA-256       PoW     1.792718e+07        21000000   \n",
       "8           ETH       Ethash       PoW     1.076842e+08               0   \n",
       "...         ...          ...       ...              ...             ...   \n",
       "1238       ZEPH      SHA-256      DPoS     2.000000e+09      2000000000   \n",
       "1242        GAP       Scrypt   PoW/PoS     1.493105e+07       250000000   \n",
       "1245        BDX  CryptoNight       PoW     9.802226e+08      1400222610   \n",
       "1246        ZEN     Equihash       PoW     7.296538e+06        21000000   \n",
       "1247        XBC       Scrypt       PoS     1.283270e+05         1000000   \n",
       "\n",
       "           PC1       PC2       PC3     CoinName  Class  \n",
       "0    -0.347028  0.914974 -0.477023      42 Coin      0  \n",
       "2    -0.330375  0.915047 -0.477509      404Coin      0  \n",
       "5     2.302475  1.543746 -0.602578    EliteCoin      0  \n",
       "7    -0.140539 -1.296420  0.159639      Bitcoin      1  \n",
       "8    -0.145121 -1.979320  0.335421     Ethereum      1  \n",
       "...        ...       ...       ...          ...    ...  \n",
       "1238  2.479584  0.890924 -0.297905       ZEPHYR      0  \n",
       "1242 -0.345075  0.914850 -0.477049      Gapcoin      0  \n",
       "1245  0.332060 -2.237443  0.366373       Beldex      1  \n",
       "1246 -0.136061 -1.865854  0.340769      Horizen      1  \n",
       "1247 -0.297166  0.797316 -0.231479  BitcoinPlus      0  \n",
       "\n",
       "[532 rows x 10 columns]"
      ]
     },
     "execution_count": 89,
     "metadata": {},
     "output_type": "execute_result"
    }
   ],
   "source": [
    "# Create a table with tradable cryptocurrencies.\n",
    "clustered_df.hvplot.table()\n",
    "clustered_df.hvplot.table(columns=['Unnamed: 0', 'Algorithm', 'TotalCoinSupply'], sortable=True, selectable=True)\n",
    "clustered_df"
   ]
  },
  {
   "cell_type": "code",
   "execution_count": 90,
   "metadata": {},
   "outputs": [
    {
     "data": {
      "text/plain": [
       "532"
      ]
     },
     "execution_count": 90,
     "metadata": {},
     "output_type": "execute_result"
    }
   ],
   "source": [
    "# Print the total number of tradable cryptocurrencies.\n",
    "clustered_df.shape[0]"
   ]
  },
  {
   "cell_type": "code",
   "execution_count": 93,
   "metadata": {},
   "outputs": [
    {
     "name": "stdout",
     "output_type": "stream",
     "text": [
      "[[4.20000000e-11 0.00000000e+00]\n",
      " [5.32000000e-04 1.06585544e-03]\n",
      " [3.14159265e-01 2.95755135e-02]\n",
      " ...\n",
      " [1.40022261e-03 9.90135079e-04]\n",
      " [2.10000000e-05 7.37028150e-06]\n",
      " [1.00000000e-06 1.29582282e-07]]\n"
     ]
    }
   ],
   "source": [
    "# Scaling data to create the scatter plot with tradable cryptocurrencies.\n",
    "# YOUR CODE HERE\n",
    "scaled = MinMaxScaler().fit_transform(clustered_df[[\"TotalCoinSupply\",\"TotalCoinsMined\"]])\n",
    "print(scaled)"
   ]
  },
  {
   "cell_type": "code",
   "execution_count": 100,
   "metadata": {},
   "outputs": [
    {
     "data": {
      "text/html": [
       "<div>\n",
       "<style scoped>\n",
       "    .dataframe tbody tr th:only-of-type {\n",
       "        vertical-align: middle;\n",
       "    }\n",
       "\n",
       "    .dataframe tbody tr th {\n",
       "        vertical-align: top;\n",
       "    }\n",
       "\n",
       "    .dataframe thead th {\n",
       "        text-align: right;\n",
       "    }\n",
       "</style>\n",
       "<table border=\"1\" class=\"dataframe\">\n",
       "  <thead>\n",
       "    <tr style=\"text-align: right;\">\n",
       "      <th></th>\n",
       "      <th>TotalCoinSupply</th>\n",
       "      <th>TotalCoinsMined</th>\n",
       "      <th>CoinName</th>\n",
       "      <th>Class</th>\n",
       "    </tr>\n",
       "  </thead>\n",
       "  <tbody>\n",
       "    <tr>\n",
       "      <th>0</th>\n",
       "      <td>4.200000e-11</td>\n",
       "      <td>0.000000</td>\n",
       "      <td>42 Coin</td>\n",
       "      <td>0</td>\n",
       "    </tr>\n",
       "    <tr>\n",
       "      <th>2</th>\n",
       "      <td>5.320000e-04</td>\n",
       "      <td>0.001066</td>\n",
       "      <td>404Coin</td>\n",
       "      <td>0</td>\n",
       "    </tr>\n",
       "    <tr>\n",
       "      <th>5</th>\n",
       "      <td>3.141593e-01</td>\n",
       "      <td>0.029576</td>\n",
       "      <td>EliteCoin</td>\n",
       "      <td>0</td>\n",
       "    </tr>\n",
       "    <tr>\n",
       "      <th>7</th>\n",
       "      <td>2.100000e-05</td>\n",
       "      <td>0.000018</td>\n",
       "      <td>Bitcoin</td>\n",
       "      <td>1</td>\n",
       "    </tr>\n",
       "    <tr>\n",
       "      <th>8</th>\n",
       "      <td>0.000000e+00</td>\n",
       "      <td>0.000109</td>\n",
       "      <td>Ethereum</td>\n",
       "      <td>1</td>\n",
       "    </tr>\n",
       "  </tbody>\n",
       "</table>\n",
       "</div>"
      ],
      "text/plain": [
       "   TotalCoinSupply  TotalCoinsMined   CoinName  Class\n",
       "0     4.200000e-11         0.000000    42 Coin      0\n",
       "2     5.320000e-04         0.001066    404Coin      0\n",
       "5     3.141593e-01         0.029576  EliteCoin      0\n",
       "7     2.100000e-05         0.000018    Bitcoin      1\n",
       "8     0.000000e+00         0.000109   Ethereum      1"
      ]
     },
     "execution_count": 100,
     "metadata": {},
     "output_type": "execute_result"
    }
   ],
   "source": [
    "# Create a new DataFrame that has the scaled data with the clustered_df DataFrame index.\n",
    "# YOUR CODE HERE\n",
    "scaled_df = pd.DataFrame(scaled, columns = {\"TotalCoinSupply\",\"TotalCoinsMined\"}, index = \n",
    "                        clustered_df.index)\n",
    "\n",
    "# Add the \"CoinName\" column from the clustered_df DataFrame to the new DataFrame.\n",
    "# YOUR CODE HERE\n",
    "scaled_df[\"CoinName\"] = clustered_df[\"CoinName\"]\n",
    "\n",
    "# Add the \"Class\" column from the clustered_df DataFrame to the new DataFrame. \n",
    "# YOUR CODE HERE\n",
    "scaled_df[\"Class\"] = clustered_df[\"Class\"]\n",
    "scaled_df.head()\n"
   ]
  },
  {
   "cell_type": "code",
   "execution_count": 105,
   "metadata": {},
   "outputs": [
    {
     "data": {
      "application/vnd.plotly.v1+json": {
       "config": {
        "plotlyServerURL": "https://plot.ly"
       },
       "data": [
        {
         "hovertemplate": "<b>%{hovertext}</b><br><br>TotalCoinsMined=%{x}<br>TotalCoinSupply=%{y}<extra></extra>",
         "hovertext": [
          "42 Coin",
          "404Coin",
          "EliteCoin",
          "Bitcoin",
          "Ethereum",
          "Litecoin",
          "Dash",
          "Monero",
          "Ethereum Classic",
          "ZCash",
          "Bitshares",
          "DigiByte",
          "BitcoinDark",
          "PayCoin",
          "ProsperCoin",
          "KoboCoin",
          "Spreadcoin",
          "Argentum",
          "Aurora Coin",
          "BlueCoin",
          "MyriadCoin",
          "MoonCoin",
          "ZetaCoin",
          "SexCoin",
          "Quatloo",
          "EnergyCoin",
          "QuarkCoin",
          "Riecoin",
          "Digitalcoin ",
          "BitBar",
          "Catcoin",
          "CryptoBullion",
          "CannaCoin",
          "CryptCoin",
          "CasinoCoin",
          "Diamond",
          "Verge",
          "DevCoin",
          "EarthCoin",
          "E-Gulden",
          "Einsteinium",
          "Emerald",
          "Exclusive Coin",
          "FlutterCoin",
          "Franko",
          "FeatherCoin",
          "GrandCoin",
          "GlobalCoin",
          "GoldCoin",
          "HoboNickels",
          "HyperStake",
          "Infinite Coin",
          "IOCoin",
          "IXcoin",
          "KrugerCoin",
          "LuckyCoin",
          "Litebar ",
          "MaxCoin",
          "MegaCoin",
          "MediterraneanCoin",
          "MintCoin",
          "MinCoin",
          "MazaCoin",
          "Nautilus Coin",
          "NavCoin",
          "NobleCoin",
          "Namecoin",
          "NyanCoin",
          "OpalCoin",
          "Orbitcoin",
          "PotCoin",
          "PhoenixCoin",
          "Reddcoin",
          "RonPaulCoin",
          "StableCoin",
          "SmartCoin",
          "SuperCoin",
          "SyncCoin",
          "SysCoin",
          "TeslaCoin",
          "TigerCoin",
          "TittieCoin",
          "TorCoin",
          "TerraCoin",
          "UnbreakableCoin",
          "Unobtanium",
          "UroCoin",
          "UnitaryStatus Dollar",
          "UltraCoin",
          "ViaCoin",
          "VeriCoin",
          "Vertcoin",
          "WorldCoin",
          "X11 Coin",
          "Crypti",
          "JouleCoin",
          "StealthCoin",
          "ZCC Coin",
          "ByteCoin",
          "DigitalNote ",
          "BurstCoin",
          "StorjCoin",
          "MonaCoin",
          "Neutron",
          "FairCoin",
          "Gulden",
          "RubyCoin",
          "PesetaCoin",
          "Kore",
          "Wild Beast Coin",
          "Dnotes",
          "Flo",
          "8BIT Coin",
          "Sativa Coin",
          "ArtByte",
          "Folding Coin",
          "Ucoin",
          "Unitus",
          "CypherPunkCoin",
          "OmniCron",
          "Vtorrent",
          "GreenCoin",
          "Cryptonite",
          "MasterCoin",
          "SoonCoin",
          "1Credit",
          "IslaCoin",
          "Nexus",
          "MarsCoin ",
          "Crypto",
          "Anarchists Prime",
          "Droidz",
          "BowsCoin",
          "Squall Coin",
          "Song Coin",
          "BitZeny",
          "Diggits",
          "Expanse",
          "Paycon",
          "Siacoin",
          "Emercoin",
          "EverGreenCoin",
          "MindCoin",
          "I0coin",
          "Decred",
          "Revolution VR",
          "HOdlcoin",
          "EDRCoin",
          "Hitcoin",
          "Gamecredits",
          "DubaiCoin",
          "CarpeDiemCoin",
          "PWR Coin",
          "BillaryCoin",
          "GPU Coin",
          "Adzcoin",
          "SoilCoin",
          "YoCoin",
          "SibCoin",
          "EuropeCoin",
          "ZeitCoin",
          "SwingCoin",
          "SafeExchangeCoin",
          "Nebuchadnezzar",
          "Francs",
          "BolivarCoin",
          "Ratecoin",
          "Revenu",
          "Clockcoin",
          "VIP Tokens",
          "BitSend",
          "Omni",
          "Let it Ride",
          "PutinCoin",
          "iBankCoin",
          "Frankywillcoin",
          "MudraCoin",
          "PizzaCoin",
          "Lutetium Coin",
          "Komodo",
          "GoldBlocks",
          "CarterCoin",
          "Karbo",
          "BitTokens",
          "ZayedCoin",
          "MustangCoin",
          "ZoneCoin",
          "Circuits of Value",
          "RootCoin",
          "DopeCoin",
          "BitCurrency",
          "DollarCoin",
          "Swiscoin",
          "Shilling",
          "BuzzCoin",
          "Opair",
          "PesoBit",
          "Halloween Coin",
          "ZCoin",
          "CoffeeCoin",
          "RoyalCoin",
          "GanjaCoin V2",
          "TeamUP",
          "LanaCoin",
          "Elementrem",
          "ZClassic",
          "ARK",
          "InsaneCoin",
          "KiloCoin",
          "ArtexCoin",
          "EmberCoin",
          "XenixCoin",
          "FreeCoin",
          "PLNCoin",
          "AquariusCoin",
          "Kurrent",
          "Creatio",
          "Eternity",
          "Eurocoin",
          "BitcoinFast",
          "Stakenet",
          "BitConnect Coin",
          "MoneyCoin",
          "Enigma",
          "Cannabis Industry Coin",
          "Russiacoin",
          "PandaCoin",
          "GameUnits",
          "GAKHcoin",
          "Allsafe",
          "LiteCreed",
          "OsmiumCoin",
          "Bikercoins",
          "HexxCoin",
          "Klingon Empire Darsek",
          "Internet of People",
          "KushCoin",
          "Printerium",
          "PacCoin",
          "Impeach",
          "Citadel",
          "Zilbercoin",
          "FirstCoin",
          "BeaverCoin",
          "FindCoin",
          "VaultCoin",
          "Zero",
          "OpenChat",
          "Canada eCoin",
          "Zoin",
          "RenosCoin",
          "DubaiCoin",
          "VirtacoinPlus",
          "TajCoin",
          "Impact",
          "EB3coin",
          "Atmos",
          "HappyCoin",
          "Coinonat",
          "MacronCoin",
          "Condensate",
          "Independent Money System",
          "ArgusCoin",
          "LomoCoin",
          "ProCurrency",
          "GoldReserve",
          "BenjiRolls",
          "GrowthCoin",
          "ILCoin",
          "Phreak",
          "Degas Coin",
          "HTML5 Coin",
          "Ultimate Secure Cash",
          "EquiTrader",
          "QTUM",
          "Quantum Resistant Ledger",
          "Espers",
          "Dynamic",
          "Nano",
          "ChanCoin",
          "Dinastycoin",
          "Denarius",
          "DigitalPrice",
          "Virta Unique Coin",
          "Bitcoin Planet",
          "Unify",
          "BritCoin",
          "SocialCoin",
          "ArcticCoin",
          "DAS",
          "Linda",
          "LeviarCoin",
          "DeepOnion",
          "Bitcore",
          "gCn Coin",
          "SmartCash",
          "Signatum",
          "Onix",
          "Cream",
          "Bitcoin Cash",
          "Monoeci",
          "Draftcoin",
          "Vechain",
          "Sojourn Coin",
          "Stakecoin",
          "NewYorkCoin",
          "FrazCoin",
          "Kronecoin",
          "AdCoin",
          "Linx",
          "CoinonatX",
          "Ethereum Dark",
          "Sumokoin",
          "Obsidian",
          "Cardano",
          "Regalcoin",
          "BitcoinZ",
          "TrezarCoin",
          "Elements",
          "TerraNovaCoin",
          "VIVO Coin",
          "Rupee",
          "Bitcoin Gold",
          "WomenCoin",
          "Theresa May Coin",
          "NamoCoin",
          "LUXCoin",
          "Pirl",
          "Xios",
          "Bitcloud 2.0",
          "eBoost",
          "KekCoin",
          "BlackholeCoin",
          "Infinity Economics",
          "Pura",
          "Innova",
          "Ellaism",
          "GoByte",
          "Magnet",
          "Lamden Tau",
          "Electra",
          "Bitcoin Diamond",
          "SHIELD",
          "Cash & Back Coin",
          "UltraNote",
          "BitCoal",
          "DaxxCoin",
          "Bulwark",
          "Kalkulus",
          "AC3",
          "Lethean",
          "GermanCoin",
          "LiteCoin Ultra",
          "PopularCoin",
          "PhantomX",
          "Photon",
          "Sucre",
          "SparksPay",
          "Digiwage",
          "GunCoin",
          "IrishCoin",
          "Trollcoin",
          "Litecoin Plus",
          "Monkey Project",
          "Pioneer Coin",
          "UnitedBitcoin",
          "Interzone",
          "TokenPay",
          "1717 Masonic Commemorative Token",
          "My Big Coin",
          "TurtleCoin",
          "MUNcoin",
          "Unified Society USDEX",
          "Niobio Cash",
          "ShareChain",
          "Travelflex",
          "KREDS",
          "Tokyo Coin",
          "BiblePay",
          "LitecoinCash",
          "BitFlip",
          "LottoCoin",
          "Crypto Improvement Fund",
          "Stipend",
          "Poa Network",
          "Pushi",
          "Ellerium",
          "Velox",
          "Ontology",
          "Callisto Network",
          "BitTube",
          "Poseidon",
          "Aidos Kuneen",
          "Bitspace",
          "Briacoin",
          "Ignition",
          "Bitrolium",
          "MedicCoin",
          "Alpenschillling",
          "Bitcoin Green",
          "Deviant Coin",
          "Abjcoin",
          "Semux",
          "FuturoCoin",
          "Carebit",
          "Zealium",
          "Monero Classic",
          "Proton",
          "iDealCash",
          "Jumpcoin",
          "Infinex",
          "Bitcoin Incognito",
          "KEYCO",
          "HollyWoodCoin",
          "GINcoin",
          "PlatinCoin",
          "Loki",
          "Newton Coin",
          "Swisscoin",
          "Xt3ch",
          "MassGrid",
          "TheVig",
          "PluraCoin",
          "EmaratCoin",
          "Dekado",
          "Lynx",
          "Poseidon Quark",
          "BitcoinWSpectrum",
          "Muse",
          "Motion",
          "PlusOneCoin",
          "Axe",
          "Trivechain",
          "Dystem",
          "Giant",
          "Peony Coin",
          "Absolute Coin",
          "Vitae",
          "HexCoin",
          "TPCash",
          "Webchain",
          "Ryo",
          "Urals Coin",
          "Qwertycoin",
          "ARENON",
          "EUNO",
          "MMOCoin",
          "Ketan",
          "Project Pai",
          "XDNA",
          "PAXEX",
          "Azart",
          "ThunderStake",
          "Kcash",
          "Xchange",
          "Acute Angle Cloud",
          "CrypticCoin",
          "Bettex coin",
          "Actinium",
          "Bitcoin SV",
          "BitMoney",
          "Junson Ming Chan Coin",
          "FREDEnergy",
          "HerbCoin",
          "Universal Molecule",
          "Lithium",
          "PirateCash",
          "Exosis",
          "Block-Logic",
          "Oduwa",
          "Beam",
          "Galilel",
          "Bithereum",
          "Crypto Sports",
          "Credit",
          "SLICE",
          "Dash Platinum",
          "Nasdacoin",
          "Beetle Coin",
          "Titan Coin",
          "Award",
          "BLAST",
          "Bitcoin Rhodium",
          "GlobalToken",
          "Insane Coin",
          "ALAX",
          "LiteDoge",
          "SolarCoin",
          "TruckCoin",
          "UFO Coin",
          "OrangeCoin",
          "BlakeCoin",
          "BitstarCoin",
          "NeosCoin",
          "HyperCoin",
          "PinkCoin",
          "Crypto Escudo",
          "AudioCoin",
          "IncaKoin",
          "Piggy Coin",
          "Crown Coin",
          "Genstake",
          "SmileyCoin",
          "XiaoMiCoin",
          "Groestlcoin",
          "CapriCoin",
          " ClubCoin",
          "Radium",
          "Bata",
          "Pakcoin",
          "Creditbit ",
          "OKCash",
          "Lisk",
          "HiCoin",
          "WhiteCoin",
          "FriendshipCoin",
          "JoinCoin",
          "Triangles Coin",
          "Vollar",
          "EOS",
          "Reality Clash",
          "Oxycoin",
          "TigerCash",
          "Waves",
          "Particl",
          "BitTorrent",
          "Nxt",
          "ZEPHYR",
          "Gapcoin",
          "Beldex",
          "Horizen",
          "BitcoinPlus"
         ],
         "legendgroup": "",
         "marker": {
          "color": "#636efa",
          "symbol": "circle"
         },
         "mode": "markers",
         "name": "",
         "orientation": "v",
         "showlegend": false,
         "type": "scatter",
         "x": [
          0,
          0.0010658554443703134,
          0.029575513522791114,
          1.8108421598585816e-05,
          0.00010877313976335468,
          6.367668686211585e-05,
          9.122581150127228e-06,
          1.7375047727488684e-05,
          0.00011450601351907833,
          7.457675173596279e-06,
          0.002769294155476739,
          0.011521564786182067,
          1.3018532258038877e-06,
          1.2116595595934655e-05,
          5.826599760162344e-06,
          2.5800792718705074e-05,
          1.1262443547866963e-05,
          1.232918444404364e-05,
          1.831844923844183e-05,
          0.0006418495982840718,
          0.0017053267225703456,
          4.646522283282147e-11,
          0.00017192554364660632,
          0.0001302448274794628,
          7.432158258950554e-06,
          0.0001243072344799435,
          0.00026218190106836077,
          5.0049604072037225e-05,
          3.3781139008450015e-05,
          4.2967638288704366e-08,
          7.292926220874455e-06,
          1.0495823209192735e-06,
          4.751405197486568e-06,
          5.047475933992751e-06,
          0.04040449827006263,
          3.3378620409334326e-06,
          0.016090618419729627,
          0.018963708579634225,
          0.01266581626146832,
          2.1121894142137525e-05,
          0.0002210852018189937,
          1.969390564401809e-05,
          5.737098739796257e-06,
          0.0004665001298287254,
          1.1542456330155606e-06,
          0.00021077922221115263,
          0.000893066504733897,
          6.633679513934236e-05,
          4.2079879736249724e-05,
          9.016960544770809e-05,
          0.001695494126403373,
          0.09151190488395176,
          1.7829366876127143e-05,
          2.130257316436215e-05,
          0.0001529791256713188,
          1.952171462386499e-05,
          1.1154695144323575e-06,
          6.206713487587533e-05,
          3.853777066024122e-05,
          4.084068267938516e-05,
          0.021509260777747684,
          5.8628576360991e-06,
          0.0016301560170937082,
          1.634357824597457e-05,
          6.675536126159022e-05,
          0.0023899931703711126,
          1.4885379803443286e-05,
          0.0003380939367828342,
          1.530959103431023e-05,
          3.253142420400061e-06,
          0.00022492901282684556,
          7.470714728778826e-05,
          0.02961202156181921,
          1.1152808176527055e-06,
          2.446001595507046e-05,
          2.5852512043003808e-05,
          5.122040187243045e-05,
          1.1464777636450732e-09,
          0.0005690332542950281,
          8.107205733460473e-05,
          4.3977024597207445e-05,
          0.0016387322668513756,
          1.4462882058089128e-06,
          2.316728836365402e-05,
          2.3011454264237876e-06,
          2.0290109255462446e-07,
          1.2194765290836668e-06,
          0.001110065736838991,
          5.074317359596724e-05,
          2.3384963742223854e-05,
          3.234488028032079e-05,
          5.169117700448563e-05,
          0.0001208164268757715,
          7.02107913256062e-06,
          0.00010101121017516,
          3.959206487073396e-05,
          3.3428344146286866e-05,
          0.000149486750682716,
          0.18592820936339893,
          0.006976430614728428,
          0.0018313682302272918,
          5.169059132444013e-05,
          6.88842528690752e-05,
          3.9517270722996776e-05,
          5.373171257426225e-05,
          0.00041922940371274717,
          2.7459351832994873e-05,
          0.00013890826284479005,
          2.0428746910438998e-06,
          1.8371648199843193e-07,
          0.00017641218487765833,
          0.00015381046349316466,
          1.4826421555945544e-06,
          7.1685584936518354e-06,
          0.0008005517611206417,
          0.0007266920705903823,
          2.716970369101339e-06,
          6.577171953463686e-05,
          6.429611685370236e-06,
          1.0242543481404857e-05,
          1.1722032628249687e-05,
          0.004656962788057776,
          0.0007156712681788526,
          6.257000627009784e-07,
          1.2588606144078657e-05,
          8.906263157644134e-08,
          1.5289689463744187e-06,
          6.430091286755607e-05,
          3.254737390940308e-05,
          1.388166937063467e-05,
          1.4896289018926092e-05,
          8.65464044533528e-06,
          1.6024218544473603e-05,
          3.3248663543496074e-07,
          3.289457501821606e-05,
          7.637911117242616e-05,
          0.00010101121017516,
          1.0601369346955924e-05,
          2.3275580507341256e-05,
          0.03343300387173752,
          4.3495195674547396e-05,
          1.3667342096946377e-05,
          1.602811505354264e-05,
          2.1209771971041883e-05,
          1.0469821310022304e-05,
          0.00021212358803498338,
          1.1564684369737338e-05,
          3.7067592744553853e-06,
          0.011107518609238073,
          7.054227695219703e-05,
          5.180838862741675e-06,
          0.0219598179179117,
          0.010171276554625372,
          9.089700841491067e-06,
          4.088632471488365e-05,
          4.556646089956654e-05,
          5.759667683964639e-06,
          6.428563793372448e-07,
          1.743788870157756e-05,
          1.0512471149812692e-05,
          0.037345108590098736,
          4.421302536434042e-06,
          0.002169200088786735,
          2.0202208095288435e-05,
          6.637212695356324e-06,
          1.3792117338373683e-05,
          0.00013591558906711438,
          1.2075723529647756e-06,
          1.6831280775777115e-05,
          8.429425494523455e-05,
          2.4634303574462228e-05,
          6.226394217472033e-07,
          3.8980006684536215e-05,
          0.0008213147135639345,
          4.572054144447702e-06,
          0.00010101121017516,
          5.0505202053125176e-06,
          1.3918087968066747e-06,
          0.0006636438871562658,
          0.00011707011143822338,
          1.5721220645668756e-05,
          4.360196981630424e-05,
          7.901494854014166e-06,
          6.014078665632431e-07,
          6.306938569650361e-06,
          6.642442854597716e-07,
          2.60803781407262e-06,
          0.001010112483573715,
          1.9594637532670447e-06,
          0.00011802678598125889,
          0.00017131364398891228,
          9.198763457405489e-06,
          0.0006719268674458666,
          1.1231600774401894e-05,
          0.019775768099222997,
          7.478243316626308e-05,
          3.3861916349526105e-05,
          0.0002673549836545982,
          7.64477326578056e-06,
          0.00015022067624351898,
          2.5253641442697554e-06,
          0.00010101121017516,
          1.799883162737528e-05,
          0.001093105990898508,
          2.6470500769759988e-05,
          5.670274745638833e-06,
          0.00010929623796285102,
          1.8528262748666736e-05,
          0.00019828299691049012,
          0.0008323326789979977,
          0.09312512499722704,
          3.892251219607147e-06,
          5.050558387524027e-05,
          1.7262376599622708e-05,
          2.4743064059498467e-06,
          6.198532384216967e-05,
          2.0202208095288435e-05,
          6.130817447836677e-06,
          1.2542074300456016e-05,
          2.044869943142752e-05,
          7.635473614706129e-05,
          1.1192734045396626e-05,
          1.102474791110289e-05,
          8.22866956988183e-07,
          9.879940920632446e-07,
          8.462552033844294e-06,
          0.034155080075394764,
          3.5080612062000273e-06,
          3.349277577788236e-06,
          1.0624091564757174e-05,
          3.053338648306851e-05,
          9.030244364887856e-07,
          9.45166937098981e-06,
          1.8950765986042048e-06,
          2.4207680022731743e-05,
          2.5515810848300206e-06,
          5.716282297716262e-06,
          1.1941233107066495e-05,
          0.0005424122767593174,
          3.112530434702042e-07,
          1.1080203617022588e-05,
          2.952126549266365e-06,
          0.00011111233543514395,
          3.1467187028372516e-06,
          1.4671691996262168e-05,
          3.06927721385458e-05,
          6.991606880143162e-06,
          0.001010112483573715,
          0.00010085303495353078,
          1.8733259530199216e-05,
          3.641488282863465e-05,
          2.2554388447348865e-06,
          1.3295815303463768e-05,
          1.230736649923973e-05,
          0.0001117490980991419,
          6.4744182567565e-05,
          0.0001122596585042139,
          2.1738914513579824e-05,
          1.0225528698507492e-05,
          0.00040548074292924503,
          0.00012289575426205164,
          5.423185059979209e-06,
          1.1598940316251253e-06,
          5.050138383197423e-07,
          0.000101562474035661,
          1.7344985622223908e-05,
          2.048109930160979e-05,
          0.00029811998901383135,
          0.00133107321342839,
          1.150536750589021e-05,
          2.1574712631564118e-05,
          0.041070185354394564,
          1.0447665574437378e-05,
          1.3811636685882888e-05,
          0.00010101121017516,
          6.973410292439654e-05,
          0.023032467461920655,
          1.9984250712738026e-05,
          0.00013459573144297484,
          1.859336055000138e-05,
          0.0018277653841021488,
          4.21352278424478e-06,
          3.549427637356498e-05,
          6.357853594515095e-05,
          6.873128862948033e-06,
          1.8316524981192004e-05,
          2.1483123708606792e-05,
          5.219991834361899e-06,
          2.630567603566309e-05,
          2.6493675781863705e-06,
          0.009136398000134972,
          1.4304972176342188e-05,
          2.213861203943481e-05,
          1.79818445601243e-05,
          0.16470399637021482,
          0.0022636713700820437,
          0.00010906460097861412,
          0.00012371413404244978,
          4.781040413584816e-05,
          1.8177528090389545e-05,
          1.2696327105426489e-05,
          1.885198800395777e-05,
          0.05601552220497439,
          4.900783145103299e-07,
          4.040407679314124e-06,
          0.14445282836496895,
          9.802131952335057e-06,
          1.7630208474200687e-05,
          3.2976829554994085e-05,
          3.405744282107109e-05,
          1.9737140166968463e-05,
          4.242430184513802e-06,
          9.037083836381659e-06,
          2.525277072528041e-05,
          0.026189258670453058,
          7.335800847435647e-06,
          0.005264255183404156,
          0.0001844852931436257,
          0.002730188324649383,
          1.1522282036277493e-06,
          4.2080536057275544e-06,
          2.4242658199282013e-05,
          1.7376277988060767e-05,
          0.048949520086634876,
          9.298162368349356e-05,
          0.0005662318877113143,
          8.389725261934065e-06,
          3.433063179417746e-05,
          2.171384351108982e-06,
          3.102207945790435e-05,
          0.00010100111055846874,
          1.2455459479832744e-05,
          1.6527969228952047e-05,
          0.009091012681459745,
          0.00017698769150478906,
          6.439686588109045e-06,
          1.2885323668253108e-05,
          5.8912438052245976e-06,
          3.8584836692894136e-05,
          0.0002910038484228817,
          0.028686337310386032,
          0.00018538997506341572,
          0.00048660203702011835,
          0.0001120991924368031,
          0.019476809291408066,
          4.545463942313321e-06,
          0.0005261592692429206,
          1.3381098896885896e-05,
          1.7127188090779335e-05,
          8.112836430670049e-05,
          0.0004457123454091431,
          0.004961167901150851,
          8.504501321182602e-06,
          0.00400428929463865,
          4.5630997097805847e-05,
          0.030393954073733687,
          4.271764361299468e-06,
          7.926732120684645e-06,
          2.7575706299068398e-05,
          0.00030282962516929856,
          4.594295543407392e-05,
          0.0005969994384801132,
          2.5297704851289645e-06,
          4.451778025752022e-06,
          8.563796965572327e-06,
          2.036988677460417e-05,
          1.2037052476950459e-05,
          2.0652578416072097e-05,
          1.6343529760993054e-06,
          9.494351199405258e-06,
          0.05367721313649496,
          4.867022143120781e-06,
          0.00023722111232582545,
          0.00013528682091182336,
          0.010101125217559265,
          0.0001084105531460941,
          0.0006503062720085249,
          0.00023262778644178535,
          0.00179001182933328,
          0.0006448379477152089,
          1.2571919087957276e-05,
          0.014637555138650792,
          0.00021343434893853904,
          1.1365079253614639e-05,
          0.00020654679617333478,
          2.1897068832293194e-06,
          4.2347288850128173e-07,
          2.582854813272772e-05,
          0.0006574303062166524,
          0.0002501163979438093,
          8.08585389130738e-05,
          4.111329850800939e-06,
          2.525277072528041e-05,
          1.3927242241484136e-05,
          8.5414692316889e-07,
          1.1940656333233882e-06,
          7.207701869161089e-05,
          0.00027000068858884117,
          2.761694076055857e-05,
          9.902789020916682e-06,
          2.2097771981660372e-05,
          9.9803767842214e-06,
          1.2435545813658904e-06,
          3.2123011865143136e-05,
          0.00014115267438470172,
          1.1187210463274429e-05,
          1.6178792528933295e-05,
          4.448291117312275e-06,
          0.0014183570665580888,
          2.1282368139325502e-05,
          5.149197805826263e-06,
          1.1015197390448922e-05,
          8.0344855378839e-07,
          3.9098190658900774e-05,
          7.05700742826996e-06,
          8.511006126220963e-08,
          1.934728117688423e-05,
          0.04171211188183845,
          0.010303147722758945,
          7.707116164244029e-06,
          0.0001372362858296267,
          3.357426329493798e-05,
          0.000565749793734985,
          2.181772113210989e-05,
          3.059040366757284e-05,
          0.0786595429746288,
          2.743690828304882e-06,
          5.8395573826824245e-05,
          1.837889033865967e-05,
          8.207995617581074e-06,
          8.732790637721589e-06,
          5.043480425424593e-06,
          3.729646421313155e-05,
          7.1539706984986e-06,
          5.979308337633273e-06,
          1.0525074056122004e-06,
          1.346740196225012e-05,
          6.67218067557149e-05,
          1.4309466834066776e-06,
          5.458406164457927e-06,
          1.5737712054640045e-05,
          4.940313898388515e-06,
          1.4895231528171468e-05,
          0.10055984390482109,
          1.946433093556512e-05,
          3.108225736284029e-05,
          0.0001088535904090006,
          9.421410033173454e-06,
          0.002121236262171949,
          4.719722337372877e-06,
          4.5501498543214275e-06,
          5.066562179265316e-06,
          0.0010706728512052078,
          0.001010112483573715,
          9.852346277489665e-06,
          0.001010112483573715,
          0.00427793913676562,
          6.856000566804066e-06,
          1.3772690350429755e-05,
          1.8174421994387353e-05,
          0.00021062444404215599,
          0.01738395948703501,
          0.0018859354718058039,
          3.566923871543799e-05,
          1.5941992995464667e-06,
          1.600692920420773e-05,
          1.3612153166672831e-05,
          4.1015611546984553e-07,
          3.5641492369034067e-05,
          1.4926945321837103e-05,
          3.604836854913877e-05,
          1.844967422503359e-05,
          2.540508306779439e-05,
          1.9542239715577493e-06,
          0.03113743575139919,
          1.3056460389715756e-05,
          7.228541424170134e-07,
          2.0754263081976124e-05,
          0.00020094986909566676,
          0.0009054256011906719,
          1.557612963693045e-05,
          5.282261698557072e-05,
          1.1820846886525212e-06,
          8.546870974887076e-05,
          2.401635291295234e-05,
          0.001010112483573715,
          0.015473799682463152,
          5.612693724123281e-05,
          0.00024502709974477395,
          0.0038633621961948403,
          3.5728770966557666e-06,
          2.359294387236469e-05,
          2.0784570290127343e-05,
          4.436632647507646e-06,
          9.72855332874592e-06,
          0.00044076621943778455,
          0.0007881005585632962,
          0.0009906501697518394,
          0.01812114093883431,
          0.0004992386451885693,
          2.3219342578744854e-05,
          6.060670913522422e-05,
          0.029883158141660888,
          0.00040840509399131834,
          7.403939145513336e-05,
          0.00020340058699908338,
          0.00010466971265911428,
          3.859845763729668e-06,
          5.1036075982334715e-06,
          7.038909888132847e-05,
          1.707188620667946e-05,
          7.54311861724345e-05,
          0.00012122572346119352,
          0.010101372369569069,
          0.00025455393458752805,
          1.131672502832021e-06,
          3.366584340752429e-06,
          1.4215894737644412e-07,
          0.00010101121017516,
          0.0010308647636696072,
          2.473553664245716e-05,
          0.001133732360966037,
          0.001010112483573715,
          0.00010101121017516,
          9.376971101068528e-06,
          1,
          0.001010112483573715,
          0.002020225004830237,
          1.5081994322403278e-05,
          0.0009901350790514718,
          7.370281500487556e-06,
          1.2958228174697553e-07
         ],
         "xaxis": "x",
         "y": [
          4.2e-11,
          0.000532,
          0.314159265359,
          2.1e-05,
          0,
          8.4e-05,
          2.2e-05,
          0,
          0.00021,
          2.1e-05,
          0.0036005705019999997,
          0.021,
          2.2e-05,
          1.2499999999999999e-05,
          2.1e-05,
          0.00035,
          1.9999999999999998e-05,
          6.4e-05,
          1.6768584e-05,
          0,
          0.002,
          0.384,
          0.000169795588,
          0.00025,
          9.999999999999999e-05,
          0,
          0.000247,
          8.4e-05,
          4.8166e-05,
          5e-07,
          2.1e-05,
          1e-06,
          1.314e-05,
          1.8e-05,
          0.04,
          4.3799999999999996e-06,
          0.016555,
          0.021,
          0.0135,
          2.1e-05,
          0.000299792458,
          3.2e-05,
          0,
          0,
          1.1235812999999999e-05,
          0.000336,
          0.001420609614,
          7e-05,
          7.22457e-05,
          0.00012,
          0,
          0.0906,
          2.2e-05,
          2.1e-05,
          0.0002654208,
          1.9999999999999998e-05,
          1.35e-06,
          9.999999999999999e-05,
          4.2e-05,
          0.00019999999999999998,
          0,
          9.999999999999999e-06,
          0.0024192,
          1.618e-05,
          0,
          0.015,
          2.1e-05,
          0.000337,
          0,
          3.77e-06,
          0.00042,
          9.8e-05,
          0,
          2.1e-05,
          0.00025,
          5.12e-05,
          0,
          1e-09,
          0.000888,
          9.999999999999999e-05,
          4.7011968e-05,
          0.0023,
          9.999999999999999e-06,
          4.2e-05,
          7.999999999999999e-05,
          2.5e-07,
          0,
          0.0015999999999999999,
          9.999999999999999e-05,
          2.3e-05,
          0,
          8.4e-05,
          0.0002654208,
          5.5e-06,
          0,
          4.4999999999999996e-05,
          0,
          0.001,
          0.184467440735,
          0.01,
          0.0021588128,
          0.0005,
          0.00010512,
          6.8e-05,
          0,
          0.00168,
          0,
          0.000166386,
          1.2e-05,
          2.628e-06,
          0.0005,
          0.00015999999999999999,
          0,
          9.999999999999999e-06,
          0.001,
          0.001,
          1.9999999999999998e-05,
          0,
          0,
          3.3713369999999998e-06,
          1.9999999999999998e-05,
          0.01,
          0.00184,
          6.19478e-07,
          2.1e-05,
          0.092,
          0,
          7.8e-05,
          3.3e-05,
          6.57891e-05,
          5.376e-05,
          5.06e-06,
          2.1e-05,
          0,
          0.00021024,
          0.00025,
          9.999999999999999e-05,
          1.6906397e-05,
          4.9999999999999996e-05,
          0,
          0.001,
          2.6297999999999998e-05,
          1.6e-05,
          2.1e-05,
          2.1e-05,
          0.00021,
          8.196209999999999e-05,
          2.2e-05,
          0.02655,
          8.4e-05,
          1.05e-05,
          0.02162628,
          0,
          4.2e-05,
          0.000221052632,
          8.4e-05,
          3e-05,
          0.0001683513,
          2.4e-05,
          0.000384,
          0.099,
          3.9999999999999996e-05,
          0.002147483647,
          1.9999999999999998e-05,
          1.9999999999999998e-05,
          2.4999999999999998e-05,
          7.5e-05,
          0.000222725,
          0.000525,
          8.999999999999999e-05,
          0.000139,
          6.16448e-07,
          3.35e-05,
          0.002,
          4.4333333e-05,
          9.999999999999999e-05,
          0.00019999999999999998,
          2.4999999999999998e-05,
          0.000657,
          0.00019999999999999998,
          4.9999999999999996e-05,
          8.999999999999999e-05,
          9.999999999999999e-06,
          2.1e-05,
          9.736e-06,
          3e-06,
          2.1e-05,
          0.0012,
          0,
          0.00019999999999999998,
          0,
          1.0638297999999999e-05,
          0.0031,
          3e-05,
          0.02,
          7.4e-05,
          0,
          0.0015,
          2.14e-05,
          3.9999898e-05,
          2.500124e-06,
          9.999999999999999e-05,
          0.000301,
          0.007506,
          2.6205539e-05,
          2.1e-05,
          0.000125,
          3e-05,
          0.01,
          0.0005,
          0.00085,
          3.85332677707314e-06,
          4.9999999999999996e-05,
          3.854e-05,
          4.2e-05,
          0.00022799999999999999,
          1.9999999999999998e-05,
          6e-05,
          1.9999999999999998e-05,
          3.3e-05,
          7.65e-05,
          2.8e-05,
          0.000650659833,
          4.9999999999999996e-06,
          2.1e-05,
          0.000144,
          0.032514916898,
          1.3e-05,
          3.315789e-06,
          1.5e-05,
          7.88352e-05,
          2.714286e-06,
          2.4999999999999998e-05,
          9.999999e-06,
          0.0005,
          2.1e-05,
          9.354e-06,
          1.9999999999999998e-05,
          0.09999999999999999,
          2.1933333e-05,
          0.000185,
          5.5e-05,
          0.00011,
          3.36e-06,
          1.4524851482699999e-05,
          0.001,
          1.7e-05,
          0.001,
          9.999999999999999e-05,
          2.1e-05,
          3.4426423e-05,
          2.232901e-06,
          9.999999999999999e-05,
          3.69e-05,
          0.00011,
          0.004,
          0.00011029002999999999,
          9.999999999999999e-05,
          4.8252e-05,
          0.00039999999999999996,
          0.0005,
          2.1212121e-05,
          2.86e-05,
          0.001,
          0.075,
          3.9999999999999996e-05,
          3.55204e-05,
          0.002,
          0.0025,
          3e-05,
          0.000105,
          0.09,
          0.0002000842,
          7.2e-05,
          9.999999999999999e-05,
          0.000105,
          0.049999999999999996,
          0,
          0.000340282367,
          3e-05,
          0.002,
          9.999999999999999e-06,
          9.999999999999999e-05,
          0.00012,
          9.999999999999999e-05,
          1.9276799999999998e-05,
          3e-05,
          7.5e-05,
          6e-05,
          1.89e-05,
          0.049999999999999996,
          5.4e-05,
          1.88981876216583e-05,
          2.1e-05,
          0.19999999999999998,
          0.005,
          0.0001375,
          0.0011,
          9.999999999999999e-05,
          2.1e-05,
          9.507271e-06,
          1.740589119707116e-05,
          0.086712634466,
          0.0105,
          6.1599965e-05,
          0,
          1.9999999999999998e-05,
          8.4e-05,
          9.999999999999999e-05,
          9.999999999999999e-05,
          4.8252e-05,
          4.2e-06,
          8.8888888e-05,
          9.1388946e-05,
          0.045,
          2.7e-05,
          0.021,
          0.00039999999999999996,
          0.0018,
          1.5733333e-05,
          2.7e-05,
          2.4e-05,
          2.1e-05,
          0.024999999999999998,
          9.999999999999999e-05,
          0.0012,
          6e-05,
          0.00015630673271,
          2.1e-05,
          0.00019999999999999998,
          9.999999999999999e-05,
          2.1e-05,
          1.4788275991e-05,
          0.009,
          0.00035,
          4.4999999999999996e-05,
          0.00028,
          3.18e-05,
          0.000144,
          0.0005,
          0.03,
          0.00021,
          0.00066,
          0.00021,
          0.08499999999999999,
          1.2499999999999999e-05,
          0.01,
          2.7716120999999998e-05,
          1.9999999999999998e-05,
          0.00055,
          0.000999481516,
          0.049999999999999996,
          0.00015,
          0.004999999999,
          4.9999999999999996e-05,
          0.09,
          1.98e-05,
          2.1e-05,
          0.00012,
          0.0005,
          6.4e-05,
          0.0009,
          4e-06,
          2.1e-05,
          2.3e-05,
          2.0166e-05,
          2.3e-05,
          2.4999999999999998e-05,
          1.618033e-06,
          3e-05,
          1,
          1.66e-05,
          0.000232,
          0.000336,
          0.01,
          9.999999999999999e-05,
          0.0011,
          0.0007999999999999999,
          0.0052,
          0.00084,
          3.9999999999999996e-05,
          0.01840697984,
          0.0005,
          1.9340594e-05,
          0.0002524608,
          2.4999999999999998e-05,
          6e-05,
          0.000124,
          0.001,
          0.0065,
          0.001,
          2.1e-05,
          2.4999999999999998e-05,
          4.9999999999999996e-05,
          3e-06,
          4.9999999999999996e-06,
          7e-05,
          0.0005,
          0.0003,
          2.1e-05,
          8.8e-05,
          3e-05,
          9.999999999999999e-05,
          9.999999999999999e-05,
          0.00019999999999999998,
          7.999999999999999e-05,
          1.84e-05,
          4.4999999999999996e-05,
          0.00512195122,
          2.1e-05,
          2.628e-05,
          2.1e-05,
          1.8e-05,
          2.6e-05,
          1.05e-05,
          0.0006000005179999999,
          0.00015,
          0.184,
          0.010199999999999999,
          4.4e-05,
          0.000168,
          9.999999999999999e-05,
          0.001,
          8.4e-05,
          8.999999999999999e-05,
          0.092,
          0.00065,
          0.000100262205,
          1.8081806e-05,
          2.20757e-05,
          2.1e-05,
          2.1e-05,
          8.2546564e-05,
          2.1e-05,
          5.151e-06,
          0.01688,
          5.25e-05,
          9.999999999999999e-05,
          2.2105263e-05,
          0.001,
          0.00175,
          8.818888799999999e-05,
          0.00021,
          0.18447,
          5.5e-05,
          4.9999999999999996e-05,
          0.00026,
          0.00021,
          0.0021,
          0.000366,
          9.999999999999999e-05,
          2.4999999999999998e-05,
          0.018,
          0.001,
          9.999999999999999e-05,
          0.001,
          0.0076,
          4.9999999999999996e-05,
          8.4e-05,
          2.1e-05,
          0.06999999999999999,
          0,
          0.00808,
          5.4e-05,
          0.00010512000144,
          2.5228799999999998e-05,
          0.000105,
          2.1e-05,
          0.00012,
          2.1e-05,
          0.0002628,
          1.9035999e-05,
          3.0886e-05,
          1.3369999999999999e-05,
          0.0748,
          9.999999999999999e-05,
          1.97e-05,
          8.4e-05,
          0.0005,
          0.005,
          0.00042,
          6.4e-05,
          2.1e-06,
          0.000168,
          3e-05,
          0.001,
          0.034999999999999996,
          0.09809999999999999,
          0,
          0.004,
          0.00019999999999999998,
          0.007,
          5.4256118999999996e-05,
          2.1e-05,
          0,
          0.0005,
          0.001,
          0.0105,
          0.00018999999999999998,
          0.001,
          4.2e-05,
          1.5e-05,
          0.049999999999999996,
          0.00039999999999999996,
          0.000105,
          0.000208,
          0.00015999999999999999,
          9e-06,
          4.9999999999999996e-06,
          0.000182,
          1.6504333e-05,
          0.000105,
          0.0001599184,
          0.010008835635,
          0.0003,
          6.0168145e-05,
          2.8e-06,
          1.2e-07,
          0.0021,
          0,
          2.4487944e-05,
          0,
          0.001,
          9.999999999999999e-05,
          8.63414e-06,
          0.99,
          0.001,
          0.002,
          0.00025,
          0.00140022261,
          2.1e-05,
          1e-06
         ],
         "yaxis": "y"
        }
       ],
       "layout": {
        "legend": {
         "tracegroupgap": 0
        },
        "margin": {
         "t": 60
        },
        "template": {
         "data": {
          "bar": [
           {
            "error_x": {
             "color": "#2a3f5f"
            },
            "error_y": {
             "color": "#2a3f5f"
            },
            "marker": {
             "line": {
              "color": "#E5ECF6",
              "width": 0.5
             }
            },
            "type": "bar"
           }
          ],
          "barpolar": [
           {
            "marker": {
             "line": {
              "color": "#E5ECF6",
              "width": 0.5
             }
            },
            "type": "barpolar"
           }
          ],
          "carpet": [
           {
            "aaxis": {
             "endlinecolor": "#2a3f5f",
             "gridcolor": "white",
             "linecolor": "white",
             "minorgridcolor": "white",
             "startlinecolor": "#2a3f5f"
            },
            "baxis": {
             "endlinecolor": "#2a3f5f",
             "gridcolor": "white",
             "linecolor": "white",
             "minorgridcolor": "white",
             "startlinecolor": "#2a3f5f"
            },
            "type": "carpet"
           }
          ],
          "choropleth": [
           {
            "colorbar": {
             "outlinewidth": 0,
             "ticks": ""
            },
            "type": "choropleth"
           }
          ],
          "contour": [
           {
            "colorbar": {
             "outlinewidth": 0,
             "ticks": ""
            },
            "colorscale": [
             [
              0,
              "#0d0887"
             ],
             [
              0.1111111111111111,
              "#46039f"
             ],
             [
              0.2222222222222222,
              "#7201a8"
             ],
             [
              0.3333333333333333,
              "#9c179e"
             ],
             [
              0.4444444444444444,
              "#bd3786"
             ],
             [
              0.5555555555555556,
              "#d8576b"
             ],
             [
              0.6666666666666666,
              "#ed7953"
             ],
             [
              0.7777777777777778,
              "#fb9f3a"
             ],
             [
              0.8888888888888888,
              "#fdca26"
             ],
             [
              1,
              "#f0f921"
             ]
            ],
            "type": "contour"
           }
          ],
          "contourcarpet": [
           {
            "colorbar": {
             "outlinewidth": 0,
             "ticks": ""
            },
            "type": "contourcarpet"
           }
          ],
          "heatmap": [
           {
            "colorbar": {
             "outlinewidth": 0,
             "ticks": ""
            },
            "colorscale": [
             [
              0,
              "#0d0887"
             ],
             [
              0.1111111111111111,
              "#46039f"
             ],
             [
              0.2222222222222222,
              "#7201a8"
             ],
             [
              0.3333333333333333,
              "#9c179e"
             ],
             [
              0.4444444444444444,
              "#bd3786"
             ],
             [
              0.5555555555555556,
              "#d8576b"
             ],
             [
              0.6666666666666666,
              "#ed7953"
             ],
             [
              0.7777777777777778,
              "#fb9f3a"
             ],
             [
              0.8888888888888888,
              "#fdca26"
             ],
             [
              1,
              "#f0f921"
             ]
            ],
            "type": "heatmap"
           }
          ],
          "heatmapgl": [
           {
            "colorbar": {
             "outlinewidth": 0,
             "ticks": ""
            },
            "colorscale": [
             [
              0,
              "#0d0887"
             ],
             [
              0.1111111111111111,
              "#46039f"
             ],
             [
              0.2222222222222222,
              "#7201a8"
             ],
             [
              0.3333333333333333,
              "#9c179e"
             ],
             [
              0.4444444444444444,
              "#bd3786"
             ],
             [
              0.5555555555555556,
              "#d8576b"
             ],
             [
              0.6666666666666666,
              "#ed7953"
             ],
             [
              0.7777777777777778,
              "#fb9f3a"
             ],
             [
              0.8888888888888888,
              "#fdca26"
             ],
             [
              1,
              "#f0f921"
             ]
            ],
            "type": "heatmapgl"
           }
          ],
          "histogram": [
           {
            "marker": {
             "colorbar": {
              "outlinewidth": 0,
              "ticks": ""
             }
            },
            "type": "histogram"
           }
          ],
          "histogram2d": [
           {
            "colorbar": {
             "outlinewidth": 0,
             "ticks": ""
            },
            "colorscale": [
             [
              0,
              "#0d0887"
             ],
             [
              0.1111111111111111,
              "#46039f"
             ],
             [
              0.2222222222222222,
              "#7201a8"
             ],
             [
              0.3333333333333333,
              "#9c179e"
             ],
             [
              0.4444444444444444,
              "#bd3786"
             ],
             [
              0.5555555555555556,
              "#d8576b"
             ],
             [
              0.6666666666666666,
              "#ed7953"
             ],
             [
              0.7777777777777778,
              "#fb9f3a"
             ],
             [
              0.8888888888888888,
              "#fdca26"
             ],
             [
              1,
              "#f0f921"
             ]
            ],
            "type": "histogram2d"
           }
          ],
          "histogram2dcontour": [
           {
            "colorbar": {
             "outlinewidth": 0,
             "ticks": ""
            },
            "colorscale": [
             [
              0,
              "#0d0887"
             ],
             [
              0.1111111111111111,
              "#46039f"
             ],
             [
              0.2222222222222222,
              "#7201a8"
             ],
             [
              0.3333333333333333,
              "#9c179e"
             ],
             [
              0.4444444444444444,
              "#bd3786"
             ],
             [
              0.5555555555555556,
              "#d8576b"
             ],
             [
              0.6666666666666666,
              "#ed7953"
             ],
             [
              0.7777777777777778,
              "#fb9f3a"
             ],
             [
              0.8888888888888888,
              "#fdca26"
             ],
             [
              1,
              "#f0f921"
             ]
            ],
            "type": "histogram2dcontour"
           }
          ],
          "mesh3d": [
           {
            "colorbar": {
             "outlinewidth": 0,
             "ticks": ""
            },
            "type": "mesh3d"
           }
          ],
          "parcoords": [
           {
            "line": {
             "colorbar": {
              "outlinewidth": 0,
              "ticks": ""
             }
            },
            "type": "parcoords"
           }
          ],
          "pie": [
           {
            "automargin": true,
            "type": "pie"
           }
          ],
          "scatter": [
           {
            "marker": {
             "colorbar": {
              "outlinewidth": 0,
              "ticks": ""
             }
            },
            "type": "scatter"
           }
          ],
          "scatter3d": [
           {
            "line": {
             "colorbar": {
              "outlinewidth": 0,
              "ticks": ""
             }
            },
            "marker": {
             "colorbar": {
              "outlinewidth": 0,
              "ticks": ""
             }
            },
            "type": "scatter3d"
           }
          ],
          "scattercarpet": [
           {
            "marker": {
             "colorbar": {
              "outlinewidth": 0,
              "ticks": ""
             }
            },
            "type": "scattercarpet"
           }
          ],
          "scattergeo": [
           {
            "marker": {
             "colorbar": {
              "outlinewidth": 0,
              "ticks": ""
             }
            },
            "type": "scattergeo"
           }
          ],
          "scattergl": [
           {
            "marker": {
             "colorbar": {
              "outlinewidth": 0,
              "ticks": ""
             }
            },
            "type": "scattergl"
           }
          ],
          "scattermapbox": [
           {
            "marker": {
             "colorbar": {
              "outlinewidth": 0,
              "ticks": ""
             }
            },
            "type": "scattermapbox"
           }
          ],
          "scatterpolar": [
           {
            "marker": {
             "colorbar": {
              "outlinewidth": 0,
              "ticks": ""
             }
            },
            "type": "scatterpolar"
           }
          ],
          "scatterpolargl": [
           {
            "marker": {
             "colorbar": {
              "outlinewidth": 0,
              "ticks": ""
             }
            },
            "type": "scatterpolargl"
           }
          ],
          "scatterternary": [
           {
            "marker": {
             "colorbar": {
              "outlinewidth": 0,
              "ticks": ""
             }
            },
            "type": "scatterternary"
           }
          ],
          "surface": [
           {
            "colorbar": {
             "outlinewidth": 0,
             "ticks": ""
            },
            "colorscale": [
             [
              0,
              "#0d0887"
             ],
             [
              0.1111111111111111,
              "#46039f"
             ],
             [
              0.2222222222222222,
              "#7201a8"
             ],
             [
              0.3333333333333333,
              "#9c179e"
             ],
             [
              0.4444444444444444,
              "#bd3786"
             ],
             [
              0.5555555555555556,
              "#d8576b"
             ],
             [
              0.6666666666666666,
              "#ed7953"
             ],
             [
              0.7777777777777778,
              "#fb9f3a"
             ],
             [
              0.8888888888888888,
              "#fdca26"
             ],
             [
              1,
              "#f0f921"
             ]
            ],
            "type": "surface"
           }
          ],
          "table": [
           {
            "cells": {
             "fill": {
              "color": "#EBF0F8"
             },
             "line": {
              "color": "white"
             }
            },
            "header": {
             "fill": {
              "color": "#C8D4E3"
             },
             "line": {
              "color": "white"
             }
            },
            "type": "table"
           }
          ]
         },
         "layout": {
          "annotationdefaults": {
           "arrowcolor": "#2a3f5f",
           "arrowhead": 0,
           "arrowwidth": 1
          },
          "autotypenumbers": "strict",
          "coloraxis": {
           "colorbar": {
            "outlinewidth": 0,
            "ticks": ""
           }
          },
          "colorscale": {
           "diverging": [
            [
             0,
             "#8e0152"
            ],
            [
             0.1,
             "#c51b7d"
            ],
            [
             0.2,
             "#de77ae"
            ],
            [
             0.3,
             "#f1b6da"
            ],
            [
             0.4,
             "#fde0ef"
            ],
            [
             0.5,
             "#f7f7f7"
            ],
            [
             0.6,
             "#e6f5d0"
            ],
            [
             0.7,
             "#b8e186"
            ],
            [
             0.8,
             "#7fbc41"
            ],
            [
             0.9,
             "#4d9221"
            ],
            [
             1,
             "#276419"
            ]
           ],
           "sequential": [
            [
             0,
             "#0d0887"
            ],
            [
             0.1111111111111111,
             "#46039f"
            ],
            [
             0.2222222222222222,
             "#7201a8"
            ],
            [
             0.3333333333333333,
             "#9c179e"
            ],
            [
             0.4444444444444444,
             "#bd3786"
            ],
            [
             0.5555555555555556,
             "#d8576b"
            ],
            [
             0.6666666666666666,
             "#ed7953"
            ],
            [
             0.7777777777777778,
             "#fb9f3a"
            ],
            [
             0.8888888888888888,
             "#fdca26"
            ],
            [
             1,
             "#f0f921"
            ]
           ],
           "sequentialminus": [
            [
             0,
             "#0d0887"
            ],
            [
             0.1111111111111111,
             "#46039f"
            ],
            [
             0.2222222222222222,
             "#7201a8"
            ],
            [
             0.3333333333333333,
             "#9c179e"
            ],
            [
             0.4444444444444444,
             "#bd3786"
            ],
            [
             0.5555555555555556,
             "#d8576b"
            ],
            [
             0.6666666666666666,
             "#ed7953"
            ],
            [
             0.7777777777777778,
             "#fb9f3a"
            ],
            [
             0.8888888888888888,
             "#fdca26"
            ],
            [
             1,
             "#f0f921"
            ]
           ]
          },
          "colorway": [
           "#636efa",
           "#EF553B",
           "#00cc96",
           "#ab63fa",
           "#FFA15A",
           "#19d3f3",
           "#FF6692",
           "#B6E880",
           "#FF97FF",
           "#FECB52"
          ],
          "font": {
           "color": "#2a3f5f"
          },
          "geo": {
           "bgcolor": "white",
           "lakecolor": "white",
           "landcolor": "#E5ECF6",
           "showlakes": true,
           "showland": true,
           "subunitcolor": "white"
          },
          "hoverlabel": {
           "align": "left"
          },
          "hovermode": "closest",
          "mapbox": {
           "style": "light"
          },
          "paper_bgcolor": "white",
          "plot_bgcolor": "#E5ECF6",
          "polar": {
           "angularaxis": {
            "gridcolor": "white",
            "linecolor": "white",
            "ticks": ""
           },
           "bgcolor": "#E5ECF6",
           "radialaxis": {
            "gridcolor": "white",
            "linecolor": "white",
            "ticks": ""
           }
          },
          "scene": {
           "xaxis": {
            "backgroundcolor": "#E5ECF6",
            "gridcolor": "white",
            "gridwidth": 2,
            "linecolor": "white",
            "showbackground": true,
            "ticks": "",
            "zerolinecolor": "white"
           },
           "yaxis": {
            "backgroundcolor": "#E5ECF6",
            "gridcolor": "white",
            "gridwidth": 2,
            "linecolor": "white",
            "showbackground": true,
            "ticks": "",
            "zerolinecolor": "white"
           },
           "zaxis": {
            "backgroundcolor": "#E5ECF6",
            "gridcolor": "white",
            "gridwidth": 2,
            "linecolor": "white",
            "showbackground": true,
            "ticks": "",
            "zerolinecolor": "white"
           }
          },
          "shapedefaults": {
           "line": {
            "color": "#2a3f5f"
           }
          },
          "ternary": {
           "aaxis": {
            "gridcolor": "white",
            "linecolor": "white",
            "ticks": ""
           },
           "baxis": {
            "gridcolor": "white",
            "linecolor": "white",
            "ticks": ""
           },
           "bgcolor": "#E5ECF6",
           "caxis": {
            "gridcolor": "white",
            "linecolor": "white",
            "ticks": ""
           }
          },
          "title": {
           "x": 0.05
          },
          "xaxis": {
           "automargin": true,
           "gridcolor": "white",
           "linecolor": "white",
           "ticks": "",
           "title": {
            "standoff": 15
           },
           "zerolinecolor": "white",
           "zerolinewidth": 2
          },
          "yaxis": {
           "automargin": true,
           "gridcolor": "white",
           "linecolor": "white",
           "ticks": "",
           "title": {
            "standoff": 15
           },
           "zerolinecolor": "white",
           "zerolinewidth": 2
          }
         }
        },
        "xaxis": {
         "anchor": "y",
         "domain": [
          0,
          1
         ],
         "title": {
          "text": "TotalCoinsMined"
         }
        },
        "yaxis": {
         "anchor": "x",
         "domain": [
          0,
          1
         ],
         "title": {
          "text": "TotalCoinSupply"
         }
        }
       }
      },
      "text/html": [
       "<div>                            <div id=\"0e25c71e-b440-4b2e-acf7-2fed60ebff95\" class=\"plotly-graph-div\" style=\"height:525px; width:100%;\"></div>            <script type=\"text/javascript\">                require([\"plotly\"], function(Plotly) {                    window.PLOTLYENV=window.PLOTLYENV || {};                                    if (document.getElementById(\"0e25c71e-b440-4b2e-acf7-2fed60ebff95\")) {                    Plotly.newPlot(                        \"0e25c71e-b440-4b2e-acf7-2fed60ebff95\",                        [{\"hovertemplate\": \"<b>%{hovertext}</b><br><br>TotalCoinsMined=%{x}<br>TotalCoinSupply=%{y}<extra></extra>\", \"hovertext\": [\"42 Coin\", \"404Coin\", \"EliteCoin\", \"Bitcoin\", \"Ethereum\", \"Litecoin\", \"Dash\", \"Monero\", \"Ethereum Classic\", \"ZCash\", \"Bitshares\", \"DigiByte\", \"BitcoinDark\", \"PayCoin\", \"ProsperCoin\", \"KoboCoin\", \"Spreadcoin\", \"Argentum\", \"Aurora Coin\", \"BlueCoin\", \"MyriadCoin\", \"MoonCoin\", \"ZetaCoin\", \"SexCoin\", \"Quatloo\", \"EnergyCoin\", \"QuarkCoin\", \"Riecoin\", \"Digitalcoin \", \"BitBar\", \"Catcoin\", \"CryptoBullion\", \"CannaCoin\", \"CryptCoin\", \"CasinoCoin\", \"Diamond\", \"Verge\", \"DevCoin\", \"EarthCoin\", \"E-Gulden\", \"Einsteinium\", \"Emerald\", \"Exclusive Coin\", \"FlutterCoin\", \"Franko\", \"FeatherCoin\", \"GrandCoin\", \"GlobalCoin\", \"GoldCoin\", \"HoboNickels\", \"HyperStake\", \"Infinite Coin\", \"IOCoin\", \"IXcoin\", \"KrugerCoin\", \"LuckyCoin\", \"Litebar \", \"MaxCoin\", \"MegaCoin\", \"MediterraneanCoin\", \"MintCoin\", \"MinCoin\", \"MazaCoin\", \"Nautilus Coin\", \"NavCoin\", \"NobleCoin\", \"Namecoin\", \"NyanCoin\", \"OpalCoin\", \"Orbitcoin\", \"PotCoin\", \"PhoenixCoin\", \"Reddcoin\", \"RonPaulCoin\", \"StableCoin\", \"SmartCoin\", \"SuperCoin\", \"SyncCoin\", \"SysCoin\", \"TeslaCoin\", \"TigerCoin\", \"TittieCoin\", \"TorCoin\", \"TerraCoin\", \"UnbreakableCoin\", \"Unobtanium\", \"UroCoin\", \"UnitaryStatus Dollar\", \"UltraCoin\", \"ViaCoin\", \"VeriCoin\", \"Vertcoin\", \"WorldCoin\", \"X11 Coin\", \"Crypti\", \"JouleCoin\", \"StealthCoin\", \"ZCC Coin\", \"ByteCoin\", \"DigitalNote \", \"BurstCoin\", \"StorjCoin\", \"MonaCoin\", \"Neutron\", \"FairCoin\", \"Gulden\", \"RubyCoin\", \"PesetaCoin\", \"Kore\", \"Wild Beast Coin\", \"Dnotes\", \"Flo\", \"8BIT Coin\", \"Sativa Coin\", \"ArtByte\", \"Folding Coin\", \"Ucoin\", \"Unitus\", \"CypherPunkCoin\", \"OmniCron\", \"Vtorrent\", \"GreenCoin\", \"Cryptonite\", \"MasterCoin\", \"SoonCoin\", \"1Credit\", \"IslaCoin\", \"Nexus\", \"MarsCoin \", \"Crypto\", \"Anarchists Prime\", \"Droidz\", \"BowsCoin\", \"Squall Coin\", \"Song Coin\", \"BitZeny\", \"Diggits\", \"Expanse\", \"Paycon\", \"Siacoin\", \"Emercoin\", \"EverGreenCoin\", \"MindCoin\", \"I0coin\", \"Decred\", \"Revolution VR\", \"HOdlcoin\", \"EDRCoin\", \"Hitcoin\", \"Gamecredits\", \"DubaiCoin\", \"CarpeDiemCoin\", \"PWR Coin\", \"BillaryCoin\", \"GPU Coin\", \"Adzcoin\", \"SoilCoin\", \"YoCoin\", \"SibCoin\", \"EuropeCoin\", \"ZeitCoin\", \"SwingCoin\", \"SafeExchangeCoin\", \"Nebuchadnezzar\", \"Francs\", \"BolivarCoin\", \"Ratecoin\", \"Revenu\", \"Clockcoin\", \"VIP Tokens\", \"BitSend\", \"Omni\", \"Let it Ride\", \"PutinCoin\", \"iBankCoin\", \"Frankywillcoin\", \"MudraCoin\", \"PizzaCoin\", \"Lutetium Coin\", \"Komodo\", \"GoldBlocks\", \"CarterCoin\", \"Karbo\", \"BitTokens\", \"ZayedCoin\", \"MustangCoin\", \"ZoneCoin\", \"Circuits of Value\", \"RootCoin\", \"DopeCoin\", \"BitCurrency\", \"DollarCoin\", \"Swiscoin\", \"Shilling\", \"BuzzCoin\", \"Opair\", \"PesoBit\", \"Halloween Coin\", \"ZCoin\", \"CoffeeCoin\", \"RoyalCoin\", \"GanjaCoin V2\", \"TeamUP\", \"LanaCoin\", \"Elementrem\", \"ZClassic\", \"ARK\", \"InsaneCoin\", \"KiloCoin\", \"ArtexCoin\", \"EmberCoin\", \"XenixCoin\", \"FreeCoin\", \"PLNCoin\", \"AquariusCoin\", \"Kurrent\", \"Creatio\", \"Eternity\", \"Eurocoin\", \"BitcoinFast\", \"Stakenet\", \"BitConnect Coin\", \"MoneyCoin\", \"Enigma\", \"Cannabis Industry Coin\", \"Russiacoin\", \"PandaCoin\", \"GameUnits\", \"GAKHcoin\", \"Allsafe\", \"LiteCreed\", \"OsmiumCoin\", \"Bikercoins\", \"HexxCoin\", \"Klingon Empire Darsek\", \"Internet of People\", \"KushCoin\", \"Printerium\", \"PacCoin\", \"Impeach\", \"Citadel\", \"Zilbercoin\", \"FirstCoin\", \"BeaverCoin\", \"FindCoin\", \"VaultCoin\", \"Zero\", \"OpenChat\", \"Canada eCoin\", \"Zoin\", \"RenosCoin\", \"DubaiCoin\", \"VirtacoinPlus\", \"TajCoin\", \"Impact\", \"EB3coin\", \"Atmos\", \"HappyCoin\", \"Coinonat\", \"MacronCoin\", \"Condensate\", \"Independent Money System\", \"ArgusCoin\", \"LomoCoin\", \"ProCurrency\", \"GoldReserve\", \"BenjiRolls\", \"GrowthCoin\", \"ILCoin\", \"Phreak\", \"Degas Coin\", \"HTML5 Coin\", \"Ultimate Secure Cash\", \"EquiTrader\", \"QTUM\", \"Quantum Resistant Ledger\", \"Espers\", \"Dynamic\", \"Nano\", \"ChanCoin\", \"Dinastycoin\", \"Denarius\", \"DigitalPrice\", \"Virta Unique Coin\", \"Bitcoin Planet\", \"Unify\", \"BritCoin\", \"SocialCoin\", \"ArcticCoin\", \"DAS\", \"Linda\", \"LeviarCoin\", \"DeepOnion\", \"Bitcore\", \"gCn Coin\", \"SmartCash\", \"Signatum\", \"Onix\", \"Cream\", \"Bitcoin Cash\", \"Monoeci\", \"Draftcoin\", \"Vechain\", \"Sojourn Coin\", \"Stakecoin\", \"NewYorkCoin\", \"FrazCoin\", \"Kronecoin\", \"AdCoin\", \"Linx\", \"CoinonatX\", \"Ethereum Dark\", \"Sumokoin\", \"Obsidian\", \"Cardano\", \"Regalcoin\", \"BitcoinZ\", \"TrezarCoin\", \"Elements\", \"TerraNovaCoin\", \"VIVO Coin\", \"Rupee\", \"Bitcoin Gold\", \"WomenCoin\", \"Theresa May Coin\", \"NamoCoin\", \"LUXCoin\", \"Pirl\", \"Xios\", \"Bitcloud 2.0\", \"eBoost\", \"KekCoin\", \"BlackholeCoin\", \"Infinity Economics\", \"Pura\", \"Innova\", \"Ellaism\", \"GoByte\", \"Magnet\", \"Lamden Tau\", \"Electra\", \"Bitcoin Diamond\", \"SHIELD\", \"Cash & Back Coin\", \"UltraNote\", \"BitCoal\", \"DaxxCoin\", \"Bulwark\", \"Kalkulus\", \"AC3\", \"Lethean\", \"GermanCoin\", \"LiteCoin Ultra\", \"PopularCoin\", \"PhantomX\", \"Photon\", \"Sucre\", \"SparksPay\", \"Digiwage\", \"GunCoin\", \"IrishCoin\", \"Trollcoin\", \"Litecoin Plus\", \"Monkey Project\", \"Pioneer Coin\", \"UnitedBitcoin\", \"Interzone\", \"TokenPay\", \"1717 Masonic Commemorative Token\", \"My Big Coin\", \"TurtleCoin\", \"MUNcoin\", \"Unified Society USDEX\", \"Niobio Cash\", \"ShareChain\", \"Travelflex\", \"KREDS\", \"Tokyo Coin\", \"BiblePay\", \"LitecoinCash\", \"BitFlip\", \"LottoCoin\", \"Crypto Improvement Fund\", \"Stipend\", \"Poa Network\", \"Pushi\", \"Ellerium\", \"Velox\", \"Ontology\", \"Callisto Network\", \"BitTube\", \"Poseidon\", \"Aidos Kuneen\", \"Bitspace\", \"Briacoin\", \"Ignition\", \"Bitrolium\", \"MedicCoin\", \"Alpenschillling\", \"Bitcoin Green\", \"Deviant Coin\", \"Abjcoin\", \"Semux\", \"FuturoCoin\", \"Carebit\", \"Zealium\", \"Monero Classic\", \"Proton\", \"iDealCash\", \"Jumpcoin\", \"Infinex\", \"Bitcoin Incognito\", \"KEYCO\", \"HollyWoodCoin\", \"GINcoin\", \"PlatinCoin\", \"Loki\", \"Newton Coin\", \"Swisscoin\", \"Xt3ch\", \"MassGrid\", \"TheVig\", \"PluraCoin\", \"EmaratCoin\", \"Dekado\", \"Lynx\", \"Poseidon Quark\", \"BitcoinWSpectrum\", \"Muse\", \"Motion\", \"PlusOneCoin\", \"Axe\", \"Trivechain\", \"Dystem\", \"Giant\", \"Peony Coin\", \"Absolute Coin\", \"Vitae\", \"HexCoin\", \"TPCash\", \"Webchain\", \"Ryo\", \"Urals Coin\", \"Qwertycoin\", \"ARENON\", \"EUNO\", \"MMOCoin\", \"Ketan\", \"Project Pai\", \"XDNA\", \"PAXEX\", \"Azart\", \"ThunderStake\", \"Kcash\", \"Xchange\", \"Acute Angle Cloud\", \"CrypticCoin\", \"Bettex coin\", \"Actinium\", \"Bitcoin SV\", \"BitMoney\", \"Junson Ming Chan Coin\", \"FREDEnergy\", \"HerbCoin\", \"Universal Molecule\", \"Lithium\", \"PirateCash\", \"Exosis\", \"Block-Logic\", \"Oduwa\", \"Beam\", \"Galilel\", \"Bithereum\", \"Crypto Sports\", \"Credit\", \"SLICE\", \"Dash Platinum\", \"Nasdacoin\", \"Beetle Coin\", \"Titan Coin\", \"Award\", \"BLAST\", \"Bitcoin Rhodium\", \"GlobalToken\", \"Insane Coin\", \"ALAX\", \"LiteDoge\", \"SolarCoin\", \"TruckCoin\", \"UFO Coin\", \"OrangeCoin\", \"BlakeCoin\", \"BitstarCoin\", \"NeosCoin\", \"HyperCoin\", \"PinkCoin\", \"Crypto Escudo\", \"AudioCoin\", \"IncaKoin\", \"Piggy Coin\", \"Crown Coin\", \"Genstake\", \"SmileyCoin\", \"XiaoMiCoin\", \"Groestlcoin\", \"CapriCoin\", \" ClubCoin\", \"Radium\", \"Bata\", \"Pakcoin\", \"Creditbit \", \"OKCash\", \"Lisk\", \"HiCoin\", \"WhiteCoin\", \"FriendshipCoin\", \"JoinCoin\", \"Triangles Coin\", \"Vollar\", \"EOS\", \"Reality Clash\", \"Oxycoin\", \"TigerCash\", \"Waves\", \"Particl\", \"BitTorrent\", \"Nxt\", \"ZEPHYR\", \"Gapcoin\", \"Beldex\", \"Horizen\", \"BitcoinPlus\"], \"legendgroup\": \"\", \"marker\": {\"color\": \"#636efa\", \"symbol\": \"circle\"}, \"mode\": \"markers\", \"name\": \"\", \"orientation\": \"v\", \"showlegend\": false, \"type\": \"scatter\", \"x\": [0.0, 0.0010658554443703134, 0.029575513522791114, 1.8108421598585816e-05, 0.00010877313976335468, 6.367668686211585e-05, 9.122581150127228e-06, 1.7375047727488684e-05, 0.00011450601351907833, 7.457675173596279e-06, 0.002769294155476739, 0.011521564786182067, 1.3018532258038877e-06, 1.2116595595934655e-05, 5.826599760162344e-06, 2.5800792718705074e-05, 1.1262443547866963e-05, 1.232918444404364e-05, 1.831844923844183e-05, 0.0006418495982840718, 0.0017053267225703456, 4.646522283282147e-11, 0.00017192554364660632, 0.0001302448274794628, 7.432158258950554e-06, 0.0001243072344799435, 0.00026218190106836077, 5.0049604072037225e-05, 3.3781139008450015e-05, 4.2967638288704366e-08, 7.292926220874455e-06, 1.0495823209192735e-06, 4.751405197486568e-06, 5.047475933992751e-06, 0.04040449827006263, 3.3378620409334326e-06, 0.016090618419729627, 0.018963708579634225, 0.01266581626146832, 2.1121894142137525e-05, 0.0002210852018189937, 1.969390564401809e-05, 5.737098739796257e-06, 0.0004665001298287254, 1.1542456330155606e-06, 0.00021077922221115263, 0.000893066504733897, 6.633679513934236e-05, 4.2079879736249724e-05, 9.016960544770809e-05, 0.001695494126403373, 0.09151190488395176, 1.7829366876127143e-05, 2.130257316436215e-05, 0.0001529791256713188, 1.952171462386499e-05, 1.1154695144323575e-06, 6.206713487587533e-05, 3.853777066024122e-05, 4.084068267938516e-05, 0.021509260777747684, 5.8628576360991e-06, 0.0016301560170937082, 1.634357824597457e-05, 6.675536126159022e-05, 0.0023899931703711126, 1.4885379803443286e-05, 0.0003380939367828342, 1.530959103431023e-05, 3.253142420400061e-06, 0.00022492901282684556, 7.470714728778826e-05, 0.02961202156181921, 1.1152808176527055e-06, 2.446001595507046e-05, 2.5852512043003808e-05, 5.122040187243045e-05, 1.1464777636450732e-09, 0.0005690332542950281, 8.107205733460473e-05, 4.3977024597207445e-05, 0.0016387322668513756, 1.4462882058089128e-06, 2.316728836365402e-05, 2.3011454264237876e-06, 2.0290109255462446e-07, 1.2194765290836668e-06, 0.001110065736838991, 5.074317359596724e-05, 2.3384963742223854e-05, 3.234488028032079e-05, 5.169117700448563e-05, 0.0001208164268757715, 7.02107913256062e-06, 0.00010101121017516, 3.959206487073396e-05, 3.3428344146286866e-05, 0.000149486750682716, 0.18592820936339893, 0.006976430614728428, 0.0018313682302272918, 5.169059132444013e-05, 6.88842528690752e-05, 3.9517270722996776e-05, 5.373171257426225e-05, 0.00041922940371274717, 2.7459351832994873e-05, 0.00013890826284479005, 2.0428746910438998e-06, 1.8371648199843193e-07, 0.00017641218487765833, 0.00015381046349316466, 1.4826421555945544e-06, 7.1685584936518354e-06, 0.0008005517611206417, 0.0007266920705903823, 2.716970369101339e-06, 6.577171953463686e-05, 6.429611685370236e-06, 1.0242543481404857e-05, 1.1722032628249687e-05, 0.004656962788057776, 0.0007156712681788526, 6.257000627009784e-07, 1.2588606144078657e-05, 8.906263157644134e-08, 1.5289689463744187e-06, 6.430091286755607e-05, 3.254737390940308e-05, 1.388166937063467e-05, 1.4896289018926092e-05, 8.65464044533528e-06, 1.6024218544473603e-05, 3.3248663543496074e-07, 3.289457501821606e-05, 7.637911117242616e-05, 0.00010101121017516, 1.0601369346955924e-05, 2.3275580507341256e-05, 0.03343300387173752, 4.3495195674547396e-05, 1.3667342096946377e-05, 1.602811505354264e-05, 2.1209771971041883e-05, 1.0469821310022304e-05, 0.00021212358803498338, 1.1564684369737338e-05, 3.7067592744553853e-06, 0.011107518609238073, 7.054227695219703e-05, 5.180838862741675e-06, 0.0219598179179117, 0.010171276554625372, 9.089700841491067e-06, 4.088632471488365e-05, 4.556646089956654e-05, 5.759667683964639e-06, 6.428563793372448e-07, 1.743788870157756e-05, 1.0512471149812692e-05, 0.037345108590098736, 4.421302536434042e-06, 0.002169200088786735, 2.0202208095288435e-05, 6.637212695356324e-06, 1.3792117338373683e-05, 0.00013591558906711438, 1.2075723529647756e-06, 1.6831280775777115e-05, 8.429425494523455e-05, 2.4634303574462228e-05, 6.226394217472033e-07, 3.8980006684536215e-05, 0.0008213147135639345, 4.572054144447702e-06, 0.00010101121017516, 5.0505202053125176e-06, 1.3918087968066747e-06, 0.0006636438871562658, 0.00011707011143822338, 1.5721220645668756e-05, 4.360196981630424e-05, 7.901494854014166e-06, 6.014078665632431e-07, 6.306938569650361e-06, 6.642442854597716e-07, 2.60803781407262e-06, 0.001010112483573715, 1.9594637532670447e-06, 0.00011802678598125889, 0.00017131364398891228, 9.198763457405489e-06, 0.0006719268674458666, 1.1231600774401894e-05, 0.019775768099222997, 7.478243316626308e-05, 3.3861916349526105e-05, 0.0002673549836545982, 7.64477326578056e-06, 0.00015022067624351898, 2.5253641442697554e-06, 0.00010101121017516, 1.799883162737528e-05, 0.001093105990898508, 2.6470500769759988e-05, 5.670274745638833e-06, 0.00010929623796285102, 1.8528262748666736e-05, 0.00019828299691049012, 0.0008323326789979977, 0.09312512499722704, 3.892251219607147e-06, 5.050558387524027e-05, 1.7262376599622708e-05, 2.4743064059498467e-06, 6.198532384216967e-05, 2.0202208095288435e-05, 6.130817447836677e-06, 1.2542074300456016e-05, 2.044869943142752e-05, 7.635473614706129e-05, 1.1192734045396626e-05, 1.102474791110289e-05, 8.22866956988183e-07, 9.879940920632446e-07, 8.462552033844294e-06, 0.034155080075394764, 3.5080612062000273e-06, 3.349277577788236e-06, 1.0624091564757174e-05, 3.053338648306851e-05, 9.030244364887856e-07, 9.45166937098981e-06, 1.8950765986042048e-06, 2.4207680022731743e-05, 2.5515810848300206e-06, 5.716282297716262e-06, 1.1941233107066495e-05, 0.0005424122767593174, 3.112530434702042e-07, 1.1080203617022588e-05, 2.952126549266365e-06, 0.00011111233543514395, 3.1467187028372516e-06, 1.4671691996262168e-05, 3.06927721385458e-05, 6.991606880143162e-06, 0.001010112483573715, 0.00010085303495353078, 1.8733259530199216e-05, 3.641488282863465e-05, 2.2554388447348865e-06, 1.3295815303463768e-05, 1.230736649923973e-05, 0.0001117490980991419, 6.4744182567565e-05, 0.0001122596585042139, 2.1738914513579824e-05, 1.0225528698507492e-05, 0.00040548074292924503, 0.00012289575426205164, 5.423185059979209e-06, 1.1598940316251253e-06, 5.050138383197423e-07, 0.000101562474035661, 1.7344985622223908e-05, 2.048109930160979e-05, 0.00029811998901383135, 0.00133107321342839, 1.150536750589021e-05, 2.1574712631564118e-05, 0.041070185354394564, 1.0447665574437378e-05, 1.3811636685882888e-05, 0.00010101121017516, 6.973410292439654e-05, 0.023032467461920655, 1.9984250712738026e-05, 0.00013459573144297484, 1.859336055000138e-05, 0.0018277653841021488, 4.21352278424478e-06, 3.549427637356498e-05, 6.357853594515095e-05, 6.873128862948033e-06, 1.8316524981192004e-05, 2.1483123708606792e-05, 5.219991834361899e-06, 2.630567603566309e-05, 2.6493675781863705e-06, 0.009136398000134972, 1.4304972176342188e-05, 2.213861203943481e-05, 1.79818445601243e-05, 0.16470399637021482, 0.0022636713700820437, 0.00010906460097861412, 0.00012371413404244978, 4.781040413584816e-05, 1.8177528090389545e-05, 1.2696327105426489e-05, 1.885198800395777e-05, 0.05601552220497439, 4.900783145103299e-07, 4.040407679314124e-06, 0.14445282836496895, 9.802131952335057e-06, 1.7630208474200687e-05, 3.2976829554994085e-05, 3.405744282107109e-05, 1.9737140166968463e-05, 4.242430184513802e-06, 9.037083836381659e-06, 2.525277072528041e-05, 0.026189258670453058, 7.335800847435647e-06, 0.005264255183404156, 0.0001844852931436257, 0.002730188324649383, 1.1522282036277493e-06, 4.2080536057275544e-06, 2.4242658199282013e-05, 1.7376277988060767e-05, 0.048949520086634876, 9.298162368349356e-05, 0.0005662318877113143, 8.389725261934065e-06, 3.433063179417746e-05, 2.171384351108982e-06, 3.102207945790435e-05, 0.00010100111055846874, 1.2455459479832744e-05, 1.6527969228952047e-05, 0.009091012681459745, 0.00017698769150478906, 6.439686588109045e-06, 1.2885323668253108e-05, 5.8912438052245976e-06, 3.8584836692894136e-05, 0.0002910038484228817, 0.028686337310386032, 0.00018538997506341572, 0.00048660203702011835, 0.0001120991924368031, 0.019476809291408066, 4.545463942313321e-06, 0.0005261592692429206, 1.3381098896885896e-05, 1.7127188090779335e-05, 8.112836430670049e-05, 0.0004457123454091431, 0.004961167901150851, 8.504501321182602e-06, 0.00400428929463865, 4.5630997097805847e-05, 0.030393954073733687, 4.271764361299468e-06, 7.926732120684645e-06, 2.7575706299068398e-05, 0.00030282962516929856, 4.594295543407392e-05, 0.0005969994384801132, 2.5297704851289645e-06, 4.451778025752022e-06, 8.563796965572327e-06, 2.036988677460417e-05, 1.2037052476950459e-05, 2.0652578416072097e-05, 1.6343529760993054e-06, 9.494351199405258e-06, 0.05367721313649496, 4.867022143120781e-06, 0.00023722111232582545, 0.00013528682091182336, 0.010101125217559265, 0.0001084105531460941, 0.0006503062720085249, 0.00023262778644178535, 0.00179001182933328, 0.0006448379477152089, 1.2571919087957276e-05, 0.014637555138650792, 0.00021343434893853904, 1.1365079253614639e-05, 0.00020654679617333478, 2.1897068832293194e-06, 4.2347288850128173e-07, 2.582854813272772e-05, 0.0006574303062166524, 0.0002501163979438093, 8.08585389130738e-05, 4.111329850800939e-06, 2.525277072528041e-05, 1.3927242241484136e-05, 8.5414692316889e-07, 1.1940656333233882e-06, 7.207701869161089e-05, 0.00027000068858884117, 2.761694076055857e-05, 9.902789020916682e-06, 2.2097771981660372e-05, 9.9803767842214e-06, 1.2435545813658904e-06, 3.2123011865143136e-05, 0.00014115267438470172, 1.1187210463274429e-05, 1.6178792528933295e-05, 4.448291117312275e-06, 0.0014183570665580888, 2.1282368139325502e-05, 5.149197805826263e-06, 1.1015197390448922e-05, 8.0344855378839e-07, 3.9098190658900774e-05, 7.05700742826996e-06, 8.511006126220963e-08, 1.934728117688423e-05, 0.04171211188183845, 0.010303147722758945, 7.707116164244029e-06, 0.0001372362858296267, 3.357426329493798e-05, 0.000565749793734985, 2.181772113210989e-05, 3.059040366757284e-05, 0.0786595429746288, 2.743690828304882e-06, 5.8395573826824245e-05, 1.837889033865967e-05, 8.207995617581074e-06, 8.732790637721589e-06, 5.043480425424593e-06, 3.729646421313155e-05, 7.1539706984986e-06, 5.979308337633273e-06, 1.0525074056122004e-06, 1.346740196225012e-05, 6.67218067557149e-05, 1.4309466834066776e-06, 5.458406164457927e-06, 1.5737712054640045e-05, 4.940313898388515e-06, 1.4895231528171468e-05, 0.10055984390482109, 1.946433093556512e-05, 3.108225736284029e-05, 0.0001088535904090006, 9.421410033173454e-06, 0.002121236262171949, 4.719722337372877e-06, 4.5501498543214275e-06, 5.066562179265316e-06, 0.0010706728512052078, 0.001010112483573715, 9.852346277489665e-06, 0.001010112483573715, 0.00427793913676562, 6.856000566804066e-06, 1.3772690350429755e-05, 1.8174421994387353e-05, 0.00021062444404215599, 0.01738395948703501, 0.0018859354718058039, 3.566923871543799e-05, 1.5941992995464667e-06, 1.600692920420773e-05, 1.3612153166672831e-05, 4.1015611546984553e-07, 3.5641492369034067e-05, 1.4926945321837103e-05, 3.604836854913877e-05, 1.844967422503359e-05, 2.540508306779439e-05, 1.9542239715577493e-06, 0.03113743575139919, 1.3056460389715756e-05, 7.228541424170134e-07, 2.0754263081976124e-05, 0.00020094986909566676, 0.0009054256011906719, 1.557612963693045e-05, 5.282261698557072e-05, 1.1820846886525212e-06, 8.546870974887076e-05, 2.401635291295234e-05, 0.001010112483573715, 0.015473799682463152, 5.612693724123281e-05, 0.00024502709974477395, 0.0038633621961948403, 3.5728770966557666e-06, 2.359294387236469e-05, 2.0784570290127343e-05, 4.436632647507646e-06, 9.72855332874592e-06, 0.00044076621943778455, 0.0007881005585632962, 0.0009906501697518394, 0.01812114093883431, 0.0004992386451885693, 2.3219342578744854e-05, 6.060670913522422e-05, 0.029883158141660888, 0.00040840509399131834, 7.403939145513336e-05, 0.00020340058699908338, 0.00010466971265911428, 3.859845763729668e-06, 5.1036075982334715e-06, 7.038909888132847e-05, 1.707188620667946e-05, 7.54311861724345e-05, 0.00012122572346119352, 0.010101372369569069, 0.00025455393458752805, 1.131672502832021e-06, 3.366584340752429e-06, 1.4215894737644412e-07, 0.00010101121017516, 0.0010308647636696072, 2.473553664245716e-05, 0.001133732360966037, 0.001010112483573715, 0.00010101121017516, 9.376971101068528e-06, 1.0, 0.001010112483573715, 0.002020225004830237, 1.5081994322403278e-05, 0.0009901350790514718, 7.370281500487556e-06, 1.2958228174697553e-07], \"xaxis\": \"x\", \"y\": [4.2e-11, 0.000532, 0.314159265359, 2.1e-05, 0.0, 8.4e-05, 2.2e-05, 0.0, 0.00021, 2.1e-05, 0.0036005705019999997, 0.021, 2.2e-05, 1.2499999999999999e-05, 2.1e-05, 0.00035, 1.9999999999999998e-05, 6.4e-05, 1.6768584e-05, 0.0, 0.002, 0.384, 0.000169795588, 0.00025, 9.999999999999999e-05, 0.0, 0.000247, 8.4e-05, 4.8166e-05, 5e-07, 2.1e-05, 1e-06, 1.314e-05, 1.8e-05, 0.04, 4.3799999999999996e-06, 0.016555, 0.021, 0.0135, 2.1e-05, 0.000299792458, 3.2e-05, 0.0, 0.0, 1.1235812999999999e-05, 0.000336, 0.001420609614, 7e-05, 7.22457e-05, 0.00012, 0.0, 0.0906, 2.2e-05, 2.1e-05, 0.0002654208, 1.9999999999999998e-05, 1.35e-06, 9.999999999999999e-05, 4.2e-05, 0.00019999999999999998, 0.0, 9.999999999999999e-06, 0.0024192, 1.618e-05, 0.0, 0.015, 2.1e-05, 0.000337, 0.0, 3.77e-06, 0.00042, 9.8e-05, 0.0, 2.1e-05, 0.00025, 5.12e-05, 0.0, 1e-09, 0.000888, 9.999999999999999e-05, 4.7011968e-05, 0.0023, 9.999999999999999e-06, 4.2e-05, 7.999999999999999e-05, 2.5e-07, 0.0, 0.0015999999999999999, 9.999999999999999e-05, 2.3e-05, 0.0, 8.4e-05, 0.0002654208, 5.5e-06, 0.0, 4.4999999999999996e-05, 0.0, 0.001, 0.184467440735, 0.01, 0.0021588128, 0.0005, 0.00010512, 6.8e-05, 0.0, 0.00168, 0.0, 0.000166386, 1.2e-05, 2.628e-06, 0.0005, 0.00015999999999999999, 0.0, 9.999999999999999e-06, 0.001, 0.001, 1.9999999999999998e-05, 0.0, 0.0, 3.3713369999999998e-06, 1.9999999999999998e-05, 0.01, 0.00184, 6.19478e-07, 2.1e-05, 0.092, 0.0, 7.8e-05, 3.3e-05, 6.57891e-05, 5.376e-05, 5.06e-06, 2.1e-05, 0.0, 0.00021024, 0.00025, 9.999999999999999e-05, 1.6906397e-05, 4.9999999999999996e-05, 0.0, 0.001, 2.6297999999999998e-05, 1.6e-05, 2.1e-05, 2.1e-05, 0.00021, 8.196209999999999e-05, 2.2e-05, 0.02655, 8.4e-05, 1.05e-05, 0.02162628, 0.0, 4.2e-05, 0.000221052632, 8.4e-05, 3e-05, 0.0001683513, 2.4e-05, 0.000384, 0.099, 3.9999999999999996e-05, 0.002147483647, 1.9999999999999998e-05, 1.9999999999999998e-05, 2.4999999999999998e-05, 7.5e-05, 0.000222725, 0.000525, 8.999999999999999e-05, 0.000139, 6.16448e-07, 3.35e-05, 0.002, 4.4333333e-05, 9.999999999999999e-05, 0.00019999999999999998, 2.4999999999999998e-05, 0.000657, 0.00019999999999999998, 4.9999999999999996e-05, 8.999999999999999e-05, 9.999999999999999e-06, 2.1e-05, 9.736e-06, 3e-06, 2.1e-05, 0.0012, 0.0, 0.00019999999999999998, 0.0, 1.0638297999999999e-05, 0.0031, 3e-05, 0.02, 7.4e-05, 0.0, 0.0015, 2.14e-05, 3.9999898e-05, 2.500124e-06, 9.999999999999999e-05, 0.000301, 0.007506, 2.6205539e-05, 2.1e-05, 0.000125, 3e-05, 0.01, 0.0005, 0.00085, 3.85332677707314e-06, 4.9999999999999996e-05, 3.854e-05, 4.2e-05, 0.00022799999999999999, 1.9999999999999998e-05, 6e-05, 1.9999999999999998e-05, 3.3e-05, 7.65e-05, 2.8e-05, 0.000650659833, 4.9999999999999996e-06, 2.1e-05, 0.000144, 0.032514916898, 1.3e-05, 3.315789e-06, 1.5e-05, 7.88352e-05, 2.714286e-06, 2.4999999999999998e-05, 9.999999e-06, 0.0005, 2.1e-05, 9.354e-06, 1.9999999999999998e-05, 0.09999999999999999, 2.1933333e-05, 0.000185, 5.5e-05, 0.00011, 3.36e-06, 1.4524851482699999e-05, 0.001, 1.7e-05, 0.001, 9.999999999999999e-05, 2.1e-05, 3.4426423e-05, 2.232901e-06, 9.999999999999999e-05, 3.69e-05, 0.00011, 0.004, 0.00011029002999999999, 9.999999999999999e-05, 4.8252e-05, 0.00039999999999999996, 0.0005, 2.1212121e-05, 2.86e-05, 0.001, 0.075, 3.9999999999999996e-05, 3.55204e-05, 0.002, 0.0025, 3e-05, 0.000105, 0.09, 0.0002000842, 7.2e-05, 9.999999999999999e-05, 0.000105, 0.049999999999999996, 0.0, 0.000340282367, 3e-05, 0.002, 9.999999999999999e-06, 9.999999999999999e-05, 0.00012, 9.999999999999999e-05, 1.9276799999999998e-05, 3e-05, 7.5e-05, 6e-05, 1.89e-05, 0.049999999999999996, 5.4e-05, 1.88981876216583e-05, 2.1e-05, 0.19999999999999998, 0.005, 0.0001375, 0.0011, 9.999999999999999e-05, 2.1e-05, 9.507271e-06, 1.740589119707116e-05, 0.086712634466, 0.0105, 6.1599965e-05, 0.0, 1.9999999999999998e-05, 8.4e-05, 9.999999999999999e-05, 9.999999999999999e-05, 4.8252e-05, 4.2e-06, 8.8888888e-05, 9.1388946e-05, 0.045, 2.7e-05, 0.021, 0.00039999999999999996, 0.0018, 1.5733333e-05, 2.7e-05, 2.4e-05, 2.1e-05, 0.024999999999999998, 9.999999999999999e-05, 0.0012, 6e-05, 0.00015630673271, 2.1e-05, 0.00019999999999999998, 9.999999999999999e-05, 2.1e-05, 1.4788275991e-05, 0.009, 0.00035, 4.4999999999999996e-05, 0.00028, 3.18e-05, 0.000144, 0.0005, 0.03, 0.00021, 0.00066, 0.00021, 0.08499999999999999, 1.2499999999999999e-05, 0.01, 2.7716120999999998e-05, 1.9999999999999998e-05, 0.00055, 0.000999481516, 0.049999999999999996, 0.00015, 0.004999999999, 4.9999999999999996e-05, 0.09, 1.98e-05, 2.1e-05, 0.00012, 0.0005, 6.4e-05, 0.0009, 4e-06, 2.1e-05, 2.3e-05, 2.0166e-05, 2.3e-05, 2.4999999999999998e-05, 1.618033e-06, 3e-05, 1.0, 1.66e-05, 0.000232, 0.000336, 0.01, 9.999999999999999e-05, 0.0011, 0.0007999999999999999, 0.0052, 0.00084, 3.9999999999999996e-05, 0.01840697984, 0.0005, 1.9340594e-05, 0.0002524608, 2.4999999999999998e-05, 6e-05, 0.000124, 0.001, 0.0065, 0.001, 2.1e-05, 2.4999999999999998e-05, 4.9999999999999996e-05, 3e-06, 4.9999999999999996e-06, 7e-05, 0.0005, 0.0003, 2.1e-05, 8.8e-05, 3e-05, 9.999999999999999e-05, 9.999999999999999e-05, 0.00019999999999999998, 7.999999999999999e-05, 1.84e-05, 4.4999999999999996e-05, 0.00512195122, 2.1e-05, 2.628e-05, 2.1e-05, 1.8e-05, 2.6e-05, 1.05e-05, 0.0006000005179999999, 0.00015, 0.184, 0.010199999999999999, 4.4e-05, 0.000168, 9.999999999999999e-05, 0.001, 8.4e-05, 8.999999999999999e-05, 0.092, 0.00065, 0.000100262205, 1.8081806e-05, 2.20757e-05, 2.1e-05, 2.1e-05, 8.2546564e-05, 2.1e-05, 5.151e-06, 0.01688, 5.25e-05, 9.999999999999999e-05, 2.2105263e-05, 0.001, 0.00175, 8.818888799999999e-05, 0.00021, 0.18447, 5.5e-05, 4.9999999999999996e-05, 0.00026, 0.00021, 0.0021, 0.000366, 9.999999999999999e-05, 2.4999999999999998e-05, 0.018, 0.001, 9.999999999999999e-05, 0.001, 0.0076, 4.9999999999999996e-05, 8.4e-05, 2.1e-05, 0.06999999999999999, 0.0, 0.00808, 5.4e-05, 0.00010512000144, 2.5228799999999998e-05, 0.000105, 2.1e-05, 0.00012, 2.1e-05, 0.0002628, 1.9035999e-05, 3.0886e-05, 1.3369999999999999e-05, 0.0748, 9.999999999999999e-05, 1.97e-05, 8.4e-05, 0.0005, 0.005, 0.00042, 6.4e-05, 2.1e-06, 0.000168, 3e-05, 0.001, 0.034999999999999996, 0.09809999999999999, 0.0, 0.004, 0.00019999999999999998, 0.007, 5.4256118999999996e-05, 2.1e-05, 0.0, 0.0005, 0.001, 0.0105, 0.00018999999999999998, 0.001, 4.2e-05, 1.5e-05, 0.049999999999999996, 0.00039999999999999996, 0.000105, 0.000208, 0.00015999999999999999, 9e-06, 4.9999999999999996e-06, 0.000182, 1.6504333e-05, 0.000105, 0.0001599184, 0.010008835635, 0.0003, 6.0168145e-05, 2.8e-06, 1.2e-07, 0.0021, 0.0, 2.4487944e-05, 0.0, 0.001, 9.999999999999999e-05, 8.63414e-06, 0.99, 0.001, 0.002, 0.00025, 0.00140022261, 2.1e-05, 1e-06], \"yaxis\": \"y\"}],                        {\"legend\": {\"tracegroupgap\": 0}, \"margin\": {\"t\": 60}, \"template\": {\"data\": {\"bar\": [{\"error_x\": {\"color\": \"#2a3f5f\"}, \"error_y\": {\"color\": \"#2a3f5f\"}, \"marker\": {\"line\": {\"color\": \"#E5ECF6\", \"width\": 0.5}}, \"type\": \"bar\"}], \"barpolar\": [{\"marker\": {\"line\": {\"color\": \"#E5ECF6\", \"width\": 0.5}}, \"type\": \"barpolar\"}], \"carpet\": [{\"aaxis\": {\"endlinecolor\": \"#2a3f5f\", \"gridcolor\": \"white\", \"linecolor\": \"white\", \"minorgridcolor\": \"white\", \"startlinecolor\": \"#2a3f5f\"}, \"baxis\": {\"endlinecolor\": \"#2a3f5f\", \"gridcolor\": \"white\", \"linecolor\": \"white\", \"minorgridcolor\": \"white\", \"startlinecolor\": \"#2a3f5f\"}, \"type\": \"carpet\"}], \"choropleth\": [{\"colorbar\": {\"outlinewidth\": 0, \"ticks\": \"\"}, \"type\": \"choropleth\"}], \"contour\": [{\"colorbar\": {\"outlinewidth\": 0, \"ticks\": \"\"}, \"colorscale\": [[0.0, \"#0d0887\"], [0.1111111111111111, \"#46039f\"], [0.2222222222222222, \"#7201a8\"], [0.3333333333333333, \"#9c179e\"], [0.4444444444444444, \"#bd3786\"], [0.5555555555555556, \"#d8576b\"], [0.6666666666666666, \"#ed7953\"], [0.7777777777777778, \"#fb9f3a\"], [0.8888888888888888, \"#fdca26\"], [1.0, \"#f0f921\"]], \"type\": \"contour\"}], \"contourcarpet\": [{\"colorbar\": {\"outlinewidth\": 0, \"ticks\": \"\"}, \"type\": \"contourcarpet\"}], \"heatmap\": [{\"colorbar\": {\"outlinewidth\": 0, \"ticks\": \"\"}, \"colorscale\": [[0.0, \"#0d0887\"], [0.1111111111111111, \"#46039f\"], [0.2222222222222222, \"#7201a8\"], [0.3333333333333333, \"#9c179e\"], [0.4444444444444444, \"#bd3786\"], [0.5555555555555556, \"#d8576b\"], [0.6666666666666666, \"#ed7953\"], [0.7777777777777778, \"#fb9f3a\"], [0.8888888888888888, \"#fdca26\"], [1.0, \"#f0f921\"]], \"type\": \"heatmap\"}], \"heatmapgl\": [{\"colorbar\": {\"outlinewidth\": 0, \"ticks\": \"\"}, \"colorscale\": [[0.0, \"#0d0887\"], [0.1111111111111111, \"#46039f\"], [0.2222222222222222, \"#7201a8\"], [0.3333333333333333, \"#9c179e\"], [0.4444444444444444, \"#bd3786\"], [0.5555555555555556, \"#d8576b\"], [0.6666666666666666, \"#ed7953\"], [0.7777777777777778, \"#fb9f3a\"], [0.8888888888888888, \"#fdca26\"], [1.0, \"#f0f921\"]], \"type\": \"heatmapgl\"}], \"histogram\": [{\"marker\": {\"colorbar\": {\"outlinewidth\": 0, \"ticks\": \"\"}}, \"type\": \"histogram\"}], \"histogram2d\": [{\"colorbar\": {\"outlinewidth\": 0, \"ticks\": \"\"}, \"colorscale\": [[0.0, \"#0d0887\"], [0.1111111111111111, \"#46039f\"], [0.2222222222222222, \"#7201a8\"], [0.3333333333333333, \"#9c179e\"], [0.4444444444444444, \"#bd3786\"], [0.5555555555555556, \"#d8576b\"], [0.6666666666666666, \"#ed7953\"], [0.7777777777777778, \"#fb9f3a\"], [0.8888888888888888, \"#fdca26\"], [1.0, \"#f0f921\"]], \"type\": \"histogram2d\"}], \"histogram2dcontour\": [{\"colorbar\": {\"outlinewidth\": 0, \"ticks\": \"\"}, \"colorscale\": [[0.0, \"#0d0887\"], [0.1111111111111111, \"#46039f\"], [0.2222222222222222, \"#7201a8\"], [0.3333333333333333, \"#9c179e\"], [0.4444444444444444, \"#bd3786\"], [0.5555555555555556, \"#d8576b\"], [0.6666666666666666, \"#ed7953\"], [0.7777777777777778, \"#fb9f3a\"], [0.8888888888888888, \"#fdca26\"], [1.0, \"#f0f921\"]], \"type\": \"histogram2dcontour\"}], \"mesh3d\": [{\"colorbar\": {\"outlinewidth\": 0, \"ticks\": \"\"}, \"type\": \"mesh3d\"}], \"parcoords\": [{\"line\": {\"colorbar\": {\"outlinewidth\": 0, \"ticks\": \"\"}}, \"type\": \"parcoords\"}], \"pie\": [{\"automargin\": true, \"type\": \"pie\"}], \"scatter\": [{\"marker\": {\"colorbar\": {\"outlinewidth\": 0, \"ticks\": \"\"}}, \"type\": \"scatter\"}], \"scatter3d\": [{\"line\": {\"colorbar\": {\"outlinewidth\": 0, \"ticks\": \"\"}}, \"marker\": {\"colorbar\": {\"outlinewidth\": 0, \"ticks\": \"\"}}, \"type\": \"scatter3d\"}], \"scattercarpet\": [{\"marker\": {\"colorbar\": {\"outlinewidth\": 0, \"ticks\": \"\"}}, \"type\": \"scattercarpet\"}], \"scattergeo\": [{\"marker\": {\"colorbar\": {\"outlinewidth\": 0, \"ticks\": \"\"}}, \"type\": \"scattergeo\"}], \"scattergl\": [{\"marker\": {\"colorbar\": {\"outlinewidth\": 0, \"ticks\": \"\"}}, \"type\": \"scattergl\"}], \"scattermapbox\": [{\"marker\": {\"colorbar\": {\"outlinewidth\": 0, \"ticks\": \"\"}}, \"type\": \"scattermapbox\"}], \"scatterpolar\": [{\"marker\": {\"colorbar\": {\"outlinewidth\": 0, \"ticks\": \"\"}}, \"type\": \"scatterpolar\"}], \"scatterpolargl\": [{\"marker\": {\"colorbar\": {\"outlinewidth\": 0, \"ticks\": \"\"}}, \"type\": \"scatterpolargl\"}], \"scatterternary\": [{\"marker\": {\"colorbar\": {\"outlinewidth\": 0, \"ticks\": \"\"}}, \"type\": \"scatterternary\"}], \"surface\": [{\"colorbar\": {\"outlinewidth\": 0, \"ticks\": \"\"}, \"colorscale\": [[0.0, \"#0d0887\"], [0.1111111111111111, \"#46039f\"], [0.2222222222222222, \"#7201a8\"], [0.3333333333333333, \"#9c179e\"], [0.4444444444444444, \"#bd3786\"], [0.5555555555555556, \"#d8576b\"], [0.6666666666666666, \"#ed7953\"], [0.7777777777777778, \"#fb9f3a\"], [0.8888888888888888, \"#fdca26\"], [1.0, \"#f0f921\"]], \"type\": \"surface\"}], \"table\": [{\"cells\": {\"fill\": {\"color\": \"#EBF0F8\"}, \"line\": {\"color\": \"white\"}}, \"header\": {\"fill\": {\"color\": \"#C8D4E3\"}, \"line\": {\"color\": \"white\"}}, \"type\": \"table\"}]}, \"layout\": {\"annotationdefaults\": {\"arrowcolor\": \"#2a3f5f\", \"arrowhead\": 0, \"arrowwidth\": 1}, \"autotypenumbers\": \"strict\", \"coloraxis\": {\"colorbar\": {\"outlinewidth\": 0, \"ticks\": \"\"}}, \"colorscale\": {\"diverging\": [[0, \"#8e0152\"], [0.1, \"#c51b7d\"], [0.2, \"#de77ae\"], [0.3, \"#f1b6da\"], [0.4, \"#fde0ef\"], [0.5, \"#f7f7f7\"], [0.6, \"#e6f5d0\"], [0.7, \"#b8e186\"], [0.8, \"#7fbc41\"], [0.9, \"#4d9221\"], [1, \"#276419\"]], \"sequential\": [[0.0, \"#0d0887\"], [0.1111111111111111, \"#46039f\"], [0.2222222222222222, \"#7201a8\"], [0.3333333333333333, \"#9c179e\"], [0.4444444444444444, \"#bd3786\"], [0.5555555555555556, \"#d8576b\"], [0.6666666666666666, \"#ed7953\"], [0.7777777777777778, \"#fb9f3a\"], [0.8888888888888888, \"#fdca26\"], [1.0, \"#f0f921\"]], \"sequentialminus\": [[0.0, \"#0d0887\"], [0.1111111111111111, \"#46039f\"], [0.2222222222222222, \"#7201a8\"], [0.3333333333333333, \"#9c179e\"], [0.4444444444444444, \"#bd3786\"], [0.5555555555555556, \"#d8576b\"], [0.6666666666666666, \"#ed7953\"], [0.7777777777777778, \"#fb9f3a\"], [0.8888888888888888, \"#fdca26\"], [1.0, \"#f0f921\"]]}, \"colorway\": [\"#636efa\", \"#EF553B\", \"#00cc96\", \"#ab63fa\", \"#FFA15A\", \"#19d3f3\", \"#FF6692\", \"#B6E880\", \"#FF97FF\", \"#FECB52\"], \"font\": {\"color\": \"#2a3f5f\"}, \"geo\": {\"bgcolor\": \"white\", \"lakecolor\": \"white\", \"landcolor\": \"#E5ECF6\", \"showlakes\": true, \"showland\": true, \"subunitcolor\": \"white\"}, \"hoverlabel\": {\"align\": \"left\"}, \"hovermode\": \"closest\", \"mapbox\": {\"style\": \"light\"}, \"paper_bgcolor\": \"white\", \"plot_bgcolor\": \"#E5ECF6\", \"polar\": {\"angularaxis\": {\"gridcolor\": \"white\", \"linecolor\": \"white\", \"ticks\": \"\"}, \"bgcolor\": \"#E5ECF6\", \"radialaxis\": {\"gridcolor\": \"white\", \"linecolor\": \"white\", \"ticks\": \"\"}}, \"scene\": {\"xaxis\": {\"backgroundcolor\": \"#E5ECF6\", \"gridcolor\": \"white\", \"gridwidth\": 2, \"linecolor\": \"white\", \"showbackground\": true, \"ticks\": \"\", \"zerolinecolor\": \"white\"}, \"yaxis\": {\"backgroundcolor\": \"#E5ECF6\", \"gridcolor\": \"white\", \"gridwidth\": 2, \"linecolor\": \"white\", \"showbackground\": true, \"ticks\": \"\", \"zerolinecolor\": \"white\"}, \"zaxis\": {\"backgroundcolor\": \"#E5ECF6\", \"gridcolor\": \"white\", \"gridwidth\": 2, \"linecolor\": \"white\", \"showbackground\": true, \"ticks\": \"\", \"zerolinecolor\": \"white\"}}, \"shapedefaults\": {\"line\": {\"color\": \"#2a3f5f\"}}, \"ternary\": {\"aaxis\": {\"gridcolor\": \"white\", \"linecolor\": \"white\", \"ticks\": \"\"}, \"baxis\": {\"gridcolor\": \"white\", \"linecolor\": \"white\", \"ticks\": \"\"}, \"bgcolor\": \"#E5ECF6\", \"caxis\": {\"gridcolor\": \"white\", \"linecolor\": \"white\", \"ticks\": \"\"}}, \"title\": {\"x\": 0.05}, \"xaxis\": {\"automargin\": true, \"gridcolor\": \"white\", \"linecolor\": \"white\", \"ticks\": \"\", \"title\": {\"standoff\": 15}, \"zerolinecolor\": \"white\", \"zerolinewidth\": 2}, \"yaxis\": {\"automargin\": true, \"gridcolor\": \"white\", \"linecolor\": \"white\", \"ticks\": \"\", \"title\": {\"standoff\": 15}, \"zerolinecolor\": \"white\", \"zerolinewidth\": 2}}}, \"xaxis\": {\"anchor\": \"y\", \"domain\": [0.0, 1.0], \"title\": {\"text\": \"TotalCoinsMined\"}}, \"yaxis\": {\"anchor\": \"x\", \"domain\": [0.0, 1.0], \"title\": {\"text\": \"TotalCoinSupply\"}}},                        {\"responsive\": true}                    ).then(function(){\n",
       "                            \n",
       "var gd = document.getElementById('0e25c71e-b440-4b2e-acf7-2fed60ebff95');\n",
       "var x = new MutationObserver(function (mutations, observer) {{\n",
       "        var display = window.getComputedStyle(gd).display;\n",
       "        if (!display || display === 'none') {{\n",
       "            console.log([gd, 'removed!']);\n",
       "            Plotly.purge(gd);\n",
       "            observer.disconnect();\n",
       "        }}\n",
       "}});\n",
       "\n",
       "// Listen for the removal of the full notebook cells\n",
       "var notebookContainer = gd.closest('#notebook-container');\n",
       "if (notebookContainer) {{\n",
       "    x.observe(notebookContainer, {childList: true});\n",
       "}}\n",
       "\n",
       "// Listen for the clearing of the current output cell\n",
       "var outputEl = gd.closest('.output');\n",
       "if (outputEl) {{\n",
       "    x.observe(outputEl, {childList: true});\n",
       "}}\n",
       "\n",
       "                        })                };                });            </script>        </div>"
      ]
     },
     "metadata": {},
     "output_type": "display_data"
    }
   ],
   "source": [
    "# Create a hvplot.scatter plot using x=\"TotalCoinsMined\" and y=\"TotalCoinSupply\".\n",
    "# YOUR CODE HERE\n",
    "fig = px.scatter(scaled_df,x=\"TotalCoinsMined\",y='TotalCoinSupply',hover_name=\"CoinName\")\n",
    "fig.show()"
   ]
  },
  {
   "cell_type": "code",
   "execution_count": null,
   "metadata": {},
   "outputs": [],
   "source": []
  }
 ],
 "metadata": {
  "file_extension": ".py",
  "kernelspec": {
   "display_name": "Python 3",
   "language": "python",
   "name": "python3"
  },
  "language_info": {
   "codemirror_mode": {
    "name": "ipython",
    "version": 3
   },
   "file_extension": ".py",
   "mimetype": "text/x-python",
   "name": "python",
   "nbconvert_exporter": "python",
   "pygments_lexer": "ipython3",
   "version": "3.8.3"
  },
  "latex_envs": {
   "LaTeX_envs_menu_present": true,
   "autoclose": false,
   "autocomplete": true,
   "bibliofile": "biblio.bib",
   "cite_by": "apalike",
   "current_citInitial": 1,
   "eqLabelWithNumbers": true,
   "eqNumInitial": 1,
   "hotkeys": {
    "equation": "Ctrl-E",
    "itemize": "Ctrl-I"
   },
   "labels_anchors": false,
   "latex_user_defs": false,
   "report_style_numbering": false,
   "user_envs_cfg": false
  },
  "mimetype": "text/x-python",
  "name": "python",
  "npconvert_exporter": "python",
  "pygments_lexer": "ipython3",
  "version": 3
 },
 "nbformat": 4,
 "nbformat_minor": 2
}
